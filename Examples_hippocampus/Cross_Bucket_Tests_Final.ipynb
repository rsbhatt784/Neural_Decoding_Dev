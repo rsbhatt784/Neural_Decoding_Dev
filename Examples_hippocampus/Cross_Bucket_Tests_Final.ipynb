{
 "cells": [
  {
   "cell_type": "markdown",
   "metadata": {},
   "source": [
    "## Cross-Bucket Tests on all Acc/Dec and Random Fragments Kalman Filter"
   ]
  },
  {
   "cell_type": "markdown",
   "metadata": {},
   "source": [
    "### Part A: (1) Import Fragment Data from MATLAB, (2) Save Them in a .pickle file, and (3) Load Them In\n",
    "\n",
    "###### (HOWEVER, YOU DON'T NEED TO LOAD THEM IN AGAIN SINCE STEP 1 ALREADY DOES THAT FOR YOU!)"
   ]
  },
  {
   "cell_type": "code",
   "execution_count": 1,
   "metadata": {},
   "outputs": [],
   "source": [
    "## (Configuration) Allows you to return multiple variables from a single cell ##\n",
    "from IPython.core.interactiveshell import InteractiveShell\n",
    "InteractiveShell.ast_node_interactivity = 'all'\n",
    "\n",
    "## Allows you to import files from another folder in current directory ## \n",
    "import os \n",
    "import sys \n",
    "module_path = os.path.abspath(os.path.join('..'))\n",
    "if module_path not in sys.path:\n",
    "    sys.path.append(module_path)"
   ]
  },
  {
   "cell_type": "code",
   "execution_count": 2,
   "metadata": {},
   "outputs": [
    {
     "name": "stdout",
     "output_type": "stream",
     "text": [
      "\n",
      "WARNING: statsmodels is not installed. You will be unable to use the Naive Bayes Decoder\n",
      "\n",
      "WARNING: Xgboost package is not installed. You will be unable to use the xgboost decoder\n",
      "\n",
      "WARNING: Keras package is not installed. You will be unable to use all neural net decoders\n"
     ]
    }
   ],
   "source": [
    "#Import standard packages\n",
    "import numpy as np\n",
    "import matplotlib.pyplot as plt\n",
    "%matplotlib inline\n",
    "from scipy import io\n",
    "from scipy import stats\n",
    "import pickle\n",
    "import sys\n",
    "\n",
    "#Import metrics\n",
    "from Neural_Decoding.metrics import get_R2\n",
    "from Neural_Decoding.metrics import get_rho\n",
    "from Neural_Decoding.metrics import get_R2_parts\n",
    "\n",
    "#Import decoder functions\n",
    "from Neural_Decoding.decoders import KalmanFilterDecoder"
   ]
  },
  {
   "cell_type": "markdown",
   "metadata": {},
   "source": [
    "### Part B: Preprocessing Decoder Data"
   ]
  },
  {
   "cell_type": "code",
   "execution_count": 3,
   "metadata": {},
   "outputs": [],
   "source": [
    "## Import Data ##\n",
    "# We'll load in position data and derive velocity and acceleration from it \n",
    "\n",
    "# Specify Fragment Types to be used for this anaylsis \n",
    "frag_type = ['AD', 'Rand'] \n",
    "# Specify folder where MATLAB data is stored\n",
    "folder = '/Users/rbhatt6/Documents/MATLAB/' \n",
    "\n",
    " #locals()[\"sortIn\"+frag_type[i]] = io.loadmat(folder+'cleanedSortIn.mat')\n",
    "for i in range(len(frag_type)):\n",
    "    input = \"sortIn_\"+frag_type[i]\n",
    "    locals()[input] = io.loadmat(folder + input + '.mat')\n",
    "\n",
    "    output = \"sortOut_\" + frag_type[i]\n",
    "    locals()[output] = io.loadmat(folder + output + '.mat')\n",
    "\n",
    "    locals()[input] = np.squeeze(list(locals()[input].values())[3])\n",
    "    locals()[output] = np.squeeze(list(locals()[output].values())[3])"
   ]
  },
  {
   "cell_type": "code",
   "execution_count": 4,
   "metadata": {},
   "outputs": [],
   "source": [
    "## Format Kinematics Data (outputs) ##\n",
    "# For the Kalman filter, we use the position, velocity, and acceleration as outputs.\n",
    "# Ultimately, we are only concerned with the goodness of fit of velocity, but using them all as covariates helps performance.\n",
    "\n",
    "for i in range(len(frag_type)):\n",
    "    # Pulling local variables into new, temp variables\n",
    "    output = locals()[\"sortOut_\"+frag_type[i]]\n",
    "    \n",
    "    # Creating a local variable for each decoder_output\n",
    "    decoder_output = \"decoder_output_\" + frag_type[i]\n",
    "    locals()[decoder_output] = []\n",
    "\n",
    "    for j in range(len(output)): # Number of buckets (i.e. 16 or 8)\n",
    "        nFrags = output[j][0].shape[0]\n",
    "        temp2 = []\n",
    "        for k in range(0, nFrags, 1): # Number of fragments #output[0][0].shape[0]\n",
    "            vel_X = float(output[j][0][k])\n",
    "            vel_Y = float(output[j][1][k])\n",
    "            acc_X = float(output[j][2][k])\n",
    "            acc_Y = float(output[j][3][k])\n",
    "            pos_X = float(output[j][4][k])\n",
    "            pos_Y = float(output[j][5][k])\n",
    "            temp = [vel_X, vel_Y, acc_X, acc_Y, pos_X, pos_Y]\n",
    "            temp2.append(np.array(temp))\n",
    "            #locals()[decoder_output][j][k].append(np.array(temp))\n",
    "        #locals()[decoder_output][j].append(np.array(temp2))\n",
    "        locals()[decoder_output].append(np.array(temp2))\n",
    "        #temp = np.array(np.concatenate((vel_X, vel_Y, acc_X, acc_Y, outputX[j], outputY[j]),axis=1))"
   ]
  },
  {
   "cell_type": "markdown",
   "metadata": {},
   "source": [
    "### Part C: Partitioning and Running the Kalman Filter on the Same Buckets "
   ]
  },
  {
   "cell_type": "code",
   "execution_count": 5,
   "metadata": {},
   "outputs": [],
   "source": [
    "#Set what part of data should be part of the training/testing/validation sets\n",
    "training_range=[0, 0.85]\n",
    "valid_range=[0.85,0.99]\n",
    "testing_range=[0.99, 1]"
   ]
  },
  {
   "cell_type": "code",
   "execution_count": null,
   "metadata": {},
   "outputs": [],
   "source": [
    "# (OLD) CROSS-VALIDATED WITHIN-BUCKET TEST (currently for one bucket only)\n",
    "# Doing a 10-fold cross validation procedure \n",
    "#from Neural_Decoding.runModelsKF import run_model_kf_cv\n",
    "\n",
    "idx_list = [0,1,2,3,4,5,6,7,8,9]\n",
    "X_split = np.array_split(sortIn_AD[0], 10)\n",
    "y_split = np.array_split(sortOut_AD[0], 10)\n",
    "\n",
    "# Splitting data for a single bucket into 10 folds - (j) is the left-out fold for testing\n",
    "for j in range(0,10):\n",
    "   test_idx = j\n",
    "   train_idx = idx_list.copy()\n",
    "   train_idx.pop(j)\n",
    "\n",
    "   # Index the list of indices to create a list of np ndarrays for training (9 arrays) and testing (1 array)\n",
    "   X_train = [X_split[i] for i in train_idx]\n",
    "   X_test = X_split[j]\n",
    "   y_train = [y_split[i] for i in train_idx]\n",
    "   y_test = y_split[j]\n",
    "\n",
    "   # Concatenate the list of 9 arrays for the training sets \n",
    "   X_train = np.concatenate(X_train, axis=0)\n",
    "   y_train = np.concatenate(y_train, axis=0)"
   ]
  },
  {
   "cell_type": "code",
   "execution_count": null,
   "metadata": {},
   "outputs": [],
   "source": [
    "# (NEW) CROSS-VALIDATED WITHIN-BUCKET TEST (for all 16 buckets)\n",
    "# Doing a 10-fold cross validation procedure\n",
    "\n",
    "# for loop through 10 folds then 16 buckets\n",
    "\n",
    "for i in range(len(frag_type)):\n",
    "\n",
    "   # Pulling local variables \n",
    "   input = locals()[\"sortIn_\"+frag_type[i]]\n",
    "   output = locals()[\"decoder_output_\"+frag_type[i]]\n",
    "\n",
    "   # Creating a local variable to hold final training and testing data \n",
    "   final_X_train = \"final_X_train_\" + frag_type[i]\n",
    "   final_y_train = \"final_y_train_\" + frag_type[i]\n",
    "   final_X_test = \"final_X_test_\" + frag_type[i]\n",
    "   final_y_test = \"final_y_test_\" + frag_type[i]\n",
    "   locals()[final_X_train] = []\n",
    "   locals()[final_y_train] = []\n",
    "   locals()[final_X_test] = []\n",
    "   locals()[final_y_test] = []\n",
    "\n",
    "   idx_list = [0,1,2,3,4,5,6,7,8,9]\n",
    "   # final_X_train = []\n",
    "   # final_y_train = []\n",
    "   # final_X_test = []\n",
    "   # final_y_test = []\n",
    "\n",
    "   # Splitting data for a single bucket into 10 folds - (j) is the left-out fold for testing\n",
    "   for j in range(0,10):\n",
    "      test_idx = j\n",
    "      train_idx = idx_list.copy()\n",
    "      train_idx.pop(j)\n",
    "\n",
    "      temp_X_train = []\n",
    "      temp_y_train = []\n",
    "      temp_X_test = []\n",
    "      temp_y_test = []\n",
    "      \n",
    "      for k in range(len(input)):\n",
    "         X_split = np.array_split(input[k], 10)\n",
    "         y_split = np.array_split(output[k], 10)\n",
    "\n",
    "         # Index the list of indices to create a list of np ndarrays for training (9 arrays) and testing (1 array)\n",
    "         X_train = [X_split[i] for i in train_idx]\n",
    "         X_test = X_split[j]\n",
    "         y_train = [y_split[i] for i in train_idx]\n",
    "         y_test = y_split[j]\n",
    "\n",
    "         # Concatenate the list of 9 arrays for the training sets \n",
    "         X_train = np.concatenate(X_train, axis=0)\n",
    "         y_train = np.concatenate(y_train, axis=0)\n",
    "         \n",
    "         temp_X_train.append(X_train)\n",
    "         temp_y_train.append(y_train)\n",
    "         temp_X_test.append(X_test)\n",
    "         temp_y_test.append(y_test)\n",
    "\n",
    "      locals()[final_X_train].append(temp_X_train)\n",
    "      locals()[final_y_train].append(temp_y_train)\n",
    "      locals()[final_X_test].append(temp_X_test)\n",
    "      locals()[final_y_test].append(temp_y_test)"
   ]
  },
  {
   "cell_type": "code",
   "execution_count": 7,
   "metadata": {},
   "outputs": [],
   "source": [
    "# (NEW) Within-Bucket Test with 10-fold Cross-Validation \n",
    "from Neural_Decoding.runModelsKF import run_model_kf_cv\n",
    "\n",
    "for i in range(len(frag_type)):\n",
    "\n",
    "    # Pulling local variables \n",
    "    frag_X_train =  locals()[\"final_X_train_\" + frag_type[i]]\n",
    "    frag_y_train = locals()[\"final_y_train_\" + frag_type[i]]\n",
    "    frag_X_test = locals()[\"final_X_test_\" + frag_type[i]]\n",
    "    frag_y_test = locals()[\"final_y_test_\" + frag_type[i]]\n",
    "\n",
    "    # Creating a local variable to hold predicted outputs for each frag type AND their trained models\n",
    "    parts = \"pred_parts_\" + frag_type[i]\n",
    "    models = \"models_\" + frag_type[i]\n",
    "    locals()[parts] = []\n",
    "    locals()[models] = []\n",
    "\n",
    "    for cross in range(0,10):\n",
    "        X_train = frag_X_train[cross]\n",
    "        y_train = frag_y_train[cross]\n",
    "        X_test = frag_X_test[cross]\n",
    "        y_test = frag_y_test[cross]\n",
    "        \n",
    "        curr_R2s, curr_models = run_model_kf_cv(X_train, y_train, X_test,y_test, \"parts\")\n",
    "        locals()[parts].append(curr_R2s)\n",
    "        locals()[models].append(curr_models)\n",
    "\n",
    "\n",
    "# len(within_bucket_R2s) # 10\n",
    "# len(within_bucket_R2s[0]) # 16\n",
    "# within_bucket_R2s[0][0] # each fold has R2s (vel,pos,acc) for each of the 16 buckets"
   ]
  },
  {
   "cell_type": "code",
   "execution_count": 8,
   "metadata": {},
   "outputs": [],
   "source": [
    "# (NEW) Compute Within-Bucket combined XY_FVAF \n",
    "# For velocity only, although all kinematic variables should be used for model-fitting and predicted for.\n",
    "from Neural_Decoding.metrics import compute_XY_FVAF\n",
    "\n",
    "# 'pred_parts_AD' was thankfully also a list of arrays containing the R2s\n",
    "\n",
    "for i in range(len(frag_type)):\n",
    "\n",
    "    # Pulling local variables (computed R2s for parts)\n",
    "    R2s_parts = locals()[\"pred_parts_\" + frag_type[i]]\n",
    "\n",
    "    # Creating a local variable to hold final XY_FVAFs\n",
    "    XY_FVAFs = \"XY_FVAFs_\" + frag_type[i]\n",
    "    locals()[XY_FVAFs] = []\n",
    "\n",
    "    for j in range(0,10):\n",
    "        curr_fold = R2s_parts[j]\n",
    "\n",
    "        curr_fold_XY_FVAFs = []\n",
    "        for k in range(0,16):\n",
    "            #curr_bucket = Kalman_R2s_combined[i]\n",
    "            vel_x_nom = curr_fold[k][0][0] # dim = (curr_bucket, nom, x_vel)\n",
    "            vel_x_denom = curr_fold[k][1][0] # dim = (curr_bucket, denom, x_vel)\n",
    "            vel_y_nom = curr_fold[k][0][1] # dim = (curr_bucket, nom, y_vel)\n",
    "            vel_y_denom = curr_fold[k][1][1] # dim = (curr_bucket, denom, y_vel)\n",
    "\n",
    "            XY_FVAF = compute_XY_FVAF(vel_x_nom,vel_x_denom,vel_y_nom,vel_y_denom)\n",
    "            curr_fold_XY_FVAFs.append(XY_FVAF)\n",
    "\n",
    "        locals()[XY_FVAFs].append(curr_fold_XY_FVAFs)"
   ]
  },
  {
   "cell_type": "code",
   "execution_count": 9,
   "metadata": {},
   "outputs": [
    {
     "data": {
      "text/plain": [
       "10"
      ]
     },
     "execution_count": 9,
     "metadata": {},
     "output_type": "execute_result"
    },
    {
     "data": {
      "text/plain": [
       "16"
      ]
     },
     "execution_count": 9,
     "metadata": {},
     "output_type": "execute_result"
    }
   ],
   "source": [
    "len(XY_FVAFs_Rand)\n",
    "len(XY_FVAFs_Rand[0])"
   ]
  },
  {
   "cell_type": "code",
   "execution_count": 10,
   "metadata": {},
   "outputs": [
    {
     "ename": "TypeError",
     "evalue": "object of type 'method' has no len()",
     "output_type": "error",
     "traceback": [
      "\u001b[0;31m---------------------------------------------------------------------------\u001b[0m",
      "\u001b[0;31mTypeError\u001b[0m                                 Traceback (most recent call last)",
      "\u001b[1;32m/Users/rbhatt6/Documents/MATLAB/Neural_Decoding_Dev/Examples_hippocampus/Cross_Bucket_Tests_Final.ipynb Cell 15'\u001b[0m in \u001b[0;36m<cell line: 4>\u001b[0;34m()\u001b[0m\n\u001b[1;32m     <a href='vscode-notebook-cell:/Users/rbhatt6/Documents/MATLAB/Neural_Decoding_Dev/Examples_hippocampus/Cross_Bucket_Tests_Final.ipynb#X52sZmlsZQ%3D%3D?line=28'>29</a>\u001b[0m \u001b[39mlocals\u001b[39m()[complete_opposite]\u001b[39m.\u001b[39mappend(complete_opposite_bucket_test_cv(curr_models, curr_X_test, curr_y_test, \u001b[39m\"\u001b[39m\u001b[39mparts\u001b[39m\u001b[39m\"\u001b[39m, frag_type[i]))\n\u001b[1;32m     <a href='vscode-notebook-cell:/Users/rbhatt6/Documents/MATLAB/Neural_Decoding_Dev/Examples_hippocampus/Cross_Bucket_Tests_Final.ipynb#X52sZmlsZQ%3D%3D?line=29'>30</a>\u001b[0m \u001b[39mlocals\u001b[39m()[opposite_direction]\u001b[39m.\u001b[39mappend(opposite_direction_test_cv(curr_models, curr_X_test, curr_y_test, \u001b[39m\"\u001b[39m\u001b[39mparts\u001b[39m\u001b[39m\"\u001b[39m, frag_type[i]))\n\u001b[0;32m---> <a href='vscode-notebook-cell:/Users/rbhatt6/Documents/MATLAB/Neural_Decoding_Dev/Examples_hippocampus/Cross_Bucket_Tests_Final.ipynb#X52sZmlsZQ%3D%3D?line=30'>31</a>\u001b[0m \u001b[39mlocals\u001b[39m()[cross_buckets]\u001b[39m.\u001b[39mappend(cross_buckets_test_cv(curr_models, curr_X_test, curr_y_test, \u001b[39m\"\u001b[39;49m\u001b[39mparts\u001b[39;49m\u001b[39m\"\u001b[39;49m))\n",
      "File \u001b[0;32m~/Documents/MATLAB/Neural_Decoding_Dev/Neural_Decoding/runModelsKF.py:184\u001b[0m, in \u001b[0;36mcross_buckets_test_cv\u001b[0;34m(models, X_test, y_test, type_of_R2)\u001b[0m\n\u001b[1;32m    179\u001b[0m \u001b[39mdef\u001b[39;00m \u001b[39mcross_buckets_test_cv\u001b[39m(models, X_test, y_test, type_of_R2):\n\u001b[1;32m    180\u001b[0m     \u001b[39m\"\"\"\u001b[39;00m\n\u001b[1;32m    181\u001b[0m \u001b[39m    (SIKE) Just need X_valid and y_valid from the cross-bucket in order to predict its kinematics using model trained on the other bucket.\u001b[39;00m\n\u001b[1;32m    182\u001b[0m \u001b[39m    \"\"\"\u001b[39;00m\n\u001b[0;32m--> 184\u001b[0m     XY_FVAF \u001b[39m=\u001b[39m [[] \u001b[39mfor\u001b[39;00m i \u001b[39min\u001b[39;00m \u001b[39mrange\u001b[39m(\u001b[39mlen\u001b[39;49m(\u001b[39minput\u001b[39;49m))]\n\u001b[1;32m    185\u001b[0m     Nomen \u001b[39m=\u001b[39m [[] \u001b[39mfor\u001b[39;00m i \u001b[39min\u001b[39;00m \u001b[39mrange\u001b[39m(\u001b[39mlen\u001b[39m(\u001b[39minput\u001b[39m))]\n\u001b[1;32m    186\u001b[0m     Denom \u001b[39m=\u001b[39m [[] \u001b[39mfor\u001b[39;00m i \u001b[39min\u001b[39;00m \u001b[39mrange\u001b[39m(\u001b[39mlen\u001b[39m(\u001b[39minput\u001b[39m))]\n",
      "\u001b[0;31mTypeError\u001b[0m: object of type 'method' has no len()"
     ]
    }
   ],
   "source": [
    "# (NEW) Opposite-polarity, Opposite-direction, Complete-opposite and Full cross-bucket tests\n",
    "from Neural_Decoding.runModelsKF import opposite_polarity_test_cv, complete_opposite_bucket_test_cv, opposite_direction_test_cv, cross_buckets_test_cv\n",
    "\n",
    "for i in range(len(frag_type)):\n",
    "\n",
    "    # Pulling local variables \n",
    "    frag_X_test = locals()[\"final_X_test_\" + frag_type[i]]\n",
    "    frag_y_test = locals()[\"final_y_test_\" + frag_type[i]]\n",
    "    models = locals()[\"models_\" + frag_type[i]]\n",
    "\n",
    "    # Creating a local variable to hold FVAFs\n",
    "    opposite_polarity = \"opposite_polarity_FVAFs_\" + frag_type[i]\n",
    "    opposite_direction = \"opposite_direction_FVAFs_\" + frag_type[i]\n",
    "    complete_opposite = \"complete_opposite_FVAFs_\" + frag_type[i]\n",
    "    cross_buckets = \"cross_buckets_FVAFs_\" + frag_type[i]\n",
    "    locals()[opposite_polarity] = []\n",
    "    locals()[opposite_direction] = []\n",
    "    locals()[complete_opposite] = []\n",
    "    locals()[cross_buckets] = []\n",
    "\n",
    "\n",
    "    for j in range(0,10):\n",
    "        curr_models = models[j]\n",
    "        curr_X_test = frag_X_test[j]\n",
    "        curr_y_test = frag_y_test[j]\n",
    "\n",
    "        # Creating a local variable to hold opposite-polarity and complete-opposite FVAFs\n",
    "        locals()[opposite_polarity].append(opposite_polarity_test_cv(curr_models, curr_X_test, curr_y_test, \"parts\", frag_type[i]))\n",
    "        locals()[complete_opposite].append(complete_opposite_bucket_test_cv(curr_models, curr_X_test, curr_y_test, \"parts\", frag_type[i]))\n",
    "        locals()[opposite_direction].append(opposite_direction_test_cv(curr_models, curr_X_test, curr_y_test, \"parts\", frag_type[i]))\n",
    "        locals()[cross_buckets].append(cross_buckets_test_cv(curr_models, curr_X_test, curr_y_test, \"parts\"))\n",
    "\n"
   ]
  },
  {
   "cell_type": "code",
   "execution_count": 16,
   "metadata": {},
   "outputs": [],
   "source": [
    "# (OLD) Within-Bucket Test\n",
    "from Neural_Decoding.runModelsKF import run_model_kf\n",
    "\n",
    "for i in range(len(frag_type)):\n",
    "\n",
    "    # Pulling local variables \n",
    "    input = locals()[\"sortIn_\"+frag_type[i]]\n",
    "    output = locals()[\"decoder_output_\"+frag_type[i]]\n",
    "\n",
    "    # Creating a local variable to hold (X, Y) predicted outputs for each frag type AND their trained models\n",
    "    parts = \"pred_parts_\" + frag_type[i]\n",
    "    models = \"models_\" + frag_type[i]\n",
    "    \n",
    "    #locals()[parts] = run_model_kf(input, output, training_range, testing_range, valid_range, \"parts\", \"within_bucket\")\n",
    "    R2s, trained_models = run_model_kf(input, output, training_range, testing_range, valid_range, \"parts\")\n",
    "    locals()[parts] = R2s\n",
    "    locals()[models] = trained_models"
   ]
  },
  {
   "cell_type": "code",
   "execution_count": 14,
   "metadata": {},
   "outputs": [],
   "source": [
    "# (OLD)Compute combined XY_FVAF (for velocity only, although all kinematic variables should be used for model-fitting and predicted for)\n",
    "from Neural_Decoding.metrics import compute_XY_FVAF\n",
    "\n",
    "for i in range(len(frag_type)):\n",
    "\n",
    "    # Pulling previously computed predicted_parts (i.e. nom and denom)\n",
    "    parts = locals()[ \"pred_parts_\" + frag_type[i]]\n",
    "    \n",
    "    # Creating a local variable to hold XY_FVAFs each frag type \n",
    "    XY_FVAF = \"XY_FVAF_\" + frag_type[i]\n",
    "    locals()[XY_FVAF] = []\n",
    "\n",
    "    for j in range(len(parts)):\n",
    "        #curr_bucket = Kalman_R2s_combined[i]\n",
    "        vel_x_nom = parts[j][0][0] # dim = (curr_bucket, nom, x_vel)\n",
    "        vel_x_denom = parts[j][1][0] # dim = (curr_bucket, denom, x_vel)\n",
    "        vel_y_nom = parts[j][0][1] # dim = (curr_bucket, nom, y_vel)\n",
    "        vel_y_denom = parts[j][1][1] # dim = (curr_bucket, denom, y_vel)\n",
    "\n",
    "        curr_bucket_XY_FVAF = compute_XY_FVAF(vel_x_nom,vel_x_denom,vel_y_nom,vel_y_denom)\n",
    "        locals()[XY_FVAF].append(curr_bucket_XY_FVAF)"
   ]
  },
  {
   "cell_type": "code",
   "execution_count": 20,
   "metadata": {},
   "outputs": [],
   "source": [
    "# (SINGLE RUN)\n",
    "# Testing cross-bucket function on AD fragments \n",
    "# pred_parts_ is actually the models now here\n",
    "from Neural_Decoding.runModelsKF import cross_buckets_test\n",
    "\n",
    "R2s, total_res = cross_buckets_test(models_Rand, sortIn_Rand, decoder_output_Rand, training_range, testing_range, valid_range, \"parts\")\n",
    "cross_buckets_FVAFs_Rand = total_res"
   ]
  },
  {
   "cell_type": "code",
   "execution_count": 31,
   "metadata": {},
   "outputs": [],
   "source": [
    "# (SINGLE RUN)\n",
    "# Testing cross-polarity and complete-opposite tests on AD fragments \n",
    "# pred_parts_ is actually the models now here\n",
    "from Neural_Decoding.runModelsKF import cross_polarity_test, complete_opposite_bucket_test\n",
    "\n",
    "cross_polarity_FVAFs_Rand = cross_polarity_test(models_Rand, sortIn_Rand, decoder_output_Rand, training_range, testing_range, valid_range, \"parts\")\n",
    "complete_opposite_FVAFs_Rand = complete_opposite_bucket_test(models_Rand, sortIn_Rand, decoder_output_Rand, training_range, testing_range, valid_range, \"parts\", \"AD\")"
   ]
  },
  {
   "cell_type": "markdown",
   "metadata": {},
   "source": [
    "### Part D: Partitioning and Running the Kalman Filter on Separate Training and Test Buckets"
   ]
  },
  {
   "cell_type": "code",
   "execution_count": 12,
   "metadata": {},
   "outputs": [],
   "source": [
    "# Cross-bucket test for all fragment types \n",
    "from Neural_Decoding.runModelsKF import cross_buckets_test\n",
    "\n",
    "for i in range(len(frag_type)):\n",
    "\n",
    "    # Pulling local variables \n",
    "    input = locals()[\"sortIn_\" + frag_type[i]]\n",
    "    output = locals()[\"decoder_output_\" + frag_type[i]]\n",
    "    models = locals()[\"models_\" + frag_type[i]]\n",
    "\n",
    "    # Creating a local variable to hold cross_bucket FVAFs (moreso, total-residual for each cross-bucket test)\n",
    "    cross_buckets = \"cross_buckets_FVAFs_\" + frag_type[i]\n",
    "    R2s, total_res = cross_buckets_test(models, input, output, training_range, testing_range, valid_range, \"parts\")\n",
    "    locals()[cross_buckets] = total_res"
   ]
  },
  {
   "cell_type": "code",
   "execution_count": null,
   "metadata": {},
   "outputs": [],
   "source": [
    "cross_buckets_FVAFs_AD\n",
    "cross_buckets_FVAFs_Rand"
   ]
  },
  {
   "cell_type": "code",
   "execution_count": 14,
   "metadata": {},
   "outputs": [],
   "source": [
    "# Opposite-polarity and Complete-opposite tests for all fragment types \n",
    "from Neural_Decoding.runModelsKF import cross_buckets_test, cross_polarity_test, complete_opposite_bucket_test\n",
    "\n",
    "for i in range(len(frag_type)):\n",
    "\n",
    "    # Pulling local variables \n",
    "    input = locals()[\"sortIn_\" + frag_type[i]]\n",
    "    output = locals()[\"decoder_output_\" + frag_type[i]]\n",
    "    models = locals()[\"models_\" + frag_type[i]]\n",
    "\n",
    "    # Creating a local variable to hold opposite-polarity and complete-opposite FVAFs\n",
    "    cross_polarity = \"opposite_polarity_FVAFs_\" + frag_type[i]\n",
    "    locals()[cross_polarity] = cross_polarity_test(models, input, output, training_range, testing_range, valid_range, \"parts\", frag_type[i])\n",
    "    complete_opposite = \"complete_opposite_FVAFs_\" + frag_type[i]\n",
    "    locals()[complete_opposite] = complete_opposite_bucket_test(models, input, output, training_range, testing_range, valid_range, \"parts\", frag_type[i])"
   ]
  },
  {
   "cell_type": "code",
   "execution_count": null,
   "metadata": {},
   "outputs": [],
   "source": [
    "complete_opposite_FVAFs_AD\n",
    "complete_opposite_FVAFs_Rand\n",
    "\n",
    "opposite_polarity_FVAFs_AD\n",
    "opposite_polarity_FVAFs_Rand"
   ]
  },
  {
   "cell_type": "code",
   "execution_count": 9,
   "metadata": {},
   "outputs": [],
   "source": [
    "# Opposite-direction test for all fragment types \n",
    "from Neural_Decoding.runModelsKF import opposite_direction_test\n",
    "\n",
    "for i in range(len(frag_type)):\n",
    "\n",
    "    # Pulling local variables \n",
    "    input = locals()[\"sortIn_\" + frag_type[i]]\n",
    "    output = locals()[\"decoder_output_\" + frag_type[i]]\n",
    "    models = locals()[\"models_\" + frag_type[i]]\n",
    "\n",
    "    # Creating a local variable to hold opposite-direction FVAFs\n",
    "    opposite_direction = \"opposite_direction_FVAFs_\" + frag_type[i]\n",
    "    locals()[opposite_direction] = opposite_direction_test(models, input, output, training_range, testing_range, valid_range, \"parts\", frag_type[i])"
   ]
  },
  {
   "cell_type": "code",
   "execution_count": null,
   "metadata": {},
   "outputs": [],
   "source": [
    "opposite_direction_FVAFs_AD\n",
    "opposite_direction_FVAFs_Rand"
   ]
  },
  {
   "cell_type": "markdown",
   "metadata": {},
   "source": [
    "### Part E: Save all outputs (i.e. FVAFs)"
   ]
  },
  {
   "cell_type": "code",
   "execution_count": 18,
   "metadata": {},
   "outputs": [],
   "source": [
    "# Saving results in a matlab file \n",
    "from scipy.io import savemat\n",
    "\n",
    "result1 = [XY_FVAFs_AD, XY_FVAFs_Rand]\n",
    "result2 = [cross_buckets_FVAFs_AD, cross_buckets_FVAFs_Rand]\n",
    "result3 = [opposite_polarity_FVAFs_AD, opposite_polarity_FVAFs_Rand]\n",
    "result4 = [opposite_direction_FVAFs_AD, opposite_direction_FVAFs_Rand]\n",
    "result5 = [complete_opposite_FVAFs_AD, complete_opposite_FVAFs_Rand]\n",
    "\n",
    "FrameStack1 = np.empty((2,), dtype=object)\n",
    "FrameStack2 = np.empty((2,), dtype=object)\n",
    "FrameStack3 = np.empty((2,), dtype=object)\n",
    "FrameStack4 = np.empty((2,), dtype=object)\n",
    "FrameStack5 = np.empty((2,), dtype=object)\n",
    "for i in range(len(result1)):\n",
    "    FrameStack1[i] = result1[i]\n",
    "    FrameStack2[i] = result2[i]\n",
    "    FrameStack3[i] = result3[i]\n",
    "    FrameStack4[i] = result4[i]\n",
    "    FrameStack5[i] = result5[i]\n",
    "savemat(\"Same_Bucket.mat\", {\"XY_FVAF\":FrameStack1})\n",
    "savemat(\"Cross_Bucket.mat\", {\"Cross_Bucket\":FrameStack2})\n",
    "savemat(\"Opposite_Polarity.mat\", {\"Cross_Polarity\":FrameStack3})\n",
    "savemat(\"Opposite_Direction.mat\", {\"Cross_Polarity\":FrameStack3})\n",
    "savemat(\"Complete_Opposite.mat\", {\"Complete_Opposite\":FrameStack4})"
   ]
  },
  {
   "cell_type": "code",
   "execution_count": 14,
   "metadata": {},
   "outputs": [],
   "source": [
    "# # Saving results in a matlab file \n",
    "# from scipy.io import savemat\n",
    "\n",
    "# result1 = [XY_FVAF_AD, XY_FVAF_HV, XY_FVAF_VM, XY_FVAF_Rand]\n",
    "# result2 = [cross_buckets_FVAFs_AD, cross_buckets_FVAFs_HV, cross_buckets_FVAFs_VM, cross_buckets_FVAFs_Rand]\n",
    "# result3 = [cross_polarity_FVAFs_AD, cross_polarity_FVAFs_HV, cross_polarity_FVAFs_VM, cross_polarity_FVAFs_Rand]\n",
    "# result4 = [complete_opposite_FVAFs_AD, complete_opposite_FVAFs_HV, complete_opposite_FVAFs_VM, complete_opposite_FVAFs_Rand]\n",
    "\n",
    "# FrameStack1 = np.empty((4,), dtype=object)\n",
    "# FrameStack2 = np.empty((4,), dtype=object)\n",
    "# FrameStack3 = np.empty((4,), dtype=object)\n",
    "# FrameStack4 = np.empty((4,), dtype=object)\n",
    "# for i in range(len(result1)):\n",
    "#     FrameStack1[i] = result1[i]\n",
    "#     FrameStack2[i] = result2[i]\n",
    "#     FrameStack3[i] = result3[i]\n",
    "#     FrameStack4[i] = result4[i]\n",
    "# savemat(\"XY_FVAF_All_Frags.mat\", {\"XY_FVAF\":FrameStack1})\n",
    "# savemat(\"Cross_Bucket_All_Frags.mat\", {\"Cross_Bucket\":FrameStack2})\n",
    "# savemat(\"Cross_Polarity_All_Frags.mat\", {\"Cross_Polarity\":FrameStack3})\n",
    "# savemat(\"Complete_Opposite_All_Frags.mat\", {\"Complete_Opposite\":FrameStack4})"
   ]
  },
  {
   "cell_type": "markdown",
   "metadata": {},
   "source": [
    "### Notes"
   ]
  },
  {
   "cell_type": "code",
   "execution_count": null,
   "metadata": {},
   "outputs": [],
   "source": [
    "for i in range(len(sortIn_AD)):\n",
    "    X_kf = sortIn_AD[i]\n",
    "    y_kf = decoder_output_AD[i]\n",
    "    num_examples_kf=X_kf.shape[0] # nRows (b/c nCols = number of units)\n",
    "    \n",
    "    #Note that each range has a buffer of 1 bin at the beginning and end\n",
    "    #This makes it so that the different sets don't include overlapping data\n",
    "    training_set=np.arange(int(np.round(training_range[0]*num_examples_kf))+1,int(np.round(training_range[1]*num_examples_kf))-1)\n",
    "    testing_set=np.arange(int(np.round(testing_range[0]*num_examples_kf))+1,int(np.round(testing_range[1]*num_examples_kf))-1)\n",
    "    valid_set=np.arange(int(np.round(valid_range[0]*num_examples_kf))+1,int(np.round(valid_range[1]*num_examples_kf))-1)\n",
    "\n",
    "    #Get training data\n",
    "    X_kf_train=X_kf[training_set,:]\n",
    "    y_kf_train=y_kf[training_set,:]\n",
    "\n",
    "    #Get testing data\n",
    "    X_kf_test=X_kf[testing_set,:]\n",
    "    y_kf_test=y_kf[testing_set,:]\n",
    "\n",
    "    #Get validation data\n",
    "    X_kf_valid=X_kf[valid_set,:]\n",
    "    y_kf_valid=y_kf[valid_set,:]\n",
    "\n",
    "    #Z-score inputs \n",
    "    X_kf_train_mean=np.nanmean(X_kf_train,axis=0)\n",
    "    X_kf_train_std=np.nanstd(X_kf_train,axis=0)\n",
    "    X_kf_train=(X_kf_train-X_kf_train_mean)/X_kf_train_std\n",
    "    X_kf_test=(X_kf_test-X_kf_train_mean)/X_kf_train_std\n",
    "    X_kf_valid=(X_kf_valid-X_kf_train_mean)/X_kf_train_std\n",
    "\n",
    "    #Zero-center outputs\n",
    "    y_kf_train_mean=np.mean(y_kf_train,axis=0)\n",
    "    y_kf_train=y_kf_train-y_kf_train_mean\n",
    "    y_kf_test=y_kf_test-y_kf_train_mean\n",
    "    y_kf_valid=y_kf_valid-y_kf_train_mean\n",
    "\n",
    "    #Declare model\n",
    "    model_kf=KalmanFilterDecoder(C=1) #There is one optional parameter (see ReadMe)\n",
    "\n",
    "    #Fit model\n",
    "    model_kf.fit(X_kf_train,y_kf_train)\n",
    "\n",
    "    #Get predictions\n",
    "    y_valid_predicted_kf=model_kf.predict(X_kf_valid,y_kf_valid)\n",
    "\n",
    "    #Get metrics of fit (see read me for more details on the differences between metrics)\n",
    "    #First I'll get the R^2\n",
    "    R2_kf=get_R2(y_kf_valid,y_valid_predicted_kf)\n",
    "    print('R2:',R2_kf[0:2]) #I'm just printing the R^2's of the 1st and 2nd entries that correspond to the positions\n",
    "    #Next I'll get the rho^2 (the pearson correlation squared)"
   ]
  }
 ],
 "metadata": {
  "interpreter": {
   "hash": "31f2aee4e71d21fbe5cf8b01ff0e069b9275f58929596ceb00d14d90e3e16cd6"
  },
  "kernelspec": {
   "display_name": "Python 3.8.9 64-bit",
   "language": "python",
   "name": "python3"
  },
  "language_info": {
   "codemirror_mode": {
    "name": "ipython",
    "version": 3
   },
   "file_extension": ".py",
   "mimetype": "text/x-python",
   "name": "python",
   "nbconvert_exporter": "python",
   "pygments_lexer": "ipython3",
   "version": "3.9.6"
  },
  "orig_nbformat": 4
 },
 "nbformat": 4,
 "nbformat_minor": 2
}
