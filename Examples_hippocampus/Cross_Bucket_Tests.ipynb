{
 "cells": [
  {
   "cell_type": "markdown",
   "metadata": {},
   "source": [
    "## Cross-Bucket Tests on all 3 Fragment Types using Kalman Filter"
   ]
  },
  {
   "cell_type": "markdown",
   "metadata": {},
   "source": [
    "### Part A: (1) Import Fragment Data from MATLAB, (2) Save Them in a .pickle file, and (3) Load Them In\n",
    "\n",
    "###### (HOWEVER, YOU DON'T NEED TO LOAD THEM IN AGAIN SINCE STEP 1 ALREADY DOES THAT FOR YOU!)"
   ]
  },
  {
   "cell_type": "code",
   "execution_count": 1,
   "metadata": {},
   "outputs": [],
   "source": [
    "## (Configuration) Allows you to return multiple variables from a single cell ##\n",
    "from IPython.core.interactiveshell import InteractiveShell\n",
    "InteractiveShell.ast_node_interactivity = 'all'\n",
    "\n",
    "## Allows you to import files from another folder in current directory ## \n",
    "import os \n",
    "import sys \n",
    "module_path = os.path.abspath(os.path.join('..'))\n",
    "if module_path not in sys.path:\n",
    "    sys.path.append(module_path)\n",
    "\n",
    "## Import standard package ###\n",
    "import numpy as np\n",
    "from scipy import io\n",
    "import sys\n",
    "\n",
    "# Specify Fragment Types to be used for this Anaylsis \n",
    "frag_type = ['AD', 'HV', 'VM'] # ['AccDec', 'HillValley', 'VelMin']"
   ]
  },
  {
   "cell_type": "code",
   "execution_count": 2,
   "metadata": {},
   "outputs": [],
   "source": [
    "## (NEW) Import Data ##\n",
    "# We'll load in position data and derive velocity and acceleration from it \n",
    "\n",
    "folder = '/Users/rbhatt6/Documents/MATLAB/' # For Windows: folder='C:\\\\Users\\\\rbhatt1\\\\Downloads\\\\' \n",
    "\n",
    " #locals()[\"sortIn\"+frag_type[i]] = io.loadmat(folder+'cleanedSortIn.mat')\n",
    "for i in range(len(frag_type)):\n",
    "    input = \"sortIn_\"+frag_type[i]\n",
    "    locals()[input] = io.loadmat(folder + input + '.mat')\n",
    "\n",
    "    output = \"sortOut_\" + frag_type[i]\n",
    "    locals()[output] = io.loadmat(folder + output + '.mat')\n",
    "\n",
    "    locals()[input] = np.squeeze(list(locals()[input].values())[3])\n",
    "    locals()[output] = np.squeeze(list(locals()[output].values())[3])"
   ]
  },
  {
   "cell_type": "markdown",
   "metadata": {},
   "source": [
    "### Part B: Preprocessing Decoder Data"
   ]
  },
  {
   "cell_type": "code",
   "execution_count": 3,
   "metadata": {},
   "outputs": [
    {
     "name": "stdout",
     "output_type": "stream",
     "text": [
      "\n",
      "WARNING: statsmodels is not installed. You will be unable to use the Naive Bayes Decoder\n",
      "\n",
      "WARNING: Xgboost package is not installed. You will be unable to use the xgboost decoder\n",
      "\n",
      "WARNING: Keras package is not installed. You will be unable to use all neural net decoders\n"
     ]
    }
   ],
   "source": [
    "#Import standard packages\n",
    "import numpy as np\n",
    "import matplotlib.pyplot as plt\n",
    "%matplotlib inline\n",
    "from scipy import io\n",
    "from scipy import stats\n",
    "import pickle\n",
    "import sys\n",
    "\n",
    "#Import metrics\n",
    "from Neural_Decoding.metrics import get_R2\n",
    "from Neural_Decoding.metrics import get_rho\n",
    "from Neural_Decoding.metrics import get_R2_parts\n",
    "\n",
    "#Import decoder functions\n",
    "from Neural_Decoding.decoders import KalmanFilterDecoder"
   ]
  },
  {
   "cell_type": "code",
   "execution_count": 4,
   "metadata": {},
   "outputs": [],
   "source": [
    "# (NEW)\n",
    "#For the Kalman filter, we use the position, velocity, and acceleration as outputs.\n",
    "#Ultimately, we are only concerned with the goodness of fit of velocity, but using them all as covariates helps performance.\n",
    "\n",
    "for i in range(len(frag_type)):\n",
    "    # Pulling local variables into new, temp variables\n",
    "    output = locals()[\"sortOut_\"+frag_type[i]]\n",
    "    \n",
    "    # Creating a local variable for each decoder_output\n",
    "    decoder_output = \"decoder_output_\" + frag_type[i]\n",
    "    locals()[decoder_output] = []\n",
    "\n",
    "    for j in range(len(output)): # Number of buckets (i.e. 16 or 8)\n",
    "        nFrags = output[j][0].shape[0]\n",
    "        temp2 = []\n",
    "        for k in range(0, nFrags, 1): # Number of fragments #output[0][0].shape[0]\n",
    "            vel_X = float(output[j][0][k])\n",
    "            vel_Y = float(output[j][1][k])\n",
    "            acc_X = float(output[j][2][k])\n",
    "            acc_Y = float(output[j][3][k])\n",
    "            pos_X = float(output[j][4][k])\n",
    "            pos_Y = float(output[j][5][k])\n",
    "            temp = [vel_X, vel_Y, acc_X, acc_Y, pos_X, pos_Y]\n",
    "            temp2.append(np.array(temp))\n",
    "            #locals()[decoder_output][j][k].append(np.array(temp))\n",
    "        #locals()[decoder_output][j].append(np.array(temp2))\n",
    "        locals()[decoder_output].append(np.array(temp2))\n",
    "        #temp = np.array(np.concatenate((vel_X, vel_Y, acc_X, acc_Y, outputX[j], outputY[j]),axis=1))\n"
   ]
  },
  {
   "cell_type": "markdown",
   "metadata": {},
   "source": [
    "### Part C: Partitioning and Running the Kalman Filter on the Same Buckets "
   ]
  },
  {
   "cell_type": "code",
   "execution_count": 5,
   "metadata": {},
   "outputs": [],
   "source": [
    "#Set what part of data should be part of the training/testing/validation sets\n",
    "\n",
    "training_range=[0, 0.8]\n",
    "valid_range=[0.8,0.9]\n",
    "testing_range=[0.9, 1]"
   ]
  },
  {
   "cell_type": "code",
   "execution_count": 6,
   "metadata": {},
   "outputs": [],
   "source": [
    "# Running decoder on X and Y components together to get the prediction nom and denom to later compute the combined XY_FVAF\n",
    "from Neural_Decoding.runModelsKF import run_model_kf\n",
    "\n",
    "for i in range(len(frag_type)):\n",
    "\n",
    "    # Pulling local variables \n",
    "    input = locals()[\"sortIn_\"+frag_type[i]]\n",
    "    output = locals()[\"decoder_output_\"+frag_type[i]]\n",
    "\n",
    "    # Creating a local variable to hold (X, Y) predicted outputs for each frag type \n",
    "    parts = \"pred_parts_\" + frag_type[i]\n",
    "    #locals()[parts] = run_model_kf(input, output, training_range, testing_range, valid_range, \"parts\", \"within_bucket\")\n",
    "    x,y = run_model_kf(input, output, training_range, testing_range, valid_range, \"parts\")\n",
    "    locals()[parts] = y"
   ]
  },
  {
   "cell_type": "code",
   "execution_count": 7,
   "metadata": {},
   "outputs": [],
   "source": [
    "# Testing cross-bucket function on AD fragments \n",
    "# pred_parts_ is actually the models now here\n",
    "from Neural_Decoding.runModelsKF import cross_polarity_test, complete_opposite_bucket_test\n",
    "\n",
    "ans3 = cross_polarity_test(pred_parts_AD, sortIn_AD, decoder_output_AD, training_range, testing_range, valid_range, \"parts\")\n",
    "ans4 = complete_opposite_bucket_test(pred_parts_AD, sortIn_AD, decoder_output_AD, training_range, testing_range, valid_range, \"parts\")"
   ]
  },
  {
   "cell_type": "code",
   "execution_count": 9,
   "metadata": {},
   "outputs": [
    {
     "data": {
      "text/plain": [
       "16"
      ]
     },
     "execution_count": 9,
     "metadata": {},
     "output_type": "execute_result"
    },
    {
     "data": {
      "text/plain": [
       "[-0.12552318315788602,\n",
       " -0.09126106377889998,\n",
       " 0.010003977051726953,\n",
       " -0.012419648355989077,\n",
       " 0.024064270331051518,\n",
       " -0.02139254499379195,\n",
       " -0.08492473086862207,\n",
       " -0.11753118006200225,\n",
       " -0.06258584455738991,\n",
       " -0.0024013459340386234,\n",
       " 0.025825141225766957,\n",
       " -0.17023121669663377,\n",
       " -0.7692957090609807,\n",
       " -0.14560123546594084,\n",
       " -0.12547762322714728,\n",
       " -0.10918874291136671]"
      ]
     },
     "execution_count": 9,
     "metadata": {},
     "output_type": "execute_result"
    }
   ],
   "source": [
    "len(ans4)\n",
    "ans4"
   ]
  },
  {
   "cell_type": "code",
   "execution_count": 7,
   "metadata": {},
   "outputs": [],
   "source": [
    "# Testing cross-bucket function on AD fragments \n",
    "# pred_parts_ is actually the models now here\n",
    "from Neural_Decoding.runModelsKF import cross_bucket_test\n",
    "\n",
    "ans, ans2 = cross_bucket_test(pred_parts_AD, sortIn_AD, decoder_output_AD, training_range, testing_range, valid_range, \"parts\")"
   ]
  },
  {
   "cell_type": "code",
   "execution_count": 8,
   "metadata": {},
   "outputs": [
    {
     "data": {
      "text/plain": [
       "16"
      ]
     },
     "execution_count": 8,
     "metadata": {},
     "output_type": "execute_result"
    },
    {
     "data": {
      "text/plain": [
       "[-0.41061680798106104,\n",
       " -0.3485842458524162,\n",
       " -0.2167123564587239,\n",
       " -0.2256085323600674,\n",
       " -0.22309853594244822,\n",
       " -0.24747436426789826,\n",
       " -0.3060118642389482,\n",
       " -0.38757187707650953,\n",
       " -0.3159403763472035,\n",
       " -0.16133148015531984,\n",
       " -0.13303764879546986,\n",
       " -0.2698010182525947,\n",
       " -0.3026636689546778,\n",
       " -0.34847104772593296,\n",
       " -0.3294875675647684,\n",
       " -0.25774423759621756]"
      ]
     },
     "execution_count": 8,
     "metadata": {},
     "output_type": "execute_result"
    }
   ],
   "source": [
    "len(ans2)\n",
    "ans2"
   ]
  },
  {
   "cell_type": "code",
   "execution_count": 7,
   "metadata": {},
   "outputs": [],
   "source": [
    "# Compute combined XY_FVAF (velocity only)\n",
    "from Neural_Decoding.metrics import compute_XY_FVAF\n",
    "\n",
    "for i in range(len(frag_type)):\n",
    "\n",
    "    # Pulling previously computed predicted_parts (i.e. nom and denom)\n",
    "    parts = locals()[ \"pred_parts_\" + frag_type[i]]\n",
    "    \n",
    "    # Creating a local variable to hold XY_FVAFs each frag type \n",
    "    XY_FVAF = \"XY_FVAF_\" + frag_type[i]\n",
    "    locals()[XY_FVAF] = []\n",
    "\n",
    "    for j in range(len(parts)):\n",
    "        #curr_bucket = Kalman_R2s_combined[i]\n",
    "        vel_x_nom = parts[j][0][0] # dim = (curr_bucket, nom, x_vel)\n",
    "        vel_x_denom = parts[j][1][0] # dim = (curr_bucket, denom, x_vel)\n",
    "        vel_y_nom = parts[j][0][1] # dim = (curr_bucket, nom, y_vel)\n",
    "        vel_y_denom = parts[j][1][1] # dim = (curr_bucket, denom, y_vel)\n",
    "\n",
    "        curr_bucket_XY_FVAF = compute_XY_FVAF(vel_x_nom,vel_x_denom,vel_y_nom,vel_y_denom)\n",
    "        locals()[XY_FVAF].append(curr_bucket_XY_FVAF)"
   ]
  },
  {
   "cell_type": "code",
   "execution_count": 8,
   "metadata": {},
   "outputs": [
    {
     "data": {
      "text/plain": [
       "[0.14638850235012524,\n",
       " 0.10515641316688973,\n",
       " 0.19335510382123544,\n",
       " 0.17525713855531255,\n",
       " 0.21625996008023884,\n",
       " 0.2617898317023153,\n",
       " 0.2661860148804782,\n",
       " 0.2368859923614337,\n",
       " 0.11615463263484038,\n",
       " 0.1588872087669827,\n",
       " 0.1575717406230902,\n",
       " 0.07775475371744156,\n",
       " 0.08819559579237735,\n",
       " 0.1322924628272577,\n",
       " 0.14217900259747052,\n",
       " 0.08467616838924008]"
      ]
     },
     "execution_count": 8,
     "metadata": {},
     "output_type": "execute_result"
    }
   ],
   "source": [
    "XY_FVAF_AD"
   ]
  },
  {
   "cell_type": "markdown",
   "metadata": {},
   "source": [
    "### Part D: Partitioning and Running the Kalman Filter on Separate Training and Test Buckets"
   ]
  },
  {
   "cell_type": "code",
   "execution_count": null,
   "metadata": {},
   "outputs": [],
   "source": []
  },
  {
   "cell_type": "markdown",
   "metadata": {},
   "source": [
    "### Notes"
   ]
  },
  {
   "cell_type": "code",
   "execution_count": null,
   "metadata": {},
   "outputs": [],
   "source": [
    "for i in range(len(sortIn_AD)):\n",
    "    X_kf = sortIn_AD[i]\n",
    "    y_kf = decoder_output_AD[i]\n",
    "    num_examples_kf=X_kf.shape[0] # nRows (b/c nCols = number of units)\n",
    "    \n",
    "    #Note that each range has a buffer of 1 bin at the beginning and end\n",
    "    #This makes it so that the different sets don't include overlapping data\n",
    "    training_set=np.arange(int(np.round(training_range[0]*num_examples_kf))+1,int(np.round(training_range[1]*num_examples_kf))-1)\n",
    "    testing_set=np.arange(int(np.round(testing_range[0]*num_examples_kf))+1,int(np.round(testing_range[1]*num_examples_kf))-1)\n",
    "    valid_set=np.arange(int(np.round(valid_range[0]*num_examples_kf))+1,int(np.round(valid_range[1]*num_examples_kf))-1)\n",
    "\n",
    "    #Get training data\n",
    "    X_kf_train=X_kf[training_set,:]\n",
    "    y_kf_train=y_kf[training_set,:]\n",
    "\n",
    "    #Get testing data\n",
    "    X_kf_test=X_kf[testing_set,:]\n",
    "    y_kf_test=y_kf[testing_set,:]\n",
    "\n",
    "    #Get validation data\n",
    "    X_kf_valid=X_kf[valid_set,:]\n",
    "    y_kf_valid=y_kf[valid_set,:]\n",
    "\n",
    "    #Z-score inputs \n",
    "    X_kf_train_mean=np.nanmean(X_kf_train,axis=0)\n",
    "    X_kf_train_std=np.nanstd(X_kf_train,axis=0)\n",
    "    X_kf_train=(X_kf_train-X_kf_train_mean)/X_kf_train_std\n",
    "    X_kf_test=(X_kf_test-X_kf_train_mean)/X_kf_train_std\n",
    "    X_kf_valid=(X_kf_valid-X_kf_train_mean)/X_kf_train_std\n",
    "\n",
    "    #Zero-center outputs\n",
    "    y_kf_train_mean=np.mean(y_kf_train,axis=0)\n",
    "    y_kf_train=y_kf_train-y_kf_train_mean\n",
    "    y_kf_test=y_kf_test-y_kf_train_mean\n",
    "    y_kf_valid=y_kf_valid-y_kf_train_mean\n",
    "\n",
    "    #Declare model\n",
    "    model_kf=KalmanFilterDecoder(C=1) #There is one optional parameter (see ReadMe)\n",
    "\n",
    "    #Fit model\n",
    "    model_kf.fit(X_kf_train,y_kf_train)\n",
    "\n",
    "    #Get predictions\n",
    "    y_valid_predicted_kf=model_kf.predict(X_kf_valid,y_kf_valid)\n",
    "\n",
    "    #Get metrics of fit (see read me for more details on the differences between metrics)\n",
    "    #First I'll get the R^2\n",
    "    R2_kf=get_R2(y_kf_valid,y_valid_predicted_kf)\n",
    "    print('R2:',R2_kf[0:2]) #I'm just printing the R^2's of the 1st and 2nd entries that correspond to the positions\n",
    "    #Next I'll get the rho^2 (the pearson correlation squared)"
   ]
  }
 ],
 "metadata": {
  "interpreter": {
   "hash": "31f2aee4e71d21fbe5cf8b01ff0e069b9275f58929596ceb00d14d90e3e16cd6"
  },
  "kernelspec": {
   "display_name": "Python 3.8.9 64-bit",
   "language": "python",
   "name": "python3"
  },
  "language_info": {
   "codemirror_mode": {
    "name": "ipython",
    "version": 3
   },
   "file_extension": ".py",
   "mimetype": "text/x-python",
   "name": "python",
   "nbconvert_exporter": "python",
   "pygments_lexer": "ipython3",
   "version": "3.8.9"
  },
  "orig_nbformat": 4
 },
 "nbformat": 4,
 "nbformat_minor": 2
}
