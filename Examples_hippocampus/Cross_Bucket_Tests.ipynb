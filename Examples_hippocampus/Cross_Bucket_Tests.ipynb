{
 "cells": [
  {
   "cell_type": "markdown",
   "metadata": {},
   "source": [
    "## Cross-Bucket Tests on all 3 Fragment Types using Kalman Filter"
   ]
  },
  {
   "cell_type": "markdown",
   "metadata": {},
   "source": [
    "### Part A: Import Fragment Data and Save Them in a .pickle file"
   ]
  },
  {
   "cell_type": "code",
   "execution_count": 1,
   "metadata": {},
   "outputs": [],
   "source": [
    "## (Configuration) Allows you to return multiple variables from a single cell ##\n",
    "from IPython.core.interactiveshell import InteractiveShell\n",
    "InteractiveShell.ast_node_interactivity = 'all'\n",
    "\n",
    "## Allows you to import files from another folder in current directory ## \n",
    "import os \n",
    "import sys \n",
    "module_path = os.path.abspath(os.path.join('..'))\n",
    "if module_path not in sys.path:\n",
    "    sys.path.append(module_path)\n",
    "\n",
    "\n",
    "## Import standard package ###\n",
    "import numpy as np\n",
    "from scipy import io\n",
    "import sys"
   ]
  },
  {
   "cell_type": "code",
   "execution_count": null,
   "metadata": {},
   "outputs": [],
   "source": [
    "## Load Acc/Dec Data ##\n",
    "\n",
    "folder = '/Users/rbhatt6/Documents/MATLAB/' # For Windows: folder='C:\\\\Users\\\\rbhatt1\\\\Downloads\\\\' \n",
    "\n",
    "# Decoder Velocity Outputs\n",
    "sortIn = io.loadmat(folder+'cleanedSortIn.mat')\n",
    "sortOutX = io.loadmat(folder+'sortOutX.mat')\n",
    "sortOutY = io.loadmat(folder+'sortOutY.mat')\n",
    "\n",
    "sortIn = sortIn['cleanedSortIn']\n",
    "sortOutX = sortOutX['sortOutX']\n",
    "sortOutY = sortOutY['sortOutY']\n",
    "\n",
    "sortIn = np.squeeze(sortIn)\n",
    "sortOutX = np.squeeze(sortOutX)\n",
    "sortOutY = np.squeeze(sortOutY)\n",
    "\n",
    "# Decoder Position Outputs\n",
    "sortOutX_Pos = io.loadmat(folder+'sortOutXPos.mat')\n",
    "sortOutY_Pos = io.loadmat(folder+'sortOutYPos.mat')\n",
    "\n",
    "sortOutX_Pos = sortOutX_Pos['sortOutX']\n",
    "sortOutY_Pos = sortOutY_Pos['sortOutY']\n",
    "\n",
    "sortOutX_Pos = np.squeeze(sortOutX_Pos)\n",
    "sortOutY_Pos = np.squeeze(sortOutY_Pos)"
   ]
  },
  {
   "cell_type": "code",
   "execution_count": null,
   "metadata": {},
   "outputs": [],
   "source": [
    "import pickle\n",
    "\n",
    "data_folder='/Users/rbhatt6/Documents/MATLAB/' #FOLDER YOU WANT TO SAVE THE DATA TO\n",
    "\n",
    "with open(data_folder+'sortInAccDec.pickle','wb') as f:\n",
    "    pickle.dump(sortIn,f)\n",
    "\n",
    "with open(data_folder+'sortOutXAccDec.pickle','wb') as f:\n",
    "    pickle.dump(sortOutX,f)\n",
    "\n",
    "with open(data_folder+'sortOutYAccDec.pickle','wb') as f:\n",
    "    pickle.dump(sortOutY,f)\n",
    "\n",
    "with open(data_folder+'sortOutXAccDecPos.pickle','wb') as f:\n",
    "    pickle.dump(sortOutX_Pos,f)\n",
    "\n",
    "with open(data_folder+'sortOutYAccDecPos.pickle','wb') as f:\n",
    "    pickle.dump(sortOutY_Pos,f)"
   ]
  }
 ],
 "metadata": {
  "interpreter": {
   "hash": "31f2aee4e71d21fbe5cf8b01ff0e069b9275f58929596ceb00d14d90e3e16cd6"
  },
  "kernelspec": {
   "display_name": "Python 3.8.9 64-bit",
   "language": "python",
   "name": "python3"
  },
  "language_info": {
   "codemirror_mode": {
    "name": "ipython",
    "version": 3
   },
   "file_extension": ".py",
   "mimetype": "text/x-python",
   "name": "python",
   "nbconvert_exporter": "python",
   "pygments_lexer": "ipython3",
   "version": "3.8.9"
  },
  "orig_nbformat": 4
 },
 "nbformat": 4,
 "nbformat_minor": 2
}
