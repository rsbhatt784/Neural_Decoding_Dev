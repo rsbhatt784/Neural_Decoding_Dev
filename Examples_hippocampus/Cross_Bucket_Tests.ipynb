{
 "cells": [
  {
   "cell_type": "markdown",
   "metadata": {},
   "source": [
    "## Cross-Bucket Tests on all 3 Fragment Types using Kalman Filter"
   ]
  },
  {
   "cell_type": "markdown",
   "metadata": {},
   "source": [
    "### Part A: (1) Import Fragment Data from MATLAB, (2) Save Them in a .pickle file, and (3) Load Them In\n",
    "\n",
    "###### (HOWEVER, YOU DON'T NEED TO LOAD THEM IN AGAIN SINCE STEP 1 ALREADY DOES THAT FOR YOU!)"
   ]
  },
  {
   "cell_type": "code",
   "execution_count": 1,
   "metadata": {},
   "outputs": [],
   "source": [
    "## (Configuration) Allows you to return multiple variables from a single cell ##\n",
    "from IPython.core.interactiveshell import InteractiveShell\n",
    "InteractiveShell.ast_node_interactivity = 'all'\n",
    "\n",
    "## Allows you to import files from another folder in current directory ## \n",
    "import os \n",
    "import sys \n",
    "module_path = os.path.abspath(os.path.join('..'))\n",
    "if module_path not in sys.path:\n",
    "    sys.path.append(module_path)\n",
    "\n",
    "## Import standard package ###\n",
    "import numpy as np\n",
    "from scipy import io\n",
    "import sys\n",
    "\n",
    "# Specify Fragment Types to be used for this Anaylsis \n",
    "frag_type = ['AD', 'HV', 'VM'] # ['AccDec', 'HillValley', 'VelMin']"
   ]
  },
  {
   "cell_type": "code",
   "execution_count": 20,
   "metadata": {},
   "outputs": [],
   "source": [
    " ## (OLD) Import Data ## \n",
    "# We'll load in position data and derive velocity and acceleration from it \n",
    "\n",
    "folder = '/Users/rbhatt6/Documents/MATLAB/' # For Windows: folder='C:\\\\Users\\\\rbhatt1\\\\Downloads\\\\' \n",
    "\n",
    " #locals()[\"sortIn\"+frag_type[i]] = io.loadmat(folder+'cleanedSortIn.mat')\n",
    "for i in range(len(frag_type)):\n",
    "    input = \"sortIn_\"+frag_type[i]\n",
    "    locals()[input] = io.loadmat(folder + input + '.mat')\n",
    "   \n",
    "    outputX = \"sortX_\"+frag_type[i]\n",
    "    locals()[outputX] = io.loadmat(folder + outputX + '.mat')\n",
    "\n",
    "    outputY = \"sortY_\"+frag_type[i]\n",
    "    locals()[outputY] = io.loadmat(folder + outputY + '.mat')\n",
    "\n",
    "    locals()[input] = np.squeeze(list(locals()[input].values())[3])\n",
    "    locals()[outputX] = np.squeeze(list(locals()[outputX].values())[3])\n",
    "    locals()[outputY] = np.squeeze(list(locals()[outputY].values())[3])"
   ]
  },
  {
   "cell_type": "code",
   "execution_count": 15,
   "metadata": {},
   "outputs": [],
   "source": [
    "## (OLD) Save Data in .pickle files ## \n",
    "import pickle\n",
    "\n",
    "data_folder='/Users/rbhatt6/Documents/MATLAB/' # Folder where you want to save the data\n",
    "\n",
    "for i in range(len(frag_type)):\n",
    "    input = \"sortIn_\"+frag_type[i]\n",
    "    outputX = \"sortX_\"+frag_type[i]\n",
    "    outputY = \"sortY_\"+frag_type[i]\n",
    "\n",
    "    with open(data_folder + input + '.pickle','wb') as f:\n",
    "        pickle.dump(locals()[input],f)\n",
    "\n",
    "    with open(data_folder + outputX + '.pickle','wb') as f:\n",
    "        pickle.dump(locals()[outputX],f)\n",
    "\n",
    "    with open(data_folder + outputY + '.pickle','wb') as f:\n",
    "        pickle.dump(locals()[outputY],f)"
   ]
  },
  {
   "cell_type": "code",
   "execution_count": 142,
   "metadata": {},
   "outputs": [],
   "source": [
    "## (UPDATED) Import Data ##\n",
    "# We'll load in position data and derive velocity and acceleration from it \n",
    "\n",
    "folder = '/Users/rbhatt6/Documents/MATLAB/' # For Windows: folder='C:\\\\Users\\\\rbhatt1\\\\Downloads\\\\' \n",
    "\n",
    " #locals()[\"sortIn\"+frag_type[i]] = io.loadmat(folder+'cleanedSortIn.mat')\n",
    "for i in range(len(frag_type)):\n",
    "    input = \"sortIn_\"+frag_type[i]\n",
    "    locals()[input] = io.loadmat(folder + input + '.mat')\n",
    "\n",
    "    output = \"sortOut_\" + frag_type[i]\n",
    "    locals()[output] = io.loadmat(folder + output + '.mat')\n",
    "\n",
    "    locals()[input] = np.squeeze(list(locals()[input].values())[3])\n",
    "    locals()[output] = np.squeeze(list(locals()[output].values())[3])"
   ]
  },
  {
   "cell_type": "code",
   "execution_count": 170,
   "metadata": {},
   "outputs": [
    {
     "data": {
      "text/plain": [
       "(16, 6)"
      ]
     },
     "execution_count": 170,
     "metadata": {},
     "output_type": "execute_result"
    },
    {
     "data": {
      "text/plain": [
       "(6,)"
      ]
     },
     "execution_count": 170,
     "metadata": {},
     "output_type": "execute_result"
    },
    {
     "data": {
      "text/plain": [
       "(1633, 1)"
      ]
     },
     "execution_count": 170,
     "metadata": {},
     "output_type": "execute_result"
    },
    {
     "data": {
      "text/plain": [
       "(1,)"
      ]
     },
     "execution_count": 170,
     "metadata": {},
     "output_type": "execute_result"
    },
    {
     "data": {
      "text/plain": [
       "array([array([[0.00351772],\n",
       "              [0.0219465 ],\n",
       "              [0.051092  ],\n",
       "              ...,\n",
       "              [0.3131765 ],\n",
       "              [0.31382569],\n",
       "              [0.26383715]]), array([[-0.01719953],\n",
       "                                     [-0.00574728],\n",
       "                                     [ 0.02476847],\n",
       "                                     ...,\n",
       "                                     [ 0.10968373],\n",
       "                                     [-0.17419172],\n",
       "                                     [-0.40420583]]),\n",
       "       array([[-0.00024946],\n",
       "              [ 0.00139547],\n",
       "              [ 0.00064977],\n",
       "              ...,\n",
       "              [ 0.00474592],\n",
       "              [-0.00296012],\n",
       "              [-0.00051165]]), array([[-0.00026559],\n",
       "                                      [ 0.00110366],\n",
       "                                      [ 0.00104829],\n",
       "                                      ...,\n",
       "                                      [-0.00798282],\n",
       "                                      [-0.01222617],\n",
       "                                      [-0.00513682]]),\n",
       "       array([[28.17113222],\n",
       "              [28.40999393],\n",
       "              [29.381973  ],\n",
       "              ...,\n",
       "              [ 9.31909748],\n",
       "              [17.57051322],\n",
       "              [24.60974452]]), array([[271.79450322],\n",
       "                                      [271.44211529],\n",
       "                                      [271.69875629],\n",
       "                                      ...,\n",
       "                                      [250.59341856],\n",
       "                                      [249.84755775],\n",
       "                                      [242.11359228]])], dtype=object)"
      ]
     },
     "execution_count": 170,
     "metadata": {},
     "output_type": "execute_result"
    }
   ],
   "source": [
    "# dims = \n",
    "sortOut_AD.shape\n",
    "sortOut_AD[0].shape # First row of cells (i.e. kinematics for the first bucket)\n",
    "sortOut_AD[0][0].shape\n",
    "sortOut_AD[0][0][0].shape\n",
    "\n",
    "sortOut_AD[0]"
   ]
  },
  {
   "cell_type": "code",
   "execution_count": 147,
   "metadata": {},
   "outputs": [
    {
     "data": {
      "text/plain": [
       "(16, 6)"
      ]
     },
     "execution_count": 147,
     "metadata": {},
     "output_type": "execute_result"
    }
   ],
   "source": [
    "\n",
    "\n",
    "for i in range(len(frag_type)):\n",
    "    \n",
    "    # Pulling local variables into new, temp variables\n",
    "    output = locals()[\"sortOut_\"+frag_type[i]]\n",
    "    \n",
    "    # Creating a local variable for each decoder_output\n",
    "    decoder_output = \"decoder_output_\" + frag_type[i]\n",
    "    locals()[decoder_output] = []\n",
    "\n",
    "    for j in range(len(output)):\n",
    "    \n",
    "\n",
    "\n"
   ]
  },
  {
   "cell_type": "markdown",
   "metadata": {},
   "source": [
    "### Part B: Preprocessing Decoder Data"
   ]
  },
  {
   "cell_type": "code",
   "execution_count": 16,
   "metadata": {},
   "outputs": [],
   "source": [
    "#Import standard packages\n",
    "import numpy as np\n",
    "import matplotlib.pyplot as plt\n",
    "%matplotlib inline\n",
    "from scipy import io\n",
    "from scipy import stats\n",
    "import pickle\n",
    "import sys\n",
    "\n",
    "#Import metrics\n",
    "from Neural_Decoding.metrics import get_R2\n",
    "from Neural_Decoding.metrics import get_rho\n",
    "from Neural_Decoding.metrics import get_R2_parts\n",
    "\n",
    "#Import decoder functions\n",
    "from Neural_Decoding.decoders import KalmanFilterDecoder"
   ]
  },
  {
   "cell_type": "code",
   "execution_count": 80,
   "metadata": {},
   "outputs": [],
   "source": [
    "#For the Kalman filter, we use the position, velocity, and acceleration as outputs.\n",
    "#Ultimately, we are only concerned with the goodness of fit of velocity, but using them all as covariates helps performance.\n",
    "\n",
    "for i in range(len(frag_type)):\n",
    "    \n",
    "    # Pulling local variables into new, temp variables\n",
    "    outputX = locals()[\"sortX_\"+frag_type[i]]\n",
    "    outputY = locals()[\"sortY_\"+frag_type[i]]\n",
    "    \n",
    "    # Creating a local variable for each decoder_output\n",
    "    decoder_output = \"decoder_output_\" + frag_type[i]\n",
    "    locals()[decoder_output] = []\n",
    "\n",
    "    for j in range(len(outputX)):\n",
    "        # Determine X and Y velocities \n",
    "        vel_X = (np.diff(outputX[j], axis = 0))      \n",
    "        vel_X = np.concatenate((vel_X,vel_X[-1:,:]),axis=0)\n",
    "        vel_Y = (np.diff(outputY[j], axis = 0))      \n",
    "        vel_Y = np.concatenate((vel_Y,vel_Y[-1:,:]),axis=0)\n",
    "\n",
    "        # Determine X and Y accelerations \n",
    "        acc_X = (np.diff(vel_X, axis = 0))   \n",
    "        acc_X = np.concatenate((acc_X,acc_X[-1:,:]),axis=0)\n",
    "        acc_Y = (np.diff(vel_Y, axis = 0))      \n",
    "        acc_Y = np.concatenate((acc_Y,acc_Y[-1:,:]),axis=0)\n",
    "\n",
    "        # Concatenating all 3 kinematics for X and Y components\n",
    "        # Corrected decoder outputs (format = x,y vel, x,y acc, x,y pos)\n",
    "        temp = np.array(np.concatenate((vel_X, vel_Y, acc_X, acc_Y, outputX[j], outputY[j]),axis=1))\n",
    "\n",
    "        locals()[decoder_output].append(temp)"
   ]
  },
  {
   "cell_type": "code",
   "execution_count": 146,
   "metadata": {},
   "outputs": [
    {
     "data": {
      "text/plain": [
       "[array([[ 2.38861708e-01, -3.52387935e-01,  7.33117368e-01,\n",
       "          6.09028943e-01,  2.81711322e+01,  2.71794503e+02],\n",
       "        [ 9.71979076e-01,  2.56641007e-01, -2.39278454e+01,\n",
       "          6.05714906e+00,  2.84099939e+01,  2.71442115e+02],\n",
       "        [-2.29558664e+01,  6.31379007e+00,  2.61503313e+01,\n",
       "         -6.65196604e+00,  2.93819730e+01,  2.71698756e+02],\n",
       "        ...,\n",
       "        [ 8.25141574e+00, -7.45860819e-01, -1.21218443e+00,\n",
       "         -6.98810465e+00,  9.31909748e+00,  2.50593419e+02],\n",
       "        [ 7.03923131e+00, -7.73396546e+00,  0.00000000e+00,\n",
       "          0.00000000e+00,  1.75705132e+01,  2.49847558e+02],\n",
       "        [ 7.03923131e+00, -7.73396546e+00,  0.00000000e+00,\n",
       "          0.00000000e+00,  2.46097445e+01,  2.42113592e+02]]),\n",
       " array([[  0.92786338,   2.90068393,   1.04446409,   1.99894005,\n",
       "          20.87397992, 184.40165161],\n",
       "        [  1.97232747,   4.89962398,   1.49847817,   2.53531146,\n",
       "          21.8018433 , 187.30233554],\n",
       "        [  3.47080564,   7.43493545,   2.49662926,   2.44846435,\n",
       "          23.77417077, 192.20195952],\n",
       "        ...,\n",
       "        [  4.07557069,   3.52865825,   6.63171531,   2.33170347,\n",
       "         114.44806119, 218.37220197],\n",
       "        [ 10.707286  ,   5.86036172,   0.        ,   0.        ,\n",
       "         118.52363188, 221.90086022],\n",
       "        [ 10.707286  ,   5.86036172,   0.        ,   0.        ,\n",
       "         129.23091788, 227.76122195]]),\n",
       " array([[-2.45816209e+00,  3.00311386e+00,  3.85030731e+00,\n",
       "          4.72397354e+00,  2.26111934e+01,  1.94907392e+02],\n",
       "        [ 1.39214521e+00,  7.72708740e+00,  4.00997720e+01,\n",
       "          9.05934052e+00,  2.01530313e+01,  1.97910506e+02],\n",
       "        [ 4.14919173e+01,  1.67864279e+01, -4.27844844e+01,\n",
       "         -1.41224774e+01,  2.15451765e+01,  2.05637593e+02],\n",
       "        ...,\n",
       "        [-8.30772964e-02,  2.84970268e-01, -4.92350287e-01,\n",
       "          3.89370244e+00,  1.41799040e+02,  2.07799829e+02],\n",
       "        [-5.75427583e-01,  4.17867270e+00,  0.00000000e+00,\n",
       "          0.00000000e+00,  1.41715963e+02,  2.08084799e+02],\n",
       "        [-5.75427583e-01,  4.17867270e+00,  0.00000000e+00,\n",
       "          0.00000000e+00,  1.41140535e+02,  2.12263472e+02]]),\n",
       " array([[-4.24088592e+00,  2.14622191e+00, -5.18774279e-01,\n",
       "          1.30235695e+00,  3.54558813e+01,  2.41198173e+02],\n",
       "        [-4.75966019e+00,  3.44857886e+00,  8.70337119e-02,\n",
       "          7.58558901e-01,  3.12149954e+01,  2.43344395e+02],\n",
       "        [-4.67262648e+00,  4.20713776e+00, -2.48365521e+00,\n",
       "          2.52104118e-01,  2.64553352e+01,  2.46792974e+02],\n",
       "        ...,\n",
       "        [-8.66458435e-01,  1.70926768e+00, -5.63093512e-01,\n",
       "          9.01237520e-01,  4.08263891e+01,  1.94541317e+02],\n",
       "        [-1.42955195e+00,  2.61050520e+00,  0.00000000e+00,\n",
       "          0.00000000e+00,  3.99599306e+01,  1.96250585e+02],\n",
       "        [-1.42955195e+00,  2.61050520e+00,  0.00000000e+00,\n",
       "          0.00000000e+00,  3.85303787e+01,  1.98861090e+02]]),\n",
       " array([[-3.65300181e+00, -1.34002816e+00, -4.34189389e+00,\n",
       "         -1.56615363e-01,  7.73067254e+01,  2.13562144e+02],\n",
       "        [-7.99489570e+00, -1.49664352e+00, -6.08721586e+00,\n",
       "          1.75601014e+00,  7.36537236e+01,  2.12222116e+02],\n",
       "        [-1.40821116e+01,  2.59366617e-01, -5.26908836e+00,\n",
       "          3.21883114e+00,  6.56588279e+01,  2.10725472e+02],\n",
       "        ...,\n",
       "        [-2.31434966e+00,  3.04869022e-01, -5.37690828e+00,\n",
       "         -1.94076464e+00,  1.19609196e+02,  1.92603052e+02],\n",
       "        [-7.69125794e+00, -1.63589562e+00,  0.00000000e+00,\n",
       "          0.00000000e+00,  1.17294846e+02,  1.92907921e+02],\n",
       "        [-7.69125794e+00, -1.63589562e+00,  0.00000000e+00,\n",
       "          0.00000000e+00,  1.09603588e+02,  1.91272025e+02]]),\n",
       " array([[ -1.89386566,  -4.62006857,  -1.32803511,  -2.46520476,\n",
       "          47.39702019, 264.5270752 ],\n",
       "        [ -3.22190077,  -7.08527333,  44.76767218,  34.79113996,\n",
       "          45.50315453, 259.90700663],\n",
       "        [ 41.54577141,  27.70586663, -44.36860684, -27.45951499,\n",
       "          42.28125375, 252.8217333 ],\n",
       "        ...,\n",
       "        [ -9.25459942,  -4.97977199,  -4.72616272,  -3.32286079,\n",
       "          49.49884201, 277.21857247],\n",
       "        [-13.98076214,  -8.30263278,   0.        ,   0.        ,\n",
       "          40.24424258, 272.23880048],\n",
       "        [-13.98076214,  -8.30263278,   0.        ,   0.        ,\n",
       "          26.26348044, 263.9361677 ]]),\n",
       " array([[ 1.09309975e-02, -3.55457537e+00,  1.15286931e+00,\n",
       "         -2.12794280e+00,  3.30247601e+01,  2.49678543e+02],\n",
       "        [ 1.16380031e+00, -5.68251817e+00, -5.45289451e+00,\n",
       "          5.36839561e+01,  3.30356911e+01,  2.46123967e+02],\n",
       "        [-4.28909420e+00,  4.80014379e+01,  5.50640812e+00,\n",
       "         -5.27391965e+01,  3.41994914e+01,  2.40441449e+02],\n",
       "        ...,\n",
       "        [ 4.94621478e-01, -2.84370319e+00, -8.43260876e-01,\n",
       "         -1.45097254e+00,  8.26981178e+01,  2.80079852e+02],\n",
       "        [-3.48639397e-01, -4.29467573e+00,  0.00000000e+00,\n",
       "          0.00000000e+00,  8.31927392e+01,  2.77236149e+02],\n",
       "        [-3.48639397e-01, -4.29467573e+00,  0.00000000e+00,\n",
       "          0.00000000e+00,  8.28440998e+01,  2.72941473e+02]]),\n",
       " array([[ 4.39013070e+00,  2.41614894e-01,  1.86481293e+00,\n",
       "         -1.10763569e+00,  2.04533949e+01,  2.69752828e+02],\n",
       "        [ 6.25494363e+00, -8.66020797e-01,  2.15347667e+00,\n",
       "         -4.88785431e+00,  2.48435256e+01,  2.69994443e+02],\n",
       "        [ 8.40842030e+00, -5.75387510e+00,  2.57658964e+00,\n",
       "         -6.61150759e+00,  3.10984692e+01,  2.69128423e+02],\n",
       "        ...,\n",
       "        [ 6.28788307e-01, -1.13525803e+00,  4.98982900e-01,\n",
       "         -9.30540817e-01,  1.26752306e+02,  2.51181591e+02],\n",
       "        [ 1.12777121e+00, -2.06579885e+00,  0.00000000e+00,\n",
       "          0.00000000e+00,  1.27381094e+02,  2.50046333e+02],\n",
       "        [ 1.12777121e+00, -2.06579885e+00,  0.00000000e+00,\n",
       "          0.00000000e+00,  1.28508865e+02,  2.47980534e+02]]),\n",
       " array([[ 14.39059858,   1.16901571,  -6.5451815 ,   1.39163224,\n",
       "          54.39384519, 210.31863079],\n",
       "        [  7.84541708,   2.56064795, -53.85439104,  21.28407726,\n",
       "          68.78444378, 211.4876465 ],\n",
       "        [-46.00897396,  23.84472521,  59.96115733, -26.23331824,\n",
       "          76.62986086, 214.04829445],\n",
       "        ...,\n",
       "        [  8.68455462,   1.2464106 ,  -3.54685995,   0.31370359,\n",
       "          38.20632556, 275.76606945],\n",
       "        [  5.13769468,   1.56011419,   0.        ,   0.        ,\n",
       "          46.89088018, 277.01248004],\n",
       "        [  5.13769468,   1.56011419,   0.        ,   0.        ,\n",
       "          52.02857486, 278.57259423]]),\n",
       " array([[ 1.40648769e+01,  6.31263807e+00, -3.94550300e+00,\n",
       "         -1.95088501e-01,  2.99894649e+01,  2.72183704e+02],\n",
       "        [ 1.01193739e+01,  6.11754956e+00, -5.34324052e+00,\n",
       "         -6.54220719e-01,  4.40543418e+01,  2.78496342e+02],\n",
       "        [ 4.77613336e+00,  5.46332884e+00, -3.12412194e+01,\n",
       "         -4.83077444e+01,  5.41737156e+01,  2.84613892e+02],\n",
       "        ...,\n",
       "        [ 8.32420954e+00,  5.62134216e+00, -4.13949431e+00,\n",
       "         -2.87707078e+00,  5.64775621e+01,  2.81630349e+02],\n",
       "        [ 4.18471523e+00,  2.74427138e+00,  0.00000000e+00,\n",
       "          0.00000000e+00,  6.48017717e+01,  2.87251691e+02],\n",
       "        [ 4.18471523e+00,  2.74427138e+00,  0.00000000e+00,\n",
       "          0.00000000e+00,  6.89864869e+01,  2.89995963e+02]]),\n",
       " array([[-9.61608112e+00,  1.31956897e+01,  9.27512570e+00,\n",
       "          2.62168783e-01,  2.33912349e+01,  2.37522960e+02],\n",
       "        [-3.40955416e-01,  1.34578585e+01,  5.86067064e+00,\n",
       "         -3.91204166e+00,  1.37751537e+01,  2.50718650e+02],\n",
       "        [ 5.51971522e+00,  9.54581679e+00,  4.67199594e+01,\n",
       "         -4.21284953e+01,  1.34341983e+01,  2.64176508e+02],\n",
       "        ...,\n",
       "        [ 4.43215700e+00,  5.80335855e+00, -1.41735088e-01,\n",
       "         -3.83831205e+00,  1.29933393e+01,  2.63919901e+02],\n",
       "        [ 4.29042192e+00,  1.96504650e+00,  0.00000000e+00,\n",
       "          0.00000000e+00,  1.74254963e+01,  2.69723260e+02],\n",
       "        [ 4.29042192e+00,  1.96504650e+00,  0.00000000e+00,\n",
       "          0.00000000e+00,  2.17159182e+01,  2.71688306e+02]]),\n",
       " array([[-5.61237767e+00,  7.26597029e+00,  4.74556481e+00,\n",
       "         -1.11430403e+00,  5.85796820e+01,  2.28641714e+02],\n",
       "        [-8.66812862e-01,  6.15166625e+00,  1.82835535e+01,\n",
       "          3.80303711e+01,  5.29673043e+01,  2.35907684e+02],\n",
       "        [ 1.74167407e+01,  4.41820373e+01, -2.04965455e+01,\n",
       "         -4.25592548e+01,  5.21004915e+01,  2.42059351e+02],\n",
       "        ...,\n",
       "        [-2.36323577e+00,  3.24166090e+00,  3.09789887e-01,\n",
       "         -3.18918102e+00,  2.22561784e+01,  1.91286187e+02],\n",
       "        [-2.05344589e+00,  5.24798756e-02,  0.00000000e+00,\n",
       "          0.00000000e+00,  1.98929426e+01,  1.94527848e+02],\n",
       "        [-2.05344589e+00,  5.24798756e-02,  0.00000000e+00,\n",
       "          0.00000000e+00,  1.78394967e+01,  1.94580328e+02]]),\n",
       " array([[-9.99151649e+00,  9.74121743e-03,  2.91430960e+00,\n",
       "         -9.94046295e-01,  5.13381418e+01,  1.89433143e+02],\n",
       "        [-7.07720689e+00, -9.84305077e-01,  3.73825774e+00,\n",
       "         -1.78083053e-01,  4.13466253e+01,  1.89442884e+02],\n",
       "        [-3.33894915e+00, -1.16238813e+00, -7.80023406e+00,\n",
       "          5.82143750e+01,  3.42694184e+01,  1.88458579e+02],\n",
       "        ...,\n",
       "        [-1.14815758e+01,  3.97148206e+00,  4.54961351e+00,\n",
       "         -2.29488582e+00,  9.06680687e+01,  3.01516660e+02],\n",
       "        [-6.93196227e+00,  1.67659624e+00,  0.00000000e+00,\n",
       "          0.00000000e+00,  7.91864929e+01,  3.05488142e+02],\n",
       "        [-6.93196227e+00,  1.67659624e+00,  0.00000000e+00,\n",
       "          0.00000000e+00,  7.22545306e+01,  3.07164738e+02]]),\n",
       " array([[-12.06312102, -17.30626022,   8.41561326,   5.69404193,\n",
       "          17.39090418, 237.33856717],\n",
       "        [ -3.64750775, -11.61221829,  15.25512659,  -0.75105555,\n",
       "           5.32778317, 220.03230695],\n",
       "        [ 11.60761883, -12.36327384, -19.77504806,   6.73062664,\n",
       "           1.68027541, 208.42008866],\n",
       "        ...,\n",
       "        [-11.84332879, -11.79237984,   2.24152761,   5.92663801,\n",
       "          28.99628748, 262.53111379],\n",
       "        [ -9.60180118,  -5.86574183,   0.        ,   0.        ,\n",
       "          17.15295868, 250.73873395],\n",
       "        [ -9.60180118,  -5.86574183,   0.        ,   0.        ,\n",
       "           7.5511575 , 244.87299212]]),\n",
       " array([[-7.80860448e-01, -7.29136694e+00, -6.99361547e-01,\n",
       "          1.63363629e+00,  3.27327124e+01,  2.65700669e+02],\n",
       "        [-1.48022200e+00, -5.65773065e+00,  9.46439824e+00,\n",
       "         -1.11245479e+01,  3.19518520e+01,  2.58409302e+02],\n",
       "        [ 7.98417624e+00, -1.67822786e+01, -7.36485858e+00,\n",
       "         -8.33348330e-02,  3.04716300e+01,  2.52751572e+02],\n",
       "        ...,\n",
       "        [-2.45980281e+00, -8.96605278e+00, -1.24678662e+00,\n",
       "          2.30148152e+00,  3.80366247e+01,  2.00094215e+02],\n",
       "        [-3.70658943e+00, -6.66457126e+00,  0.00000000e+00,\n",
       "          0.00000000e+00,  3.55768219e+01,  1.91128162e+02],\n",
       "        [-3.70658943e+00, -6.66457126e+00,  0.00000000e+00,\n",
       "          0.00000000e+00,  3.18702325e+01,  1.84463591e+02]]),\n",
       " array([[ 12.2113369 , -13.18807994,  -2.5177035 ,   6.13329128,\n",
       "          66.30320488, 230.88100296],\n",
       "        [  9.6936334 ,  -7.05478866, -27.30583971,  15.71532007,\n",
       "          78.51454178, 217.69292302],\n",
       "        [-17.61220631,   8.66053141,  18.82995468, -11.01751268,\n",
       "          88.20817517, 210.63813436],\n",
       "        ...,\n",
       "        [ -0.38975643,  -6.28120337,  -0.47839055,   2.26177702,\n",
       "          42.6399294 , 205.47864405],\n",
       "        [ -0.86814697,  -4.01942635,   0.        ,   0.        ,\n",
       "          42.25017297, 199.19744068],\n",
       "        [ -0.86814697,  -4.01942635,   0.        ,   0.        ,\n",
       "          41.382026  , 195.17801433]])]"
      ]
     },
     "execution_count": 146,
     "metadata": {},
     "output_type": "execute_result"
    },
    {
     "data": {
      "text/plain": [
       "(1633, 6)"
      ]
     },
     "execution_count": 146,
     "metadata": {},
     "output_type": "execute_result"
    },
    {
     "data": {
      "text/plain": [
       "array([  7.03923131,  -7.73396546,   0.        ,   0.        ,\n",
       "        24.60974452, 242.11359228])"
      ]
     },
     "execution_count": 146,
     "metadata": {},
     "output_type": "execute_result"
    }
   ],
   "source": [
    "decoder_output_AD\n",
    "decoder_output_AD[0].shape\n",
    "decoder_output_AD[0][-1]"
   ]
  },
  {
   "cell_type": "markdown",
   "metadata": {},
   "source": [
    "### Part C: Partitioning and Running the Kalman Filter on the Same Buckets "
   ]
  },
  {
   "cell_type": "code",
   "execution_count": 87,
   "metadata": {},
   "outputs": [],
   "source": [
    "#Set what part of data should be part of the training/testing/validation sets\n",
    "\n",
    "training_range=[0, 0.8]\n",
    "valid_range=[0.8,0.9]\n",
    "testing_range=[0.9, 1]"
   ]
  },
  {
   "cell_type": "code",
   "execution_count": 88,
   "metadata": {},
   "outputs": [
    {
     "name": "stderr",
     "output_type": "stream",
     "text": [
      "/Users/rbhatt6/Documents/Neural_Decoding_Dev/Neural_Decoding/runModelsKF.py:48: RuntimeWarning: invalid value encountered in true_divide\n",
      "  X_train=(X_train-X_train_mean)/X_train_std\n",
      "/Users/rbhatt6/Documents/Neural_Decoding_Dev/Neural_Decoding/runModelsKF.py:49: RuntimeWarning: divide by zero encountered in true_divide\n",
      "  X_test=(X_test-X_train_mean)/X_train_std\n",
      "/Users/rbhatt6/Documents/Neural_Decoding_Dev/Neural_Decoding/runModelsKF.py:49: RuntimeWarning: invalid value encountered in true_divide\n",
      "  X_test=(X_test-X_train_mean)/X_train_std\n",
      "/Users/rbhatt6/Documents/Neural_Decoding_Dev/Neural_Decoding/runModelsKF.py:50: RuntimeWarning: invalid value encountered in true_divide\n",
      "  X_valid=(X_valid-X_train_mean)/X_train_std\n"
     ]
    }
   ],
   "source": [
    "# Running decoder on X and Y components together to get the prediction nom and denom to later compute the combined XY_FVAF\n",
    "from Neural_Decoding.runModelsKF import run_model_kf\n",
    "\n",
    "for i in range(len(frag_type)):\n",
    "\n",
    "    # Pulling local variables \n",
    "    input = locals()[\"sortIn_\"+frag_type[i]]\n",
    "    output = locals()[\"decoder_output_\"+frag_type[i]]\n",
    "\n",
    "    # Creating a local variable to hold (X, Y) predicted outputs for each frag type \n",
    "    parts = \"pred_parts_\" + frag_type[i]\n",
    "    locals()[parts] = run_model_kf(input, output, training_range, testing_range, valid_range, \"parts\")"
   ]
  },
  {
   "cell_type": "code",
   "execution_count": 94,
   "metadata": {},
   "outputs": [
    {
     "data": {
      "text/plain": [
       "105691.96777379638"
      ]
     },
     "execution_count": 94,
     "metadata": {},
     "output_type": "execute_result"
    }
   ],
   "source": [
    "pred_parts_AD[0][0][5]"
   ]
  },
  {
   "cell_type": "code",
   "execution_count": 96,
   "metadata": {},
   "outputs": [],
   "source": [
    "# Compute combined XY_FVAF (velocity only)\n",
    "from Neural_Decoding.metrics import compute_XY_FVAF\n",
    "\n",
    "for i in range(len(frag_type)):\n",
    "\n",
    "    # Pulling previously computed predicted_parts (i.e. nom and denom)\n",
    "    parts = locals()[ \"pred_parts_\" + frag_type[i]]\n",
    "    \n",
    "    # Creating a local variable to hold XY_FVAFs each frag type \n",
    "    XY_FVAF = \"XY_FVAF_\" + frag_type[i]\n",
    "    locals()[XY_FVAF] = []\n",
    "\n",
    "    for j in range(len(parts)):\n",
    "        #curr_bucket = Kalman_R2s_combined[i]\n",
    "        vel_x_nom = parts[j][0][0] # dim = (curr_bucket, nom, x_vel)\n",
    "        vel_x_denom = parts[j][1][0] # dim = (curr_bucket, denom, x_vel)\n",
    "        vel_y_nom = parts[j][0][1] # dim = (curr_bucket, nom, y_vel)\n",
    "        vel_y_denom = parts[j][1][1] # dim = (curr_bucket, denom, y_vel)\n",
    "\n",
    "        curr_bucket_XY_FVAF = compute_XY_FVAF(vel_x_nom,vel_x_denom,vel_y_nom,vel_y_denom)\n",
    "        locals()[XY_FVAF].append(curr_bucket_XY_FVAF)"
   ]
  },
  {
   "cell_type": "code",
   "execution_count": 99,
   "metadata": {},
   "outputs": [
    {
     "data": {
      "text/plain": [
       "[0.1841062251340041,\n",
       " nan,\n",
       " 0.15763774570315126,\n",
       " 0.14912740243211653,\n",
       " 0.1498301473946998,\n",
       " 0.1878203662639506,\n",
       " 0.15412887524048502,\n",
       " 0.17529831111052663,\n",
       " 0.07017912624038569,\n",
       " 0.0896783076780211,\n",
       " -0.04286038172450968,\n",
       " -0.029913522789741798,\n",
       " 0.04915769389920999,\n",
       " 0.06663389571021072,\n",
       " 0.06463894052602315,\n",
       " -0.09471064487266201]"
      ]
     },
     "execution_count": 99,
     "metadata": {},
     "output_type": "execute_result"
    }
   ],
   "source": [
    "XY_FVAF_HV"
   ]
  },
  {
   "cell_type": "markdown",
   "metadata": {},
   "source": [
    "### Part D: Partitioning and Running the Kalman Filter on Separate Training and Test Buckets"
   ]
  }
 ],
 "metadata": {
  "interpreter": {
   "hash": "31f2aee4e71d21fbe5cf8b01ff0e069b9275f58929596ceb00d14d90e3e16cd6"
  },
  "kernelspec": {
   "display_name": "Python 3.8.9 64-bit",
   "language": "python",
   "name": "python3"
  },
  "language_info": {
   "codemirror_mode": {
    "name": "ipython",
    "version": 3
   },
   "file_extension": ".py",
   "mimetype": "text/x-python",
   "name": "python",
   "nbconvert_exporter": "python",
   "pygments_lexer": "ipython3",
   "version": "3.8.9"
  },
  "orig_nbformat": 4
 },
 "nbformat": 4,
 "nbformat_minor": 2
}
