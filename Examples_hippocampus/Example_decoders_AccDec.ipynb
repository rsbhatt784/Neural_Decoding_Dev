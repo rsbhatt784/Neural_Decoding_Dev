{
 "cells": [
  {
   "cell_type": "markdown",
   "metadata": {},
   "source": [
    "# Examples of all decoders (except Kalman Filter)\n",
    "\n",
    "In this example notebook, we:\n",
    "1. Import the necessary packages\n",
    "2. Load a data file (spike trains and outputs we are predicting)\n",
    "3. Preprocess the data for use in all decoders\n",
    "4. Run some example decoders and print the goodness of fit\n",
    "5. Plot example decoded outputs\n",
    "\n",
    "See \"Examples_kf_decoder_hc\" for a Kalman filter example. <br>\n",
    "Because the Kalman filter utilizes different preprocessing, we don't include an example here (to keep this notebook more understandable)"
   ]
  },
  {
   "cell_type": "markdown",
   "metadata": {},
   "source": [
    "## 1. Import Packages\n",
    "\n",
    "Below, we import both standard packages, and functions from the accompanying .py files\n",
    "\n",
    "Note that you may need to specify the path below"
   ]
  },
  {
   "cell_type": "code",
   "execution_count": 1,
   "metadata": {},
   "outputs": [],
   "source": [
    "## (Configuration) Allows you to return multiple variables from a single cell ##\n",
    "from IPython.core.interactiveshell import InteractiveShell\n",
    "InteractiveShell.ast_node_interactivity = 'all'"
   ]
  },
  {
   "cell_type": "code",
   "execution_count": 2,
   "metadata": {},
   "outputs": [],
   "source": [
    "## Allows you to import files from another folder in current directory ## \n",
    "import os \n",
    "import sys \n",
    "module_path = os.path.abspath(os.path.join('..'))\n",
    "if module_path not in sys.path:\n",
    "    sys.path.append(module_path)"
   ]
  },
  {
   "cell_type": "code",
   "execution_count": 3,
   "metadata": {
    "collapsed": false
   },
   "outputs": [
    {
     "name": "stdout",
     "output_type": "stream",
     "text": [
      "\n",
      "WARNING: statsmodels is not installed. You will be unable to use the Naive Bayes Decoder\n",
      "\n",
      "WARNING: Xgboost package is not installed. You will be unable to use the xgboost decoder\n",
      "\n",
      "WARNING: Keras package is not installed. You will be unable to use all neural net decoders\n"
     ]
    }
   ],
   "source": [
    "#Import standard packages\n",
    "import numpy as np\n",
    "import matplotlib.pyplot as plt\n",
    "%matplotlib inline\n",
    "from scipy import io\n",
    "from scipy import stats\n",
    "import pickle\n",
    "import sys\n",
    "\n",
    "# # For Neural Network Models\n",
    "# from tensorflow import keras \n",
    "\n",
    "#Import function to get the covariate matrix that includes spike history from previous bins\n",
    "from Neural_Decoding.preprocessing_funcs import get_spikes_with_history\n",
    "\n",
    "#Import metrics\n",
    "from Neural_Decoding.metrics import get_R2\n",
    "from Neural_Decoding.metrics import get_rho\n",
    "\n",
    "#Import decoder functions\n",
    "from Neural_Decoding.decoders import WienerCascadeDecoder\n",
    "from Neural_Decoding.decoders import WienerFilterDecoder\n",
    "from Neural_Decoding.decoders import DenseNNDecoder\n",
    "from Neural_Decoding.decoders import SimpleRNNDecoder\n",
    "from Neural_Decoding.decoders import GRUDecoder\n",
    "from Neural_Decoding.decoders import LSTMDecoder\n",
    "from Neural_Decoding.decoders import XGBoostDecoder\n",
    "from Neural_Decoding.decoders import SVRDecoder"
   ]
  },
  {
   "cell_type": "markdown",
   "metadata": {},
   "source": [
    "## 2. Load Data\n",
    "The data for this example can be downloaded at this [link](https://www.dropbox.com/s/e9mul73ur9omu5f/example_data_hc.pickle?dl=0).\n",
    "\n",
    "It is the hc-2 dataset from [crcns](https://crcns.org/data-sets/hc/hc-2). Specifically, we use the dataset \"ec014.333\" \n",
    "\n",
    "\n",
    "The data that we load is in the format described below. We have another example notebook, \"Example_format_data_hc\", that may be helpful towards putting the data in this format.\n",
    "\n",
    "Neural data should be a matrix of size \"number of time bins\" x \"number of neurons\", where each entry is the firing rate of a given neuron in a given time bin\n",
    "\n",
    "The output you are decoding should be a matrix of size \"number of time bins\" x \"number of features you are decoding\"\n",
    "\n",
    " "
   ]
  },
  {
   "cell_type": "code",
   "execution_count": 14,
   "metadata": {
    "collapsed": false
   },
   "outputs": [],
   "source": [
    "folder='/Users/rbhatt6/Documents/MATLAB/' #ENTER THE FOLDER THAT YOUR DATA IS IN\n",
    "\n",
    "# Opening Acc/Dec Data \n",
    "with open(folder+'sortInAccDec.pickle','rb') as f:\n",
    "     sort_In=pickle.load(f,encoding='latin1') \n",
    "with open(folder+'sortOutXAccDec.pickle','rb') as f:\n",
    "     sort_Out_X=pickle.load(f,encoding='latin1') \n",
    "with open(folder+'sortOutYAccDec.pickle','rb') as f:\n",
    "     sort_Out_Y=pickle.load(f,encoding='latin1') "
   ]
  },
  {
   "cell_type": "markdown",
   "metadata": {},
   "source": [
    "## 3. Preprocess Data"
   ]
  },
  {
   "cell_type": "markdown",
   "metadata": {},
   "source": [
    "### 3A. User Inputs\n",
    "The user can define what time period to use spikes from (with respect to the output)."
   ]
  },
  {
   "cell_type": "code",
   "execution_count": 3,
   "metadata": {
    "collapsed": true
   },
   "outputs": [],
   "source": [
    "bins_before=4 #How many bins of neural data prior to the output are used for decoding\n",
    "bins_current=1 #Whether to use concurrent time bin of neural data\n",
    "bins_after=5 #How many bins of neural data after the output are used for decoding"
   ]
  },
  {
   "cell_type": "code",
   "execution_count": 5,
   "metadata": {},
   "outputs": [],
   "source": [
    "# No Memory or Prediction Used \n",
    "bins_before=0 #How many bins of neural data prior to the output are used for decoding\n",
    "bins_current=1 #Whether to use concurrent time bin of neural data\n",
    "bins_after=0 #How many bins of neural data after the output are used for decoding"
   ]
  },
  {
   "cell_type": "markdown",
   "metadata": {},
   "source": [
    "### 3B. Format Input Covariates"
   ]
  },
  {
   "cell_type": "markdown",
   "metadata": {},
   "source": [
    "#### Example Hippo Data"
   ]
  },
  {
   "cell_type": "code",
   "execution_count": 7,
   "metadata": {
    "collapsed": true
   },
   "outputs": [],
   "source": [
    "#Remove neurons with too few spikes in HC dataset\n",
    "nd_sum=np.nansum(neural_data,axis=0) #Total number of spikes of each neuron\n",
    "rmv_nrn=np.where(nd_sum<100) #Find neurons who have less than 100 spikes total\n",
    "neural_data=np.delete(neural_data,rmv_nrn,1) #Remove those neurons"
   ]
  },
  {
   "cell_type": "code",
   "execution_count": 11,
   "metadata": {
    "collapsed": true
   },
   "outputs": [
    {
     "data": {
      "text/plain": [
       "(28039, 1, 46)"
      ]
     },
     "execution_count": 11,
     "metadata": {},
     "output_type": "execute_result"
    },
    {
     "data": {
      "text/plain": [
       "(28039, 46)"
      ]
     },
     "execution_count": 11,
     "metadata": {},
     "output_type": "execute_result"
    }
   ],
   "source": [
    "# Format for recurrent neural networks (SimpleRNN, GRU, LSTM)\n",
    "# Function to get the covariate matrix that includes spike history from previous bins\n",
    "X=get_spikes_with_history(neural_data,bins_before,bins_after,bins_current)\n",
    "\n",
    "# Format for Wiener Filter, Wiener Cascade, XGBoost, and Dense Neural Network\n",
    "#Put in \"flat\" format, so each \"neuron / time\" is a single feature\n",
    "X_flat=X.reshape(X.shape[0],(X.shape[1]*X.shape[2]))\n",
    "\n",
    "X.shape\n",
    "X_flat.shape"
   ]
  },
  {
   "cell_type": "markdown",
   "metadata": {},
   "source": [
    "#### Format Output Covariates"
   ]
  },
  {
   "cell_type": "code",
   "execution_count": 6,
   "metadata": {
    "collapsed": false
   },
   "outputs": [],
   "source": [
    "#Set decoding output\n",
    "y=pos_binned"
   ]
  },
  {
   "cell_type": "code",
   "execution_count": 7,
   "metadata": {
    "collapsed": false
   },
   "outputs": [],
   "source": [
    "#Remove time bins with no output (y value)\n",
    "rmv_time=np.where(np.isnan(y[:,0]) | np.isnan(y[:,1])) #Find time bins with no output\n",
    "X=np.delete(X,rmv_time,0) #Remove those time bins from X\n",
    "X_flat=np.delete(X_flat,rmv_time,0) #Remove those time bins from X_flat\n",
    "y=np.delete(y,rmv_time,0) #Remove those time bins from y"
   ]
  },
  {
   "cell_type": "markdown",
   "metadata": {},
   "source": [
    "### 3C. Split into training / testing / validation sets\n",
    "Note that hyperparameters should be determined using a separate validation set. \n",
    "Then, the goodness of fit should be be tested on a testing set (separate from the training and validation sets)."
   ]
  },
  {
   "cell_type": "markdown",
   "metadata": {},
   "source": [
    "#### User Options"
   ]
  },
  {
   "cell_type": "code",
   "execution_count": 17,
   "metadata": {
    "collapsed": true
   },
   "outputs": [
    {
     "data": {
      "text/plain": [
       "16"
      ]
     },
     "execution_count": 17,
     "metadata": {},
     "output_type": "execute_result"
    }
   ],
   "source": [
    "training_range=[0, 0.8]\n",
    "valid_range=[0.8,0.9]\n",
    "testing_range=[0.9, 1]\n",
    "\n",
    "len(sort_In)"
   ]
  },
  {
   "cell_type": "code",
   "execution_count": 39,
   "metadata": {},
   "outputs": [],
   "source": [
    "# Training and Testing on X-Component and Y-Component\n",
    "\n",
    "#X_Comp_R2s_Weiner =[]\n",
    "#X_Comp_R2s_Weiner_Cascade =[]\n",
    "Y_Comp_R2s_Weiner =[]\n",
    "#Y_Comp_R2s_Weiner_Cascade =[]\n",
    "model = \"Wiener\"\n",
    "\n",
    "for i in range(len(sort_In)):\n",
    "    curr_Sort_In = sort_In[i]\n",
    "    curr_Sort_Out = sort_Out_Y[i]\n",
    "    # currSortOutY = sortOutY[i]\n",
    "    num_examples=curr_Sort_In.shape[0] # nRows (b/c nCols = number of units)\n",
    "\n",
    "    #Note that each range has a buffer of\"bins_before\" bins at the beginning, and \"bins_after\" bins at the end\n",
    "    #This makes it so that the different sets don't include overlapping neural data\n",
    "    training_set=np.arange(int(np.round(training_range[0]*num_examples))+bins_before,int(np.round(training_range[1]*num_examples))-bins_after)\n",
    "    testing_set=np.arange(int(np.round(testing_range[0]*num_examples))+bins_before,int(np.round(testing_range[1]*num_examples))-bins_after)\n",
    "    valid_set=np.arange(int(np.round(valid_range[0]*num_examples))+bins_before,int(np.round(valid_range[1]*num_examples))-bins_after)\n",
    "\n",
    "    #Get training data\n",
    "    X_train=curr_Sort_In[training_set,:]\n",
    "    y_train=curr_Sort_Out[training_set,:]\n",
    "\n",
    "    #Get testing data\n",
    "    X_test=curr_Sort_In[testing_set,:]\n",
    "    y_test=curr_Sort_Out[testing_set,:]\n",
    "\n",
    "    #Get validation data\n",
    "    X_valid=curr_Sort_In[valid_set,:]\n",
    "    y_valid=curr_Sort_Out[valid_set,:]\n",
    "\n",
    "    #Z-score \"X\" inputs. \n",
    "    X_train_mean=np.nanmean(X_train,axis=0)\n",
    "    X_train_std=np.nanstd(X_train,axis=0)\n",
    "    X_train=(X_train-X_train_mean)/X_train_std\n",
    "    X_test=(X_test-X_train_mean)/X_train_std\n",
    "    X_valid=(X_valid-X_train_mean)/X_train_std\n",
    "\n",
    "    #Zero-center outputs\n",
    "    y_train_mean=np.mean(y_train,axis=0)\n",
    "    y_train=y_train-y_train_mean\n",
    "    y_test=y_test-y_train_mean\n",
    "    y_valid=y_valid-y_train_mean\n",
    "\n",
    "    if model == \"Wiener\":\n",
    "        #Declare model\n",
    "        model_wf=WienerFilterDecoder()\n",
    "\n",
    "        #Fit model\n",
    "        model_wf.fit(X_train,y_train)\n",
    "\n",
    "        #Get predictions\n",
    "        y_valid_predicted_wf=model_wf.predict(X_valid)\n",
    "\n",
    "        #Get metric of fit\n",
    "        R2s_wf=get_R2(y_valid,y_valid_predicted_wf)\n",
    "        #X_Comp_R2s_Weiner.append(R2s_wf)\n",
    "        Y_Comp_R2s_Weiner.append(R2s_wf)\n",
    "    \n",
    "    elif model == \"WienerCasade\":\n",
    "        #Declare model\n",
    "        model_wc=WienerCascadeDecoder(degree=2)\n",
    "\n",
    "        #Fit model\n",
    "        model_wc.fit(X_train,y_train)\n",
    "\n",
    "        #Get predictions\n",
    "        y_valid_predicted_wc=model_wc.predict(X_valid)\n",
    "\n",
    "        #Get metric of fit\n",
    "        R2s_wc=get_R2(y_valid,y_valid_predicted_wc)\n",
    "        #X_Comp_R2s_Weiner_Cascade.append(R2s_wc)\n",
    "        Y_Comp_R2s_Weiner_Cascade.append(R2s_wc)\n"
   ]
  },
  {
   "cell_type": "code",
   "execution_count": 65,
   "metadata": {},
   "outputs": [],
   "source": [
    "# X_Comp_R2s_Weiner\n",
    "\n",
    "# X_Comp_R2s_Weiner_Cascade\n",
    "\n",
    "# Y_Comp_R2s_Weiner\n",
    "\n",
    "# Y_Comp_R2s_Weiner_Cascade"
   ]
  },
  {
   "cell_type": "code",
   "execution_count": 67,
   "metadata": {},
   "outputs": [],
   "source": [
    "# Cleaning R2 results\n",
    "\n",
    "X_Comp_R2s_Weiner_Final = []\n",
    "X_Comp_R2s_Weiner_Cascade_Final = []\n",
    "Y_Comp_R2s_Weiner_Final = []\n",
    "Y_Comp_R2s_Weiner_Cascade_Final = []\n",
    "\n",
    "for i in range(len(X_Comp_R2s_Weiner)):\n",
    "    X_Comp_R2s_Weiner_Final.append(X_Comp_R2s_Weiner[i][0])\n",
    "    X_Comp_R2s_Weiner_Cascade_Final.append(X_Comp_R2s_Weiner_Cascade[i][0])\n",
    "    Y_Comp_R2s_Weiner_Final.append(Y_Comp_R2s_Weiner[i][0])\n",
    "    Y_Comp_R2s_Weiner_Cascade_Final.append(Y_Comp_R2s_Weiner_Cascade[i][0])\n",
    "    \n",
    "# np.array(X_Comp_R2s_Weiner_Final)\n",
    "# np.array(X_Comp_R2s_Weiner_Cascade_Final)\n",
    "# np.array(Y_Comp_R2s_Weiner_Final)\n",
    "# np.array(Y_Comp_R2s_Weiner_Cascade_Final)"
   ]
  },
  {
   "cell_type": "code",
   "execution_count": 64,
   "metadata": {},
   "outputs": [],
   "source": [
    "# Saving results in a matlab file \n",
    "\n",
    "from scipy.io import savemat\n",
    "import numpy\n",
    "\n",
    "L = [X_Comp_R2s_Weiner_Final, X_Comp_R2s_Weiner_Cascade_Final, Y_Comp_R2s_Weiner_Final, Y_Comp_R2s_Weiner_Cascade_Final]\n",
    "\n",
    "FrameStack = np.empty((4,), dtype=object)\n",
    "for i in range(len(L)):\n",
    "    FrameStack[i] = L[i]\n",
    "\n",
    "savemat(\"modelOutputs.mat\", {\"FrameStack\":FrameStack})"
   ]
  },
  {
   "cell_type": "code",
   "execution_count": 75,
   "metadata": {},
   "outputs": [
    {
     "data": {
      "text/plain": [
       "[<matplotlib.lines.Line2D at 0x147d3cf10>]"
      ]
     },
     "execution_count": 75,
     "metadata": {},
     "output_type": "execute_result"
    },
    {
     "data": {
      "text/plain": [
       "[<matplotlib.lines.Line2D at 0x147d480a0>]"
      ]
     },
     "execution_count": 75,
     "metadata": {},
     "output_type": "execute_result"
    },
    {
     "data": {
      "text/plain": [
       "<matplotlib.legend.Legend at 0x147d3ceb0>"
      ]
     },
     "execution_count": 75,
     "metadata": {},
     "output_type": "execute_result"
    },
    {
     "data": {
      "text/plain": [
       "Text(0.5, 1.0, 'Wiener Filter')"
      ]
     },
     "execution_count": 75,
     "metadata": {},
     "output_type": "execute_result"
    },
    {
     "data": {
      "text/plain": [
       "[<matplotlib.lines.Line2D at 0x147d897f0>]"
      ]
     },
     "execution_count": 75,
     "metadata": {},
     "output_type": "execute_result"
    },
    {
     "data": {
      "text/plain": [
       "[<matplotlib.lines.Line2D at 0x147d89790>]"
      ]
     },
     "execution_count": 75,
     "metadata": {},
     "output_type": "execute_result"
    },
    {
     "data": {
      "text/plain": [
       "<matplotlib.legend.Legend at 0x147d2e5b0>"
      ]
     },
     "execution_count": 75,
     "metadata": {},
     "output_type": "execute_result"
    },
    {
     "data": {
      "text/plain": [
       "Text(0.5, 1.0, 'Wiener Cascade Filter')"
      ]
     },
     "execution_count": 75,
     "metadata": {},
     "output_type": "execute_result"
    },
    {
     "data": {
      "image/png": "[encoded data removed]",
      "text/plain": [
       "<Figure size 432x288 with 1 Axes>"
      ]
     },
     "metadata": {
      "needs_background": "light"
     },
     "output_type": "display_data"
    },
    {
     "data": {
      "image/png": "[encoded data removed]",
      "text/plain": [
       "<Figure size 432x288 with 1 Axes>"
      ]
     },
     "metadata": {
      "needs_background": "light"
     },
     "output_type": "display_data"
    }
   ],
   "source": [
    "# Plot the results \n",
    "\n",
    "fig_Wiener = plt.figure()\n",
    "plt.plot(X_Comp_R2s_Weiner_Final,'b')\n",
    "plt.plot(Y_Comp_R2s_Weiner_Final, 'r')\n",
    "fig_Wiener.legend(['X Component', 'Y Component'])\n",
    "plt.title(\"Wiener Filter\")\n",
    "\n",
    "fig_Wiener_Casade = plt.figure()\n",
    "plt.plot(X_Comp_R2s_Weiner_Cascade_Final,'b')\n",
    "plt.plot(Y_Comp_R2s_Weiner_Cascade_Final, 'r')\n",
    "fig_Wiener_Casade.legend(['X Component', 'Y Component'])\n",
    "plt.title(\"Wiener Cascade Filter\")"
   ]
  },
  {
   "cell_type": "markdown",
   "metadata": {},
   "source": [
    "### 3D. Process Covariates\n",
    "We normalize (z_score) the inputs and zero-center the outputs.\n",
    "Parameters for z-scoring (mean/std.) should be determined on the training set only, and then these z-scoring parameters are also used on the testing and validation sets."
   ]
  },
  {
   "cell_type": "markdown",
   "metadata": {},
   "source": [
    "## 4. Run Decoders\n",
    "In this example, we are evaluating the model fit on the validation set\n",
    "\n",
    "**In this file, I only include some of the decoders. For examples of all the decoders, see the main example file (used with S1 data).**"
   ]
  },
  {
   "cell_type": "markdown",
   "metadata": {},
   "source": [
    "### 4A. Wiener Filter (Linear Regression)"
   ]
  },
  {
   "cell_type": "code",
   "execution_count": 11,
   "metadata": {
    "collapsed": false,
    "scrolled": true
   },
   "outputs": [
    {
     "name": "stdout",
     "output_type": "stream",
     "text": [
      "('R2s:', array([ 0.2607354 ,  0.32976491]))\n"
     ]
    }
   ],
   "source": [
    "#Declare model\n",
    "model_wf=WienerFilterDecoder()\n",
    "\n",
    "#Fit model\n",
    "model_wf.fit(X_flat_train,y_train)\n",
    "\n",
    "#Get predictions\n",
    "y_valid_predicted_wf=model_wf.predict(X_flat_valid)\n",
    "\n",
    "#Get metric of fit\n",
    "R2s_wf=get_R2(y_valid,y_valid_predicted_wf)\n",
    "print('R2s:', R2s_wf)"
   ]
  },
  {
   "cell_type": "markdown",
   "metadata": {},
   "source": [
    "### 4B. Wiener Cascade (Linear Nonlinear Model)"
   ]
  },
  {
   "cell_type": "code",
   "execution_count": 33,
   "metadata": {
    "collapsed": false
   },
   "outputs": [
    {
     "name": "stdout",
     "output_type": "stream",
     "text": [
      "('R2s:', array([ 0.23998054,  0.34033074]))\n"
     ]
    }
   ],
   "source": [
    "#Declare model\n",
    "model_wc=WienerCascadeDecoder(degree=2)\n",
    "\n",
    "#Fit model\n",
    "model_wc.fit(X_flat_train,y_train)\n",
    "\n",
    "#Get predictions\n",
    "y_valid_predicted_wc=model_wc.predict(X_flat_valid)\n",
    "\n",
    "#Get metric of fit\n",
    "R2s_wc=get_R2(y_valid,y_valid_predicted_wc)\n",
    "print('R2s:', R2s_wc)"
   ]
  },
  {
   "cell_type": "markdown",
   "metadata": {},
   "source": [
    "### 4C. Dense (Feedfoward) Neural Network"
   ]
  },
  {
   "cell_type": "code",
   "execution_count": 42,
   "metadata": {
    "collapsed": false
   },
   "outputs": [
    {
     "name": "stdout",
     "output_type": "stream",
     "text": [
      "('R2s:', array([ 0.42482215,  0.48195541]))\n"
     ]
    }
   ],
   "source": [
    "#Declare model\n",
    "model_dnn=DenseNNDecoder(units=100,dropout=0.25,num_epochs=10)\n",
    "\n",
    "#Fit model\n",
    "model_dnn.fit(X_flat_train,y_train)\n",
    "\n",
    "#Get predictions\n",
    "y_valid_predicted_dnn=model_dnn.predict(X_flat_valid)\n",
    "\n",
    "#Get metric of fit\n",
    "R2s_dnn=get_R2(y_valid,y_valid_predicted_dnn)\n",
    "print('R2s:', R2s_dnn)"
   ]
  },
  {
   "cell_type": "markdown",
   "metadata": {},
   "source": [
    "### 4D. LSTM"
   ]
  },
  {
   "cell_type": "code",
   "execution_count": 68,
   "metadata": {
    "collapsed": false
   },
   "outputs": [
    {
     "ename": "NameError",
     "evalue": "name 'Sequential' is not defined",
     "output_type": "error",
     "traceback": [
      "\u001b[0;31m---------------------------------------------------------------------------\u001b[0m",
      "\u001b[0;31mNameError\u001b[0m                                 Traceback (most recent call last)",
      "\u001b[0;32m<ipython-input-68-a0acc1ee9e82>\u001b[0m in \u001b[0;36m<module>\u001b[0;34m\u001b[0m\n\u001b[1;32m      3\u001b[0m \u001b[0;34m\u001b[0m\u001b[0m\n\u001b[1;32m      4\u001b[0m \u001b[0;31m#Fit model\u001b[0m\u001b[0;34m\u001b[0m\u001b[0;34m\u001b[0m\u001b[0;34m\u001b[0m\u001b[0m\n\u001b[0;32m----> 5\u001b[0;31m \u001b[0mmodel_lstm\u001b[0m\u001b[0;34m.\u001b[0m\u001b[0mfit\u001b[0m\u001b[0;34m(\u001b[0m\u001b[0mX_train\u001b[0m\u001b[0;34m,\u001b[0m\u001b[0my_train\u001b[0m\u001b[0;34m)\u001b[0m\u001b[0;34m\u001b[0m\u001b[0;34m\u001b[0m\u001b[0m\n\u001b[0m\u001b[1;32m      6\u001b[0m \u001b[0;34m\u001b[0m\u001b[0m\n\u001b[1;32m      7\u001b[0m \u001b[0;31m#Get predictions\u001b[0m\u001b[0;34m\u001b[0m\u001b[0;34m\u001b[0m\u001b[0;34m\u001b[0m\u001b[0m\n",
      "\u001b[0;32m~/Documents/Neural_Decoding_Dev/Neural_Decoding/decoders.py\u001b[0m in \u001b[0;36mfit\u001b[0;34m(self, X_train, y_train)\u001b[0m\n\u001b[1;32m    634\u001b[0m         \"\"\"\n\u001b[1;32m    635\u001b[0m \u001b[0;34m\u001b[0m\u001b[0m\n\u001b[0;32m--> 636\u001b[0;31m         \u001b[0mmodel\u001b[0m\u001b[0;34m=\u001b[0m\u001b[0mSequential\u001b[0m\u001b[0;34m(\u001b[0m\u001b[0;34m)\u001b[0m \u001b[0;31m#Declare model\u001b[0m\u001b[0;34m\u001b[0m\u001b[0;34m\u001b[0m\u001b[0m\n\u001b[0m\u001b[1;32m    637\u001b[0m         \u001b[0;31m#Add recurrent layer\u001b[0m\u001b[0;34m\u001b[0m\u001b[0;34m\u001b[0m\u001b[0;34m\u001b[0m\u001b[0m\n\u001b[1;32m    638\u001b[0m         \u001b[0;32mif\u001b[0m \u001b[0mkeras_v1\u001b[0m\u001b[0;34m:\u001b[0m\u001b[0;34m\u001b[0m\u001b[0;34m\u001b[0m\u001b[0m\n",
      "\u001b[0;31mNameError\u001b[0m: name 'Sequential' is not defined"
     ]
    }
   ],
   "source": [
    "#Declare model\n",
    "model_lstm=LSTMDecoder(units=100,dropout=.25,num_epochs=10)\n",
    "\n",
    "#Fit model\n",
    "model_lstm.fit(X_train,y_train)\n",
    "\n",
    "#Get predictions\n",
    "y_valid_predicted_lstm=model_lstm.predict(X_valid)\n",
    "\n",
    "#Get metric of fit\n",
    "R2s_lstm=get_R2(y_valid,y_valid_predicted_lstm)\n",
    "print('R2s:', R2s_lstm)"
   ]
  },
  {
   "cell_type": "markdown",
   "metadata": {},
   "source": [
    "## 5. Make Plots"
   ]
  },
  {
   "cell_type": "code",
   "execution_count": 53,
   "metadata": {
    "collapsed": false
   },
   "outputs": [
    {
     "data": {
      "text/plain": [
       "[<matplotlib.lines.Line2D at 0x7f39767f2f90>]"
      ]
     },
     "execution_count": 53,
     "metadata": {},
     "output_type": "execute_result"
    },
    {
     "data": {
      "image/png": "[encoded data removed]",
      "text/plain": [
       "<matplotlib.figure.Figure at 0x7f3976813cd0>"
      ]
     },
     "metadata": {},
     "output_type": "display_data"
    }
   ],
   "source": [
    "#As an example, I plot an example 3000 values of the x position (column index 0), both true and predicted with the Feedfoward neural network\n",
    "#Note that I add back in the mean value, so that both true and predicted values are in the original coordinates\n",
    "fig_x_dnn=plt.figure()\n",
    "plt.plot(y_valid[2000:5000,0]+y_train_mean[0],'b')\n",
    "plt.plot(y_valid_predicted_dnn[2000:5000,0]+y_train_mean[0],'r')\n",
    "\n",
    "#Save figure\n",
    "# fig_x_dnn.savefig('x_position_decoding.eps')"
   ]
  },
  {
   "cell_type": "code",
   "execution_count": null,
   "metadata": {
    "collapsed": true
   },
   "outputs": [],
   "source": []
  }
 ],
 "metadata": {
  "anaconda-cloud": {},
  "interpreter": {
   "hash": "31f2aee4e71d21fbe5cf8b01ff0e069b9275f58929596ceb00d14d90e3e16cd6"
  },
  "kernelspec": {
   "display_name": "Python 3.8.9 64-bit",
   "language": "python",
   "name": "python3"
  },
  "language_info": {
   "codemirror_mode": {
    "name": "ipython",
    "version": 3
   },
   "file_extension": ".py",
   "mimetype": "text/x-python",
   "name": "python",
   "nbconvert_exporter": "python",
   "pygments_lexer": "ipython3",
   "version": "3.8.9"
  }
 },
 "nbformat": 4,
 "nbformat_minor": 0
}
