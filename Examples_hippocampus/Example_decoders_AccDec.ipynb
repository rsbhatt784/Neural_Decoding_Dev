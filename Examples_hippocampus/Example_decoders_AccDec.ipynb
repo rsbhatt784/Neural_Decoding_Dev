{
 "cells": [
  {
   "cell_type": "markdown",
   "metadata": {},
   "source": [
    "# Examples of all decoders (except Kalman Filter)\n",
    "\n",
    "In this example notebook, we:\n",
    "1. Import the necessary packages\n",
    "2. Load a data file (spike trains and outputs we are predicting)\n",
    "3. Preprocess the data for use in all decoders\n",
    "4. Run some example decoders and print the goodness of fit\n",
    "5. Plot example decoded outputs\n",
    "\n",
    "See \"Examples_kf_decoder_hc\" for a Kalman filter example. <br>\n",
    "Because the Kalman filter utilizes different preprocessing, we don't include an example here (to keep this notebook more understandable)"
   ]
  },
  {
   "cell_type": "markdown",
   "metadata": {},
   "source": [
    "## 1. Import Packages\n",
    "\n",
    "Below, we import both standard packages, and functions from the accompanying .py files\n",
    "\n",
    "Note that you may need to specify the path below"
   ]
  },
  {
   "cell_type": "code",
   "execution_count": 1,
   "metadata": {},
   "outputs": [],
   "source": [
    "## (Configuration) Allows you to return multiple variables from a single cell ##\n",
    "from IPython.core.interactiveshell import InteractiveShell\n",
    "InteractiveShell.ast_node_interactivity = 'all'"
   ]
  },
  {
   "cell_type": "code",
   "execution_count": 2,
   "metadata": {},
   "outputs": [],
   "source": [
    "## Allows you to import files from another folder in current directory ## \n",
    "import os \n",
    "import sys \n",
    "module_path = os.path.abspath(os.path.join('..'))\n",
    "if module_path not in sys.path:\n",
    "    sys.path.append(module_path)"
   ]
  },
  {
   "cell_type": "code",
   "execution_count": 3,
   "metadata": {
    "collapsed": false
   },
   "outputs": [
    {
     "name": "stdout",
     "output_type": "stream",
     "text": [
      "\n",
      "WARNING: statsmodels is not installed. You will be unable to use the Naive Bayes Decoder\n",
      "\n",
      "WARNING: Xgboost package is not installed. You will be unable to use the xgboost decoder\n",
      "\n",
      "WARNING: Keras package is not installed. You will be unable to use all neural net decoders\n"
     ]
    }
   ],
   "source": [
    "#Import standard packages\n",
    "import numpy as np\n",
    "import matplotlib.pyplot as plt\n",
    "%matplotlib inline\n",
    "from scipy import io\n",
    "from scipy import stats\n",
    "import pickle\n",
    "import sys\n",
    "\n",
    "# # For Neural Network Models\n",
    "# from tensorflow import keras \n",
    "\n",
    "#Import function to get the covariate matrix that includes spike history from previous bins\n",
    "from Neural_Decoding.preprocessing_funcs import get_spikes_with_history\n",
    "\n",
    "#Import metrics\n",
    "from Neural_Decoding.metrics import get_R2\n",
    "from Neural_Decoding.metrics import get_rho\n",
    "\n",
    "#Import decoder functions\n",
    "from Neural_Decoding.decoders import WienerCascadeDecoder\n",
    "from Neural_Decoding.decoders import WienerFilterDecoder\n",
    "from Neural_Decoding.decoders import DenseNNDecoder\n",
    "from Neural_Decoding.decoders import SimpleRNNDecoder\n",
    "from Neural_Decoding.decoders import GRUDecoder\n",
    "from Neural_Decoding.decoders import LSTMDecoder\n",
    "from Neural_Decoding.decoders import XGBoostDecoder\n",
    "from Neural_Decoding.decoders import SVRDecoder\n"
   ]
  },
  {
   "cell_type": "markdown",
   "metadata": {},
   "source": [
    "## 2. Load Data\n",
    "The data for this example can be downloaded at this [link](https://www.dropbox.com/s/e9mul73ur9omu5f/example_data_hc.pickle?dl=0).\n",
    "\n",
    "It is the hc-2 dataset from [crcns](https://crcns.org/data-sets/hc/hc-2). Specifically, we use the dataset \"ec014.333\" \n",
    "\n",
    "\n",
    "The data that we load is in the format described below. We have another example notebook, \"Example_format_data_hc\", that may be helpful towards putting the data in this format.\n",
    "\n",
    "Neural data should be a matrix of size \"number of time bins\" x \"number of neurons\", where each entry is the firing rate of a given neuron in a given time bin\n",
    "\n",
    "The output you are decoding should be a matrix of size \"number of time bins\" x \"number of features you are decoding\"\n",
    "\n",
    " "
   ]
  },
  {
   "cell_type": "code",
   "execution_count": 4,
   "metadata": {
    "collapsed": false
   },
   "outputs": [],
   "source": [
    "folder='/Users/rbhatt6/Documents/MATLAB/' #ENTER THE FOLDER THAT YOUR DATA IS IN\n",
    "\n",
    "# Opening Acc/Dec Data \n",
    "with open(folder+'sortInAccDec.pickle','rb') as f:\n",
    "     sort_In=pickle.load(f,encoding='latin1') \n",
    "with open(folder+'sortOutXAccDec.pickle','rb') as f:\n",
    "     sort_Out_X=pickle.load(f,encoding='latin1') \n",
    "with open(folder+'sortOutYAccDec.pickle','rb') as f:\n",
    "     sort_Out_Y=pickle.load(f,encoding='latin1') "
   ]
  },
  {
   "cell_type": "markdown",
   "metadata": {},
   "source": [
    "## 3. Preprocess Data"
   ]
  },
  {
   "cell_type": "markdown",
   "metadata": {},
   "source": [
    "### 3A. User Inputs\n",
    "The user can define what time period to use spikes from (with respect to the output)."
   ]
  },
  {
   "cell_type": "code",
   "execution_count": 5,
   "metadata": {},
   "outputs": [],
   "source": [
    "# # No Memory or Prediction Used \n",
    "# bins_before=0 #How many bins of neural data prior to the output are used for decoding\n",
    "# bins_current=1 #Whether to use concurrent time bin of neural data\n",
    "# bins_after=0 #How many bins of neural data after the output are used for decoding\n",
    "\n",
    "# Using 500 ms (or 550ms b/c current_bin is the 11th bin used?) of preceding neural data to predict output in the current 50 ms bin\n",
    "bins_before=10 #How many bins of neural data prior to the output are used for decoding\n",
    "bins_current=1 #Whether to use concurrent time bin of neural data\n",
    "bins_after=0 #How many bins of neural data after the output are used for decoding"
   ]
  },
  {
   "cell_type": "markdown",
   "metadata": {},
   "source": [
    "### 3C. Split into training / testing / validation sets\n",
    "Note that hyperparameters should be determined using a separate validation set. \n",
    "Then, the goodness of fit should be be tested on a testing set (separate from the training and validation sets).\n",
    "\n",
    "### 3D. Process Covariates\n",
    "We normalize (z_score) the inputs and zero-center the outputs.\n",
    "Parameters for z-scoring (mean/std.) should be determined on the training set only, and then these z-scoring parameters are also used on the testing and validation sets."
   ]
  },
  {
   "cell_type": "markdown",
   "metadata": {},
   "source": [
    "#### User Options"
   ]
  },
  {
   "cell_type": "code",
   "execution_count": 6,
   "metadata": {
    "collapsed": true
   },
   "outputs": [],
   "source": [
    "training_range=[0, 0.8]\n",
    "valid_range=[0.8,0.9]\n",
    "testing_range=[0.9, 1]"
   ]
  },
  {
   "cell_type": "code",
   "execution_count": 7,
   "metadata": {},
   "outputs": [],
   "source": [
    "## Computing R2s (and optionally the numerator and denominators for computing R2)\n",
    "from Neural_Decoding.runModels import run_model\n",
    "\n",
    "Wiener_R2s_X = run_model(sort_In, sort_Out_X, \"Wiener\", training_range, testing_range, valid_range, bins_before, bins_after, \"score\")\n",
    "Wiener_R2s_Y = run_model(sort_In, sort_Out_Y, \"Wiener\", training_range, testing_range, valid_range, bins_before, bins_after,\"score\")\n",
    "Wiener_Cascade_R2s_X = run_model(sort_In, sort_Out_X, \"WienerCasade\", training_range, testing_range, valid_range, bins_before, bins_after,\"score\")\n",
    "Wiener_Cascade_R2s_Y = run_model(sort_In, sort_Out_Y, \"WienerCasade\", training_range, testing_range, valid_range, bins_before, bins_after,\"score\")"
   ]
  },
  {
   "cell_type": "code",
   "execution_count": 21,
   "metadata": {},
   "outputs": [],
   "source": [
    "## Running decoder on X and Y components to get their nom and denom for later computing combined XY_FVAF\n",
    "from Neural_Decoding.runModels import run_model\n",
    "\n",
    "Wiener_parts_X = run_model(sort_In, sort_Out_X, \"Wiener\", training_range, testing_range, valid_range, bins_before, bins_after, \"parts\")\n",
    "Wiener_parts_Y = run_model(sort_In, sort_Out_Y, \"Wiener\", training_range, testing_range, valid_range, bins_before, bins_after,\"parts\")\n",
    "Wiener_Cascade_parts_X = run_model(sort_In, sort_Out_X, \"WienerCasade\", training_range, testing_range, valid_range, bins_before, bins_after,\"parts\")\n",
    "Wiener_Cascade_parts_Y = run_model(sort_In, sort_Out_Y, \"WienerCasade\", training_range, testing_range, valid_range, bins_before, bins_after,\"parts\")"
   ]
  },
  {
   "cell_type": "code",
   "execution_count": 29,
   "metadata": {},
   "outputs": [
    {
     "data": {
      "text/plain": [
       "2.5116250500720687"
      ]
     },
     "execution_count": 29,
     "metadata": {},
     "output_type": "execute_result"
    }
   ],
   "source": [
    "Wiener_parts_X[0][0][0]"
   ]
  },
  {
   "cell_type": "code",
   "execution_count": 31,
   "metadata": {},
   "outputs": [
    {
     "data": {
      "text/plain": [
       "[0.15306640583495879,\n",
       " 0.08550544771062707,\n",
       " 0.2871853113329216,\n",
       " 0.27495262139458654,\n",
       " 0.3401412049197926,\n",
       " 0.3264429951693387,\n",
       " 0.3096791188420551,\n",
       " 0.22841778362465803,\n",
       " 0.2732520228700396,\n",
       " 0.29292655500406173,\n",
       " 0.2969786622881263,\n",
       " 0.18037671326618987,\n",
       " 0.11023572711692609,\n",
       " 0.05089014584843432,\n",
       " 0.1452675760177038,\n",
       " 0.2201344804435008]"
      ]
     },
     "execution_count": 31,
     "metadata": {},
     "output_type": "execute_result"
    },
    {
     "data": {
      "text/plain": [
       "[0.17616199729685578,\n",
       " 0.12780831417930882,\n",
       " 0.3088683259897822,\n",
       " 0.29037894891031146,\n",
       " 0.35252836078653993,\n",
       " 0.35127774055747674,\n",
       " 0.3215330975223858,\n",
       " 0.2612778914360512,\n",
       " 0.2744962565576373,\n",
       " 0.29231745764312844,\n",
       " 0.2965473454782016,\n",
       " 0.17072395607983548,\n",
       " 0.11591109562283186,\n",
       " 0.039046852135818155,\n",
       " 0.16483036271241025,\n",
       " 0.22168090785303896]"
      ]
     },
     "execution_count": 31,
     "metadata": {},
     "output_type": "execute_result"
    }
   ],
   "source": [
    "## Computing combined XY_R2s (i.e. XY_FVAF) for Wiener and Wiener Cascade results\n",
    "from Neural_Decoding.metrics import compute_XY_FVAF\n",
    "\n",
    "Wiener_R2s_XY = []\n",
    "for i in range(len(Wiener_R2s_X)):\n",
    "    #curr_bucket = Kalman_R2s_combined[i]\n",
    "    vel_x_nom = Wiener_parts_X[i][0][0] # dim = (curr_bucket, nom, array->value)\n",
    "    vel_x_denom = Wiener_parts_X[i][1][0] # dim = (curr_bucket, denom, array->value)\n",
    "    vel_y_nom = Wiener_parts_Y[i][0][0] # dim = (curr_bucket, nom, array->value)\n",
    "    vel_y_denom = Wiener_parts_Y[i][1][0] # dim = (curr_bucket, denom, array->value)\n",
    "\n",
    "    curr_bucket_XY_FVAF = compute_XY_FVAF(vel_x_nom,vel_x_denom,vel_y_nom,vel_y_denom)\n",
    "    Wiener_R2s_XY.append(curr_bucket_XY_FVAF)\n",
    "\n",
    "Wiener_R2s_XY\n",
    "\n",
    "Wiener_Cascade_R2s_XY = []\n",
    "for i in range(len(Wiener_R2s_X)):\n",
    "    #curr_bucket = Kalman_R2s_combined[i]\n",
    "    vel_x_nom = Wiener_Cascade_parts_X[i][0][0] # dim = (curr_bucket, nom, array->value)\n",
    "    vel_x_denom = Wiener_Cascade_parts_X[i][1][0] # dim = (curr_bucket, denom, array->value)\n",
    "    vel_y_nom = Wiener_Cascade_parts_Y[i][0][0] # dim = (curr_bucket, nom, array->value)\n",
    "    vel_y_denom = Wiener_Cascade_parts_Y[i][1][0] # dim = (curr_bucket, denom, array->value)\n",
    "\n",
    "    curr_bucket_XY_FVAF = compute_XY_FVAF(vel_x_nom,vel_x_denom,vel_y_nom,vel_y_denom)\n",
    "    Wiener_Cascade_R2s_XY.append(curr_bucket_XY_FVAF)\n",
    "\n",
    "Wiener_Cascade_R2s_XY"
   ]
  },
  {
   "cell_type": "code",
   "execution_count": 17,
   "metadata": {},
   "outputs": [
    {
     "data": {
      "text/plain": [
       "[array([0.20123691]),\n",
       " array([0.04168588]),\n",
       " array([-0.09152728]),\n",
       " array([0.27572046]),\n",
       " array([0.40455634]),\n",
       " array([0.33800287]),\n",
       " array([-0.0197371]),\n",
       " array([0.29152715]),\n",
       " array([0.32724678]),\n",
       " array([0.21747873]),\n",
       " array([0.02616073]),\n",
       " array([0.09873408]),\n",
       " array([0.10439743]),\n",
       " array([-0.15179183]),\n",
       " array([-0.08840906]),\n",
       " array([0.25430382])]"
      ]
     },
     "execution_count": 17,
     "metadata": {},
     "output_type": "execute_result"
    }
   ],
   "source": [
    "# Wiener_R2s_X\n",
    "# Wiener_R2s_Y\n",
    "# Wiener_Cascade_R2s_X\n",
    "# Wiener_Cascade_R2s_Y"
   ]
  },
  {
   "cell_type": "code",
   "execution_count": 19,
   "metadata": {},
   "outputs": [],
   "source": [
    "# (Optional) Re-format the decoder outputs\n",
    "Wiener_R2s_X_Final = []\n",
    "Wiener_R2s_Y_Final = []\n",
    "Wiener_Cascade_R2s_X_Final = []\n",
    "Wiener_Cascade_R2s_Y_Final = []\n",
    "\n",
    "for i in range(len(Wiener_R2s_X)):\n",
    "    Wiener_R2s_X_Final.append(Wiener_R2s_X[i][0])\n",
    "    Wiener_Cascade_R2s_X_Final.append(Wiener_Cascade_R2s_X[i][0])\n",
    "    Wiener_R2s_Y_Final.append(Wiener_R2s_Y[i][0])\n",
    "    Wiener_Cascade_R2s_Y_Final.append(Wiener_Cascade_R2s_Y[i][0])\n",
    "\n",
    "# np.array(X_Comp_R2s_Weiner_Final)\n",
    "# np.array(X_Comp_R2s_Weiner_Cascade_Final)\n",
    "# np.array(Y_Comp_R2s_Weiner_Final)\n",
    "# np.array(Y_Comp_R2s_Weiner_Cascade_Final)"
   ]
  },
  {
   "cell_type": "code",
   "execution_count": 16,
   "metadata": {},
   "outputs": [],
   "source": [
    "# Saving results in a matlab file \n",
    "\n",
    "from scipy.io import savemat\n",
    "import numpy\n",
    "\n",
    "L = [Wiener_R2s_X, Wiener_R2s_Y, Wiener_R2s_XY, Wiener_Cascade_R2s_X, Wiener_Cascade_R2s_Y, Wiener_Cascade_R2s_XY]\n",
    "\n",
    "FrameStack = np.empty((6,), dtype=object)\n",
    "for i in range(len(L)):\n",
    "    FrameStack[i] = L[i]\n",
    "\n",
    "savemat(\"modelOutputsUpdated.mat\", {\"modelOutputs\":FrameStack})"
   ]
  },
  {
   "cell_type": "code",
   "execution_count": 75,
   "metadata": {},
   "outputs": [
    {
     "data": {
      "text/plain": [
       "[<matplotlib.lines.Line2D at 0x147d3cf10>]"
      ]
     },
     "execution_count": 75,
     "metadata": {},
     "output_type": "execute_result"
    },
    {
     "data": {
      "text/plain": [
       "[<matplotlib.lines.Line2D at 0x147d480a0>]"
      ]
     },
     "execution_count": 75,
     "metadata": {},
     "output_type": "execute_result"
    },
    {
     "data": {
      "text/plain": [
       "<matplotlib.legend.Legend at 0x147d3ceb0>"
      ]
     },
     "execution_count": 75,
     "metadata": {},
     "output_type": "execute_result"
    },
    {
     "data": {
      "text/plain": [
       "Text(0.5, 1.0, 'Wiener Filter')"
      ]
     },
     "execution_count": 75,
     "metadata": {},
     "output_type": "execute_result"
    },
    {
     "data": {
      "text/plain": [
       "[<matplotlib.lines.Line2D at 0x147d897f0>]"
      ]
     },
     "execution_count": 75,
     "metadata": {},
     "output_type": "execute_result"
    },
    {
     "data": {
      "text/plain": [
       "[<matplotlib.lines.Line2D at 0x147d89790>]"
      ]
     },
     "execution_count": 75,
     "metadata": {},
     "output_type": "execute_result"
    },
    {
     "data": {
      "text/plain": [
       "<matplotlib.legend.Legend at 0x147d2e5b0>"
      ]
     },
     "execution_count": 75,
     "metadata": {},
     "output_type": "execute_result"
    },
    {
     "data": {
      "text/plain": [
       "Text(0.5, 1.0, 'Wiener Cascade Filter')"
      ]
     },
     "execution_count": 75,
     "metadata": {},
     "output_type": "execute_result"
    },
    {
     "data": {
      "image/png": "[encoded data removed]",
      "text/plain": [
       "<Figure size 432x288 with 1 Axes>"
      ]
     },
     "metadata": {
      "needs_background": "light"
     },
     "output_type": "display_data"
    },
    {
     "data": {
      "image/png": "[encoded data removed]",
      "text/plain": [
       "<Figure size 432x288 with 1 Axes>"
      ]
     },
     "metadata": {
      "needs_background": "light"
     },
     "output_type": "display_data"
    }
   ],
   "source": [
    "# Plot the results \n",
    "\n",
    "fig_Wiener = plt.figure()\n",
    "plt.plot(X_Comp_R2s_Weiner_Final,'b')\n",
    "plt.plot(Y_Comp_R2s_Weiner_Final, 'r')\n",
    "fig_Wiener.legend(['X Component', 'Y Component'])\n",
    "plt.title(\"Wiener Filter\")\n",
    "\n",
    "fig_Wiener_Casade = plt.figure()\n",
    "plt.plot(X_Comp_R2s_Weiner_Cascade_Final,'b')\n",
    "plt.plot(Y_Comp_R2s_Weiner_Cascade_Final, 'r')\n",
    "fig_Wiener_Casade.legend(['X Component', 'Y Component'])\n",
    "plt.title(\"Wiener Cascade Filter\")"
   ]
  }
 ],
 "metadata": {
  "anaconda-cloud": {},
  "interpreter": {
   "hash": "31f2aee4e71d21fbe5cf8b01ff0e069b9275f58929596ceb00d14d90e3e16cd6"
  },
  "kernelspec": {
   "display_name": "Python 3.8.9 64-bit",
   "language": "python",
   "name": "python3"
  },
  "language_info": {
   "codemirror_mode": {
    "name": "ipython",
    "version": 3
   },
   "file_extension": ".py",
   "mimetype": "text/x-python",
   "name": "python",
   "nbconvert_exporter": "python",
   "pygments_lexer": "ipython3",
   "version": "3.8.9"
  }
 },
 "nbformat": 4,
 "nbformat_minor": 0
}
