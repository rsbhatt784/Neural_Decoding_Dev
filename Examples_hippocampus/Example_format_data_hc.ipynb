{
 "cells": [
  {
   "cell_type": "markdown",
   "metadata": {},
   "source": [
    "# Example of correctly formatting data\n",
    "\n",
    "For use in decoding (see \"Examples_decoders_hc\" and \"Examples_kf_decoder_hc\"), we need the following format of inputs:\n",
    "- Neural data should be a matrix of size \"number of time bins\" x \"number of neurons\", where each entry is the firing rate of a given neuron in a given time bin\n",
    "- The output you are decoding should be a matrix of size \"number of time bins\" x \"number of features you are decoding\"\n",
    "\n",
    "In this example, we load Matlab data that contains \n",
    "- The spike times of all neurons. In Matlab, \"spike_times\" is a cell of size \"number of neurons\" x 1. Within spike_times{i} is a vector containing all the spike times of neuron i.\n",
    "- A continuous stream of the output variables. In this example, we are aiming to decode position. In Matlab, \"pos\" is a matrix of size \"number of recorded time points\" x 2 (x and y positions were recorded) that contains the x and y position components at all time points. Time points that were not recorded have NaN values. \"pos_times\" is a vector that states the time at all recorded time points. \n",
    "\n",
    "We will put this data in the format described above, with the help of the functions \"bin_spikes\" and \"bin_output\" that are in the file \"preprocessing_funcs.py\"\n",
    "\n",
    "\n"
   ]
  },
  {
   "cell_type": "markdown",
   "metadata": {},
   "source": [
    "## Import packages and functions\n",
    "Note that you may need to specify the path below"
   ]
  },
  {
   "cell_type": "code",
   "execution_count": 1,
   "metadata": {},
   "outputs": [],
   "source": [
    "## (Configuration) Allows you to return multiple variables from a single cell ##\n",
    "from IPython.core.interactiveshell import InteractiveShell\n",
    "InteractiveShell.ast_node_interactivity = 'all'"
   ]
  },
  {
   "cell_type": "code",
   "execution_count": 2,
   "metadata": {},
   "outputs": [],
   "source": [
    "## Allows you to import files from another folder in current directory ## \n",
    "import os \n",
    "import sys \n",
    "module_path = os.path.abspath(os.path.join('..'))\n",
    "if module_path not in sys.path:\n",
    "    sys.path.append(module_path)"
   ]
  },
  {
   "cell_type": "code",
   "execution_count": 3,
   "metadata": {
    "collapsed": false
   },
   "outputs": [
    {
     "name": "stdout",
     "output_type": "stream",
     "text": [
      "\n",
      "WARNING: statsmodels is not installed. You will be unable to use the Naive Bayes Decoder\n",
      "\n",
      "WARNING: Xgboost package is not installed. You will be unable to use the xgboost decoder\n",
      "\n",
      "WARNING: Keras package is not installed. You will be unable to use all neural net decoders\n"
     ]
    }
   ],
   "source": [
    "###Import standard packages###\n",
    "import numpy as np\n",
    "from scipy import io\n",
    "import sys\n",
    "\n",
    "###Import functions for binning data for preprocessing###\n",
    "from Neural_Decoding.preprocessing_funcs import bin_spikes\n",
    "from Neural_Decoding.preprocessing_funcs import bin_output"
   ]
  },
  {
   "cell_type": "markdown",
   "metadata": {},
   "source": [
    "## Load Data\n",
    "The data for this example can be downloaded at this [link](https://www.dropbox.com/s/94dhsgnx2cfs3jx/hc_data_raw.mat?dl=0)\n",
    "\n",
    "It is the hc-2 dataset from [crcns](https://crcns.org/data-sets/hc/hc-2). Specifically, we use the dataset \"ec014.333\" "
   ]
  },
  {
   "cell_type": "code",
   "execution_count": 14,
   "metadata": {
    "collapsed": false
   },
   "outputs": [],
   "source": [
    "###Load Hippo Example Data###\n",
    "\n",
    "folder = '/Users/rbhatt6/Documents/MATLAB/'\n",
    "# For Windows: folder='C:\\\\Users\\\\rbhatt1\\\\Downloads\\\\' \n",
    "data=io.loadmat(folder+'hc_data_raw.mat')\n",
    "spike_times=data['spike_times'] #Load spike times of all neurons\n",
    "pos=data['pos'] #Load x and y positions\n",
    "pos_times=data['pos_times'][0] #Load times at which positions were recorded"
   ]
  },
  {
   "cell_type": "code",
   "execution_count": 18,
   "metadata": {},
   "outputs": [],
   "source": [
    "###Load Acc/Dec Data###\n",
    "\n",
    "folder = '/Users/rbhatt6/Documents/MATLAB/'\n",
    "# For Windows: folder='C:\\\\Users\\\\rbhatt1\\\\Downloads\\\\' \n",
    "\n",
    "# Decoder Velocity Outputs\n",
    "sortIn = io.loadmat(folder+'cleanedSortIn.mat')\n",
    "sortOutX = io.loadmat(folder+'sortOutX.mat')\n",
    "sortOutY = io.loadmat(folder+'sortOutY.mat')\n",
    "\n",
    "sortIn = sortIn['cleanedSortIn']\n",
    "sortOutX = sortOutX['sortOutX']\n",
    "sortOutY = sortOutY['sortOutY']\n",
    "\n",
    "sortIn = np.squeeze(sortIn)\n",
    "sortOutX = np.squeeze(sortOutX)\n",
    "sortOutY = np.squeeze(sortOutY)\n",
    "\n",
    "# Decoder Position Outputs\n",
    "sortOutX_Pos = io.loadmat(folder+'sortOutXPos.mat')\n",
    "sortOutY_Pos = io.loadmat(folder+'sortOutYPos.mat')\n",
    "\n",
    "sortOutX_Pos = sortOutX_Pos['sortOutX']\n",
    "sortOutY_Pos = sortOutY_Pos['sortOutY']\n",
    "\n",
    "sortOutX_Pos = np.squeeze(sortOutX_Pos)\n",
    "sortOutY_Pos = np.squeeze(sortOutY_Pos)\n"
   ]
  },
  {
   "cell_type": "markdown",
   "metadata": {},
   "source": [
    "## User Inputs"
   ]
  },
  {
   "cell_type": "code",
   "execution_count": 9,
   "metadata": {
    "collapsed": false
   },
   "outputs": [],
   "source": [
    "dt=.2 #Size of time bins (in seconds)\n",
    "t_start=pos_times[0] #Time to start extracting data - here the first time position was recorded\n",
    "t_end=5608 #pos_times[-1] #Time to finish extracting data - when looking through the dataset, the final position was recorded around t=5609, but the final spikes were recorded around t=5608\n",
    "downsample_factor=1 #Downsampling of output (to make binning go faster). 1 means no downsampling."
   ]
  },
  {
   "cell_type": "markdown",
   "metadata": {},
   "source": [
    "## Put data in binned format"
   ]
  },
  {
   "cell_type": "code",
   "execution_count": 10,
   "metadata": {
    "collapsed": true
   },
   "outputs": [],
   "source": [
    "#When loading the Matlab cell \"spike_times\", Python puts it in a format with an extra unnecessary dimension\n",
    "#First, we will put spike_times in a cleaner format: an array of arrays\n",
    "spike_times=np.squeeze(spike_times)\n",
    "for i in range(spike_times.shape[0]):\n",
    "    spike_times[i]=np.squeeze(spike_times[i])\n",
    "\n",
    "# spike_times is still dtype = object!"
   ]
  },
  {
   "cell_type": "code",
   "execution_count": 11,
   "metadata": {
    "collapsed": false
   },
   "outputs": [],
   "source": [
    "###Preprocessing to put spikes and output in bins###\n",
    "\n",
    "#Bin neural data using \"bin_spikes\" function\n",
    "neural_data=bin_spikes(spike_times,dt,t_start,t_end)\n",
    "\n",
    "#Bin output (position) data using \"bin_output\" function\n",
    "pos_binned=bin_output(pos,pos_times,dt,t_start,t_end,downsample_factor)"
   ]
  },
  {
   "cell_type": "markdown",
   "metadata": {},
   "source": [
    "## Save Data"
   ]
  },
  {
   "cell_type": "code",
   "execution_count": 17,
   "metadata": {
    "collapsed": false
   },
   "outputs": [],
   "source": [
    "import pickle\n",
    "\n",
    "data_folder='/Users/rbhatt6/Documents/MATLAB/' #FOLDER YOU WANT TO SAVE THE DATA TO\n",
    "\n",
    "with open(data_folder+'example_data_hc.pickle','wb') as f:\n",
    "    pickle.dump([neural_data,pos_binned],f)\n",
    "\n",
    "with open(data_folder+'sortInAccDec.pickle','wb') as f:\n",
    "    pickle.dump(sortIn,f)\n",
    "\n",
    "with open(data_folder+'sortOutXAccDec.pickle','wb') as f:\n",
    "    pickle.dump(sortOutX,f)\n",
    "\n",
    "with open(data_folder+'sortOutYAccDec.pickle','wb') as f:\n",
    "    pickle.dump(sortOutY,f)\n",
    "\n",
    "with open(data_folder+'sortOutXAccDecPos.pickle','wb') as f:\n",
    "    pickle.dump(sortOutX_Pos,f)\n",
    "\n",
    "with open(data_folder+'sortOutYAccDecPos.pickle','wb') as f:\n",
    "    pickle.dump(sortOutY_Pos,f)\n"
   ]
  }
 ],
 "metadata": {
  "anaconda-cloud": {},
  "interpreter": {
   "hash": "31f2aee4e71d21fbe5cf8b01ff0e069b9275f58929596ceb00d14d90e3e16cd6"
  },
  "kernelspec": {
   "display_name": "Python 3.8.9 64-bit",
   "language": "python",
   "name": "python3"
  },
  "language_info": {
   "codemirror_mode": {
    "name": "ipython",
    "version": 3
   },
   "file_extension": ".py",
   "mimetype": "text/x-python",
   "name": "python",
   "nbconvert_exporter": "python",
   "pygments_lexer": "ipython3",
   "version": "3.8.9"
  }
 },
 "nbformat": 4,
 "nbformat_minor": 0
}
