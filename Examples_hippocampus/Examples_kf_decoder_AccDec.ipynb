{
 "cells": [
  {
   "cell_type": "markdown",
   "metadata": {},
   "source": [
    "# Example of Kalman Filter decoders\n",
    "\n",
    "This example is similar to those shown in \"Examples_all_decoders.\"\n",
    "However, there is some preprocessing is different for the Kalman, so we have made a separate notebook.\n",
    "\n",
    "In this example notebook, we:\n",
    "1. Import the necessary packages\n",
    "2. Load a data file (spike trains and outputs we are predicting)\n",
    "3. Preprocess the data\n",
    "4. Run the decoders and print the goodness of fit\n",
    "5. Plot example decoded outputs"
   ]
  },
  {
   "cell_type": "markdown",
   "metadata": {},
   "source": [
    "## 1. Import Packages\n",
    "\n",
    "Below, we import both standard packages, and functions from the accompanying .py files\n",
    "\n",
    "Note that you may need to specify the path below"
   ]
  },
  {
   "cell_type": "code",
   "execution_count": 1,
   "metadata": {},
   "outputs": [],
   "source": [
    "## (Configuration) Allows you to return multiple variables from a single cell ##\n",
    "from IPython.core.interactiveshell import InteractiveShell\n",
    "InteractiveShell.ast_node_interactivity = 'all'"
   ]
  },
  {
   "cell_type": "code",
   "execution_count": 2,
   "metadata": {},
   "outputs": [],
   "source": [
    "## Allows you to import files from another folder in current directory ## \n",
    "import os \n",
    "import sys \n",
    "module_path = os.path.abspath(os.path.join('..'))\n",
    "if module_path not in sys.path:\n",
    "    sys.path.append(module_path)"
   ]
  },
  {
   "cell_type": "code",
   "execution_count": 3,
   "metadata": {
    "collapsed": false
   },
   "outputs": [
    {
     "name": "stdout",
     "output_type": "stream",
     "text": [
      "\n",
      "WARNING: statsmodels is not installed. You will be unable to use the Naive Bayes Decoder\n",
      "\n",
      "WARNING: Xgboost package is not installed. You will be unable to use the xgboost decoder\n",
      "\n",
      "WARNING: Keras package is not installed. You will be unable to use all neural net decoders\n"
     ]
    }
   ],
   "source": [
    "#Import standard packages\n",
    "import numpy as np\n",
    "import matplotlib.pyplot as plt\n",
    "%matplotlib inline\n",
    "from scipy import io\n",
    "from scipy import stats\n",
    "import pickle\n",
    "import sys\n",
    "\n",
    "#Import metrics\n",
    "from Neural_Decoding.metrics import get_R2\n",
    "from Neural_Decoding.metrics import get_rho\n",
    "from Neural_Decoding.metrics import get_R2_parts\n",
    "\n",
    "#Import decoder functions\n",
    "from Neural_Decoding.decoders import KalmanFilterDecoder"
   ]
  },
  {
   "cell_type": "markdown",
   "metadata": {},
   "source": [
    "## 2. Load Data\n",
    "The data for this example can be downloaded at this [link](https://www.dropbox.com/s/e9mul73ur9omu5f/example_data_hc.pickle?dl=0).\n",
    "\n",
    "It is the hc-2 dataset from [crcns](https://crcns.org/data-sets/hc/hc-2). Specifically, we use the dataset \"ec014.333\" \n",
    "\n",
    "\n",
    "The data that we load is in the format described below. We have another example notebook, \"Example_format_data_hc\", that may be helpful towards putting the data in this format.\n",
    "\n",
    "Neural data should be a matrix of size \"number of time bins\" x \"number of neurons\", where each entry is the firing rate of a given neuron in a given time bin\n",
    "\n",
    "The output you are decoding should be a matrix of size \"number of time bins\" x \"number of features you are decoding\""
   ]
  },
  {
   "cell_type": "code",
   "execution_count": 4,
   "metadata": {
    "collapsed": false
   },
   "outputs": [],
   "source": [
    "# Opening Acc/Dec Data \n",
    "folder='/Users/rbhatt6/Documents/MATLAB/' #ENTER THE FOLDER THAT YOUR DATA IS IN\n",
    "\n",
    "# Decoder Velocity Outputs\n",
    "with open(folder+'sortInAccDec.pickle','rb') as f:\n",
    "     sort_In=pickle.load(f,encoding='latin1') \n",
    "with open(folder+'sortOutXAccDec.pickle','rb') as f:\n",
    "     sort_Out_X=pickle.load(f,encoding='latin1') \n",
    "with open(folder+'sortOutYAccDec.pickle','rb') as f:\n",
    "     sort_Out_Y=pickle.load(f,encoding='latin1') \n",
    "\n",
    "# Decoder Position Outputs\n",
    "with open(folder+'sortOutXAccDecPos.pickle','rb') as f:\n",
    "     sort_Out_X_Pos=pickle.load(f,encoding='latin1') \n",
    "with open(folder+'sortOutYAccDecPos.pickle','rb') as f:\n",
    "     sort_Out_Y_Pos=pickle.load(f,encoding='latin1') "
   ]
  },
  {
   "cell_type": "code",
   "execution_count": 5,
   "metadata": {},
   "outputs": [
    {
     "data": {
      "text/plain": [
       "(1633, 1)"
      ]
     },
     "execution_count": 5,
     "metadata": {},
     "output_type": "execute_result"
    }
   ],
   "source": [
    "sort_Out_X[0].shape"
   ]
  },
  {
   "cell_type": "code",
   "execution_count": 5,
   "metadata": {},
   "outputs": [
    {
     "data": {
      "text/plain": [
       "(1633, 6)"
      ]
     },
     "execution_count": 5,
     "metadata": {},
     "output_type": "execute_result"
    },
    {
     "data": {
      "text/plain": [
       "16"
      ]
     },
     "execution_count": 5,
     "metadata": {},
     "output_type": "execute_result"
    }
   ],
   "source": [
    "# Final output is vel, acc, pos\n",
    "X_Comb_Kin = []\n",
    "Y_Comb_Kin = []\n",
    "\n",
    "# Corrected decoder outputs to use (format = x,y vel, x,y acc, x,y pos)\n",
    "decoder_output = []\n",
    "\n",
    "for i in range(len(sort_Out_X)):\n",
    "    # Concatenating vel with acc for X component\n",
    "    temp1 = (np.diff(sort_Out_X[i], axis = 0))\n",
    "    temp1 = np.concatenate((temp1,temp1[-1:,:]),axis=0)\n",
    "    temp1_all_kin = np.array(np.concatenate((sort_Out_X[i], temp1, sort_Out_X_Pos[i]),axis=1))\n",
    "\n",
    "    temp2 = (np.diff(sort_Out_Y[i], axis = 0))\n",
    "    temp2 = np.concatenate((temp2,temp2[-1:,:]),axis=0)\n",
    "    temp2_all_kin = np.array(np.concatenate((sort_Out_Y[i], temp2, sort_Out_Y_Pos[i]),axis=1))\n",
    "    X_Comb_Kin.append(temp1_all_kin)\n",
    "    Y_Comb_Kin.append(temp2_all_kin)\n",
    "\n",
    "    temp3 = np.array(np.concatenate((sort_Out_X[i], sort_Out_Y[i], temp1, temp2, sort_Out_X_Pos[i], sort_Out_Y_Pos[i]),axis=1))\n",
    "\n",
    "    decoder_output.append(temp3)\n",
    "\n",
    "y_kf_X = np.array(X_Comb_Kin, dtype=object)\n",
    "y_kf_Y = np.array(Y_Comb_Kin, dtype=object)\n",
    "\n",
    "decoder_output[0].shape\n",
    "len(decoder_output)\n"
   ]
  },
  {
   "cell_type": "markdown",
   "metadata": {},
   "source": [
    "## 3. Preprocess Data"
   ]
  },
  {
   "cell_type": "markdown",
   "metadata": {},
   "source": [
    "### 3A. User Inputs\n",
    "The user can define what time period to use spikes from (with respect to the output)."
   ]
  },
  {
   "cell_type": "code",
   "execution_count": 6,
   "metadata": {
    "collapsed": true
   },
   "outputs": [],
   "source": [
    "lag=0 #What time bin of spikes should be used relative to the output\n",
    "#(lag=-1 means use the spikes 1 bin before the output)"
   ]
  },
  {
   "cell_type": "markdown",
   "metadata": {},
   "source": [
    "### 3B. Format Covariates"
   ]
  },
  {
   "cell_type": "markdown",
   "metadata": {},
   "source": [
    "### 3C. Take lag into account"
   ]
  },
  {
   "cell_type": "code",
   "execution_count": 8,
   "metadata": {
    "collapsed": false
   },
   "outputs": [
    {
     "ename": "NameError",
     "evalue": "name 'X_kf' is not defined",
     "output_type": "error",
     "traceback": [
      "\u001b[0;31m---------------------------------------------------------------------------\u001b[0m",
      "\u001b[0;31mNameError\u001b[0m                                 Traceback (most recent call last)",
      "\u001b[0;32m<ipython-input-8-78b1c87de0f3>\u001b[0m in \u001b[0;36m<module>\u001b[0;34m\u001b[0m\n\u001b[0;32m----> 1\u001b[0;31m \u001b[0mnum_examples\u001b[0m\u001b[0;34m=\u001b[0m\u001b[0mX_kf\u001b[0m\u001b[0;34m.\u001b[0m\u001b[0mshape\u001b[0m\u001b[0;34m[\u001b[0m\u001b[0;36m0\u001b[0m\u001b[0;34m]\u001b[0m\u001b[0;34m\u001b[0m\u001b[0;34m\u001b[0m\u001b[0m\n\u001b[0m\u001b[1;32m      2\u001b[0m \u001b[0;34m\u001b[0m\u001b[0m\n\u001b[1;32m      3\u001b[0m \u001b[0;31m#Re-align data to take lag into account\u001b[0m\u001b[0;34m\u001b[0m\u001b[0;34m\u001b[0m\u001b[0;34m\u001b[0m\u001b[0m\n\u001b[1;32m      4\u001b[0m \u001b[0;32mif\u001b[0m \u001b[0mlag\u001b[0m\u001b[0;34m<\u001b[0m\u001b[0;36m0\u001b[0m\u001b[0;34m:\u001b[0m\u001b[0;34m\u001b[0m\u001b[0;34m\u001b[0m\u001b[0m\n\u001b[1;32m      5\u001b[0m     \u001b[0my_kf\u001b[0m\u001b[0;34m=\u001b[0m\u001b[0my_kf\u001b[0m\u001b[0;34m[\u001b[0m\u001b[0;34m-\u001b[0m\u001b[0mlag\u001b[0m\u001b[0;34m:\u001b[0m\u001b[0;34m,\u001b[0m\u001b[0;34m:\u001b[0m\u001b[0;34m]\u001b[0m\u001b[0;34m\u001b[0m\u001b[0;34m\u001b[0m\u001b[0m\n",
      "\u001b[0;31mNameError\u001b[0m: name 'X_kf' is not defined"
     ]
    }
   ],
   "source": [
    "num_examples=X_kf.shape[0]\n",
    "\n",
    "#Re-align data to take lag into account\n",
    "if lag<0:\n",
    "    y_kf=y_kf[-lag:,:]\n",
    "    X_kf=X_kf[0:num_examples+lag,:]\n",
    "if lag>0:\n",
    "    y_kf=y_kf[0:num_examples-lag,:]\n",
    "    X_kf=X_kf[lag:num_examples,:]"
   ]
  },
  {
   "cell_type": "markdown",
   "metadata": {},
   "source": [
    "### 3D. Split into training/testing/validation sets\n",
    "Note that parameters should be setting using a separate validation set. \n",
    "Then, the goodness of fit should be be tested on a testing set (separate from the training and validation sets)."
   ]
  },
  {
   "cell_type": "markdown",
   "metadata": {},
   "source": [
    "### User Options"
   ]
  },
  {
   "cell_type": "code",
   "execution_count": 7,
   "metadata": {
    "collapsed": true
   },
   "outputs": [],
   "source": [
    "#Set what part of data should be part of the training/testing/validation sets\n",
    "#Note that there was a long period of no movement after about 80% of recording, so I did not use this data.\n",
    "# training_range=[0, 0.5]\n",
    "# valid_range=[0.5,0.65]\n",
    "# testing_range=[0.65, 0.8]\n",
    "\n",
    "training_range=[0, 0.8]\n",
    "valid_range=[0.8,0.9]\n",
    "testing_range=[0.9, 1]"
   ]
  },
  {
   "cell_type": "markdown",
   "metadata": {},
   "source": [
    "### Split Data: For KF"
   ]
  },
  {
   "cell_type": "markdown",
   "metadata": {},
   "source": [
    "### 3E. Preprocessing: Normalization and zero-centering\n",
    "We normalize (z_score) the inputs and zero-center the outputs.\n",
    "Parameters for z-scoring (mean/std.) should be determined on the training set only, and then these z-scoring parameters are also used on the testing and validation sets."
   ]
  },
  {
   "cell_type": "markdown",
   "metadata": {},
   "source": [
    "### Kalman Filter"
   ]
  },
  {
   "cell_type": "code",
   "execution_count": 102,
   "metadata": {},
   "outputs": [],
   "source": [
    "# Running decoder on X and Y components separately to get X_FVAF and Y_FVAF\n",
    "from Neural_Decoding.runModelsKF import run_model_kf\n",
    "\n",
    "Kalman_R2s_X = run_model_kf(sort_In, X_Comb_Kin, training_range, testing_range, valid_range, \"score\")\n",
    "Kalman_R2s_Y = run_model_kf(sort_In, Y_Comb_Kin, training_range, testing_range, valid_range, \"score\")"
   ]
  },
  {
   "cell_type": "code",
   "execution_count": null,
   "metadata": {},
   "outputs": [
    {
     "data": {
      "text/plain": [
       "[array([ 0.30224872,  0.25632642, -0.12978993]),\n",
       " array([0.0425781 , 0.27423055, 0.27591032]),\n",
       " array([-0.1461146 , -0.06368985, -0.1457565 ]),\n",
       " array([0.39496426, 0.31524437, 0.32836486]),\n",
       " array([0.56034758, 0.44919384, 0.29546162]),\n",
       " array([ 0.38825921,  0.41595144, -0.29051441]),\n",
       " array([ 0.03065862,  0.04930176, -0.06618414]),\n",
       " array([ 0.29743398,  0.34850001, -0.37983859]),\n",
       " array([0.41121539, 0.40715878, 0.15774435]),\n",
       " array([0.24786033, 0.25808906, 0.22209676]),\n",
       " array([ 0.00573462,  0.00535132, -0.20566142]),\n",
       " array([0.11988526, 0.17796593, 0.48312639]),\n",
       " array([ 0.22200675,  0.23335033, -0.08170607]),\n",
       " array([-0.0088152 ,  0.14507591, -0.17867665]),\n",
       " array([-0.08458196, -0.0764017 , -0.39530811]),\n",
       " array([0.32957713, 0.31721697, 0.08126852])]"
      ]
     },
     "execution_count": 108,
     "metadata": {},
     "output_type": "execute_result"
    },
    {
     "data": {
      "text/plain": [
       "[array([-0.19874973, -0.01997485,  0.31745137]),\n",
       " array([0.32887838, 0.31357992, 0.37459851]),\n",
       " array([0.55222821, 0.39409203, 0.23105393]),\n",
       " array([0.45644956, 0.38173515, 0.29556426]),\n",
       " array([0.1524987 , 0.07535192, 0.21384828]),\n",
       " array([0.45889071, 0.43608851, 0.42305588]),\n",
       " array([0.53123661, 0.46721934, 0.16508487]),\n",
       " array([0.38953093, 0.36726555, 0.4885387 ]),\n",
       " array([0.10968123, 0.02539443, 0.49808911]),\n",
       " array([0.45791102, 0.3244913 , 0.38606927]),\n",
       " array([0.56675778, 0.38268575, 0.36105001]),\n",
       " array([0.28499669, 0.26845754, 0.31697679]),\n",
       " array([0.1918694 , 0.11920303, 0.43227998]),\n",
       " array([0.24841163, 0.08270095, 0.37922856]),\n",
       " array([0.19540699, 0.26118332, 0.23170832]),\n",
       " array([0.20530301, 0.26993926, 0.31053202])]"
      ]
     },
     "execution_count": 108,
     "metadata": {},
     "output_type": "execute_result"
    }
   ],
   "source": [
    "Kalman_R2s_X\n",
    "Kalman_R2s_Y"
   ]
  },
  {
   "cell_type": "code",
   "execution_count": 12,
   "metadata": {},
   "outputs": [],
   "source": [
    "# Running decoder on X and Y components together to get X_FVAF and Y_FVAF\n",
    "from Neural_Decoding.runModelsKF import run_model_kf\n",
    "\n",
    "Kalman_R2s_combined = run_model_kf(sort_In, decoder_output, training_range, testing_range, valid_range, \"score\")"
   ]
  },
  {
   "cell_type": "code",
   "execution_count": 15,
   "metadata": {},
   "outputs": [
    {
     "data": {
      "text/plain": [
       "[array([ 0.30729488, -0.17669232,  0.25707346, -0.02206558, -0.14368645,\n",
       "         0.33671678]),\n",
       " array([0.04923445, 0.36783993, 0.28813384, 0.33552094, 0.28432163,\n",
       "        0.39124164]),\n",
       " array([-0.14479171,  0.5555326 , -0.06771177,  0.39659028, -0.16705605,\n",
       "         0.23086514]),\n",
       " array([0.41535994, 0.46518369, 0.32418706, 0.38273956, 0.33114077,\n",
       "        0.29517091]),\n",
       " array([0.55739155, 0.14328777, 0.44912445, 0.07344649, 0.30002028,\n",
       "        0.20976833]),\n",
       " array([ 0.42045444,  0.46611832,  0.42273348,  0.43524889, -0.29293346,\n",
       "         0.42711628]),\n",
       " array([ 0.02948125,  0.53681293,  0.0475425 ,  0.46801918, -0.0788187 ,\n",
       "         0.1617549 ]),\n",
       " array([ 0.27129203,  0.41350471,  0.35406607,  0.37076093, -0.3756424 ,\n",
       "         0.49966203]),\n",
       " array([0.41628924, 0.10603572, 0.40845273, 0.0240747 , 0.16074472,\n",
       "        0.49847318]),\n",
       " array([0.27542666, 0.44897998, 0.26459784, 0.32644525, 0.23590761,\n",
       "        0.37736909]),\n",
       " array([ 0.00731867,  0.56437816,  0.00776249,  0.38279929, -0.20781842,\n",
       "         0.39213305]),\n",
       " array([0.1334098 , 0.28274399, 0.1784346 , 0.26707686, 0.48437184,\n",
       "        0.33062452]),\n",
       " array([ 0.23339622,  0.19381081,  0.23470514,  0.1175584 , -0.08451469,\n",
       "         0.44893127]),\n",
       " array([-0.0398845 ,  0.25826245,  0.14079212,  0.08577616, -0.16428845,\n",
       "         0.38255899]),\n",
       " array([-0.07157843,  0.21931236, -0.07472826,  0.28001626, -0.38181981,\n",
       "         0.19148521]),\n",
       " array([0.33477094, 0.19774268, 0.31656308, 0.27036075, 0.07377247,\n",
       "        0.32719843])]"
      ]
     },
     "execution_count": 15,
     "metadata": {},
     "output_type": "execute_result"
    }
   ],
   "source": [
    "Kalman_R2s_combined"
   ]
  },
  {
   "cell_type": "code",
   "execution_count": 16,
   "metadata": {},
   "outputs": [],
   "source": [
    "# Running decoder on X and Y components together to get combined XY_FVAF\n",
    "from Neural_Decoding.runModelsKF import run_model_kf\n",
    "\n",
    "Kalman_R2s_XY = run_model_kf(sort_In, decoder_output, training_range, testing_range, valid_range, \"parts\")\n"
   ]
  },
  {
   "cell_type": "code",
   "execution_count": 17,
   "metadata": {},
   "outputs": [
    {
     "data": {
      "text/plain": [
       "(2, 6)"
      ]
     },
     "execution_count": 17,
     "metadata": {},
     "output_type": "execute_result"
    },
    {
     "data": {
      "text/plain": [
       "range(0, 16)"
      ]
     },
     "execution_count": 17,
     "metadata": {},
     "output_type": "execute_result"
    }
   ],
   "source": [
    "Kalman_R2s_XY[0].shape\n",
    "range(len(Kalman_R2s_XY))"
   ]
  },
  {
   "cell_type": "code",
   "execution_count": 18,
   "metadata": {},
   "outputs": [
    {
     "data": {
      "text/plain": [
       "[0.227405442543961,\n",
       " 0.17364525033812173,\n",
       " 0.42608821987503087,\n",
       " 0.4401308773309419,\n",
       " 0.4846222047779313,\n",
       " 0.4384412259646876,\n",
       " 0.44004068612482317,\n",
       " 0.34311571051909706,\n",
       " 0.34949129996278105,\n",
       " 0.3491056510088656,\n",
       " 0.3660772407413688,\n",
       " 0.20775948373460207,\n",
       " 0.22087696955016312,\n",
       " 0.1255940498772361,\n",
       " 0.1417788909949662,\n",
       " 0.29835663464276874]"
      ]
     },
     "execution_count": 18,
     "metadata": {},
     "output_type": "execute_result"
    }
   ],
   "source": [
    "# Compute combined XY_FVAF (velocity only)\n",
    "from Neural_Decoding.metrics import compute_XY_FVAF\n",
    "\n",
    "XY_FVAF = []\n",
    "for i in range(len(Kalman_R2s_XY)):\n",
    "    #curr_bucket = Kalman_R2s_combined[i]\n",
    "    vel_x_nom = Kalman_R2s_XY[i][0][0] # dim = (curr_bucket, nom, x_vel)\n",
    "    vel_x_denom = Kalman_R2s_XY[i][1][0] # dim = (curr_bucket, denom, x_vel)\n",
    "    vel_y_nom = Kalman_R2s_XY[i][0][1] # dim = (curr_bucket, nom, y_vel)\n",
    "    vel_y_denom = Kalman_R2s_XY[i][1][1] # dim = (curr_bucket, denom, y_vel)\n",
    "\n",
    "    curr_bucket_XY_FVAF = compute_XY_FVAF(vel_x_nom,vel_x_denom,vel_y_nom,vel_y_denom)\n",
    "    XY_FVAF.append(curr_bucket_XY_FVAF)\n",
    "\n",
    "XY_FVAF"
   ]
  },
  {
   "cell_type": "code",
   "execution_count": null,
   "metadata": {},
   "outputs": [],
   "source": [
    "# Determining what y_test, y_test_pred look like in order to get the right nom and denom for R^2\n",
    "\n",
    "len(Kalman_R2s_XY)\n",
    "\n",
    "# Iterating through the 16 buckets' validation values\n",
    "Kalman_R2s_XY[0].shape\n",
    "\n",
    "# dim1 = 16 buckets, dim2 = y_test or y_test_pred, dim3 = # of validation samples, and dim4 = 6 kinematics \n",
    "Kalman_R2s_XY[0][0][0][0]\n",
    "\n",
    "Kalman_R2s_XY[0][:,0].shape\n",
    "Kalman_R2s_XY[0][:,0]"
   ]
  },
  {
   "cell_type": "code",
   "execution_count": null,
   "metadata": {},
   "outputs": [],
   "source": [
    "# Testing FVAF calculation on 1st bucket \n",
    "\n",
    "y_test = Kalman_R2s_XY[0][0]\n",
    "y_test.shape\n",
    "y_test_pred = Kalman_R2s_XY[0][1]\n",
    "y_test_pred.shape\n",
    "\n",
    "y_test.shape[1]\n",
    "range(y_test.shape[1])\n",
    "\n",
    "# dim = (162,6)\n",
    "# Want to sum over all samples for each kinematic \n",
    "nom_list = []\n",
    "for i in range(y_test.shape[1]): #Loop through outputs\n",
    "    #nom = np.sum((y_test_pred[:,i]-y_test[:,i])**2) \n",
    "    nom = np.sum((y_test_pred[:,i]-y_test[:,i])**2)\n",
    "    nom_list.append(nom)\n",
    "\n",
    "nom.shape \n",
    "len(nom_list)\n",
    "nom_list"
   ]
  },
  {
   "cell_type": "code",
   "execution_count": null,
   "metadata": {},
   "outputs": [],
   "source": [
    "kf_R2s_Y_Comp = []\n",
    "kf_Rho_Y_Comp = []\n",
    "\n",
    "for i in range(len(sort_In)):\n",
    "    X_kf = sort_In[i]\n",
    "    y_kf = y_kf_Y[i]\n",
    "    num_examples_kf=X_kf.shape[0] # nRows (b/c nCols = number of units)\n",
    "\n",
    "    #Note that each range has a buffer of 1 bin at the beginning and end\n",
    "    #This makes it so that the different sets don't include overlapping data\n",
    "    training_set=np.arange(int(np.round(training_range[0]*num_examples_kf))+1,int(np.round(training_range[1]*num_examples_kf))-1)\n",
    "    testing_set=np.arange(int(np.round(testing_range[0]*num_examples_kf))+1,int(np.round(testing_range[1]*num_examples_kf))-1)\n",
    "    valid_set=np.arange(int(np.round(valid_range[0]*num_examples_kf))+1,int(np.round(valid_range[1]*num_examples_kf))-1)\n",
    "\n",
    "    #Get training data\n",
    "    X_kf_train=X_kf[training_set,:]\n",
    "    y_kf_train=y_kf[training_set,:]\n",
    "\n",
    "    #Get testing data\n",
    "    X_kf_test=X_kf[testing_set,:]\n",
    "    y_kf_test=y_kf[testing_set,:]\n",
    "\n",
    "    #Get validation data\n",
    "    X_kf_valid=X_kf[valid_set,:]\n",
    "    y_kf_valid=y_kf[valid_set,:]\n",
    "\n",
    "    #Z-score inputs \n",
    "    X_kf_train_mean=np.nanmean(X_kf_train,axis=0)\n",
    "    X_kf_train_std=np.nanstd(X_kf_train,axis=0)\n",
    "    X_kf_train=(X_kf_train-X_kf_train_mean)/X_kf_train_std\n",
    "    X_kf_test=(X_kf_test-X_kf_train_mean)/X_kf_train_std\n",
    "    X_kf_valid=(X_kf_valid-X_kf_train_mean)/X_kf_train_std\n",
    "\n",
    "    #Zero-center outputs\n",
    "    y_kf_train_mean=np.mean(y_kf_train,axis=0)\n",
    "    y_kf_train=y_kf_train-y_kf_train_mean\n",
    "    y_kf_test=y_kf_test-y_kf_train_mean\n",
    "    y_kf_valid=y_kf_valid-y_kf_train_mean\n",
    "\n",
    "    #Declare model\n",
    "    model_kf=KalmanFilterDecoder(C=1) #There is one optional parameter (see ReadMe)\n",
    "\n",
    "    #Fit model\n",
    "    model_kf.fit(X_kf_train,y_kf_train)\n",
    "\n",
    "    #Get predictions\n",
    "    y_valid_predicted_kf=model_kf.predict(X_kf_valid,y_kf_valid)\n",
    "\n",
    "    #Get metrics of fit (see read me for more details on the differences between metrics)\n",
    "    #First I'll get the R^2\n",
    "    R2_kf=get_R2_parts(y_kf_valid,y_valid_predicted_kf)\n",
    "    #print('R2:',R2_kf[0:2]) #I'm just printing the R^2's of the 1st and 2nd entries that correspond to the positions\n",
    "    kf_R2s_Y_Comp.append(R2_kf)\n",
    "\n",
    "    #Next I'll get the rho^2 (the pearson correlation squared)\n",
    "    rho_kf=get_rho(y_kf_valid,y_valid_predicted_kf)\n",
    "    #print('rho2:',rho_kf[0:2]**2) #I'm just printing the rho^2's of the 1st and 2nd entries that correspond to the positions\n",
    "    kf_Rho_Y_Comp.append(rho_kf)"
   ]
  },
  {
   "cell_type": "code",
   "execution_count": 19,
   "metadata": {},
   "outputs": [],
   "source": [
    "# Saving results in a matlab file \n",
    "\n",
    "from scipy.io import savemat\n",
    "import numpy\n",
    "\n",
    "# L = [kf_R2s_X_Comp, kf_R2s_Y_Comp] # kf_Rho_X_Comp, kf_Rho_Y_Comp\n",
    "L = [Kalman_R2s_combined, XY_FVAF]\n",
    "\n",
    "FrameStack = np.empty((2,), dtype=object)\n",
    "for i in range(len(L)):\n",
    "    FrameStack[i] = L[i]\n",
    "\n",
    "savemat(\"KalmanModelOutputsUpdated.mat\", {\"KalmanOutputs\":FrameStack})"
   ]
  },
  {
   "cell_type": "markdown",
   "metadata": {},
   "source": [
    "## 5. Make Plots"
   ]
  },
  {
   "cell_type": "code",
   "execution_count": null,
   "metadata": {
    "collapsed": false
   },
   "outputs": [
    {
     "data": {
      "text/plain": [
       "[<matplotlib.lines.Line2D at 0x146514460>]"
      ]
     },
     "execution_count": 137,
     "metadata": {},
     "output_type": "execute_result"
    },
    {
     "data": {
      "text/plain": [
       "[<matplotlib.lines.Line2D at 0x146514820>]"
      ]
     },
     "execution_count": 137,
     "metadata": {},
     "output_type": "execute_result"
    },
    {
     "data": {
      "image/png": "[encoded data removed]",
      "text/plain": [
       "<Figure size 432x288 with 1 Axes>"
      ]
     },
     "metadata": {
      "needs_background": "light"
     },
     "output_type": "display_data"
    }
   ],
   "source": [
    "#As an example, I plot an example 3000 values of the x position (column index 0), both true and predicted with the Kalman filter\n",
    "#Note that I add back in the mean value, so that both true and predicted values are in the original coordinates\n",
    "fig_x_kf=plt.figure()\n",
    "plt.plot(y_kf_valid[2000:5000,0]+y_kf_train_mean[0],'b')\n",
    "plt.plot(y_valid_predicted_kf[2000:5000,0]+y_kf_train_mean[0],'r')\n",
    "#Save figure\n",
    "# fig_x_kf.savefig('x_position_decoding.eps')"
   ]
  }
 ],
 "metadata": {
  "anaconda-cloud": {},
  "interpreter": {
   "hash": "31f2aee4e71d21fbe5cf8b01ff0e069b9275f58929596ceb00d14d90e3e16cd6"
  },
  "kernelspec": {
   "display_name": "Python 3.8.9 64-bit",
   "language": "python",
   "name": "python3"
  },
  "language_info": {
   "codemirror_mode": {
    "name": "ipython",
    "version": 3
   },
   "file_extension": ".py",
   "mimetype": "text/x-python",
   "name": "python",
   "nbconvert_exporter": "python",
   "pygments_lexer": "ipython3",
   "version": "3.8.9"
  }
 },
 "nbformat": 4,
 "nbformat_minor": 0
}
