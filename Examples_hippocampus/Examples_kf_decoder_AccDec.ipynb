{
 "cells": [
  {
   "cell_type": "markdown",
   "metadata": {},
   "source": [
    "# Example of Kalman Filter decoders\n",
    "\n",
    "This example is similar to those shown in \"Examples_all_decoders.\"\n",
    "However, there is some preprocessing is different for the Kalman, so we have made a separate notebook.\n",
    "\n",
    "In this example notebook, we:\n",
    "1. Import the necessary packages\n",
    "2. Load a data file (spike trains and outputs we are predicting)\n",
    "3. Preprocess the data\n",
    "4. Run the decoders and print the goodness of fit\n",
    "5. Plot example decoded outputs"
   ]
  },
  {
   "cell_type": "markdown",
   "metadata": {},
   "source": [
    "## 1. Import Packages\n",
    "\n",
    "Below, we import both standard packages, and functions from the accompanying .py files\n",
    "\n",
    "Note that you may need to specify the path below"
   ]
  },
  {
   "cell_type": "code",
   "execution_count": 7,
   "metadata": {},
   "outputs": [],
   "source": [
    "## (Configuration) Allows you to return multiple variables from a single cell ##\n",
    "from IPython.core.interactiveshell import InteractiveShell\n",
    "InteractiveShell.ast_node_interactivity = 'all'"
   ]
  },
  {
   "cell_type": "code",
   "execution_count": 8,
   "metadata": {},
   "outputs": [],
   "source": [
    "## Allows you to import files from another folder in current directory ## \n",
    "import os \n",
    "import sys \n",
    "module_path = os.path.abspath(os.path.join('..'))\n",
    "if module_path not in sys.path:\n",
    "    sys.path.append(module_path)"
   ]
  },
  {
   "cell_type": "code",
   "execution_count": 9,
   "metadata": {
    "collapsed": false
   },
   "outputs": [],
   "source": [
    "#Import standard packages\n",
    "import numpy as np\n",
    "import matplotlib.pyplot as plt\n",
    "%matplotlib inline\n",
    "from scipy import io\n",
    "from scipy import stats\n",
    "import pickle\n",
    "import sys\n",
    "\n",
    "#Import metrics\n",
    "from Neural_Decoding.metrics import get_R2\n",
    "from Neural_Decoding.metrics import get_rho\n",
    "from Neural_Decoding.metrics import get_R2_parts\n",
    "\n",
    "#Import decoder functions\n",
    "from Neural_Decoding.decoders import KalmanFilterDecoder"
   ]
  },
  {
   "cell_type": "markdown",
   "metadata": {},
   "source": [
    "## 2. Load Data\n",
    "The data for this example can be downloaded at this [link](https://www.dropbox.com/s/e9mul73ur9omu5f/example_data_hc.pickle?dl=0).\n",
    "\n",
    "It is the hc-2 dataset from [crcns](https://crcns.org/data-sets/hc/hc-2). Specifically, we use the dataset \"ec014.333\" \n",
    "\n",
    "\n",
    "The data that we load is in the format described below. We have another example notebook, \"Example_format_data_hc\", that may be helpful towards putting the data in this format.\n",
    "\n",
    "Neural data should be a matrix of size \"number of time bins\" x \"number of neurons\", where each entry is the firing rate of a given neuron in a given time bin\n",
    "\n",
    "The output you are decoding should be a matrix of size \"number of time bins\" x \"number of features you are decoding\""
   ]
  },
  {
   "cell_type": "code",
   "execution_count": 10,
   "metadata": {
    "collapsed": false
   },
   "outputs": [
    {
     "data": {
      "text/plain": [
       "array([array([[0, 0, 0, ..., 0, 0, 0],\n",
       "              [0, 0, 0, ..., 0, 0, 0],\n",
       "              [0, 0, 0, ..., 0, 0, 0],\n",
       "              ...,\n",
       "              [0, 0, 0, ..., 1, 0, 0],\n",
       "              [0, 0, 0, ..., 0, 0, 0],\n",
       "              [0, 0, 0, ..., 0, 0, 0]], dtype=uint8),\n",
       "       array([[0, 0, 0, ..., 0, 0, 0],\n",
       "              [0, 0, 0, ..., 0, 0, 0],\n",
       "              [1, 0, 0, ..., 1, 0, 0],\n",
       "              ...,\n",
       "              [0, 0, 1, ..., 0, 0, 1],\n",
       "              [0, 0, 0, ..., 0, 0, 1],\n",
       "              [0, 0, 0, ..., 0, 0, 0]], dtype=uint8),\n",
       "       array([[0, 0, 0, ..., 1, 0, 0],\n",
       "              [0, 0, 0, ..., 1, 0, 0],\n",
       "              [0, 0, 0, ..., 0, 0, 0],\n",
       "              ...,\n",
       "              [0, 0, 0, ..., 1, 0, 0],\n",
       "              [0, 0, 0, ..., 0, 0, 0],\n",
       "              [0, 0, 0, ..., 0, 0, 0]], dtype=uint8),\n",
       "       array([[0, 0, 0, ..., 1, 0, 0],\n",
       "              [0, 0, 0, ..., 0, 0, 0],\n",
       "              [0, 0, 0, ..., 0, 0, 0],\n",
       "              ...,\n",
       "              [0, 0, 0, ..., 0, 0, 0],\n",
       "              [0, 0, 0, ..., 0, 0, 0],\n",
       "              [0, 0, 0, ..., 0, 0, 0]], dtype=uint8),\n",
       "       array([[0, 0, 0, ..., 1, 0, 0],\n",
       "              [0, 0, 0, ..., 0, 0, 0],\n",
       "              [0, 0, 0, ..., 1, 1, 0],\n",
       "              ...,\n",
       "              [0, 0, 0, ..., 0, 0, 1],\n",
       "              [0, 0, 0, ..., 0, 0, 1],\n",
       "              [0, 0, 0, ..., 0, 0, 0]], dtype=uint8),\n",
       "       array([[0, 0, 0, ..., 1, 0, 0],\n",
       "              [0, 0, 0, ..., 0, 0, 0],\n",
       "              [0, 0, 0, ..., 0, 0, 0],\n",
       "              ...,\n",
       "              [2, 0, 0, ..., 0, 0, 0],\n",
       "              [0, 0, 0, ..., 0, 0, 0],\n",
       "              [0, 0, 0, ..., 0, 0, 0]], dtype=uint8),\n",
       "       array([[0, 0, 0, ..., 1, 0, 0],\n",
       "              [0, 0, 0, ..., 0, 0, 0],\n",
       "              [0, 0, 0, ..., 0, 0, 0],\n",
       "              ...,\n",
       "              [0, 0, 0, ..., 0, 0, 0],\n",
       "              [0, 0, 0, ..., 0, 1, 0],\n",
       "              [0, 0, 0, ..., 0, 0, 0]], dtype=uint8),\n",
       "       array([[0, 0, 0, ..., 0, 0, 0],\n",
       "              [0, 0, 0, ..., 1, 0, 0],\n",
       "              [0, 1, 0, ..., 0, 0, 0],\n",
       "              ...,\n",
       "              [0, 0, 0, ..., 0, 0, 1],\n",
       "              [0, 0, 0, ..., 0, 0, 0],\n",
       "              [0, 0, 0, ..., 0, 0, 0]], dtype=uint8),\n",
       "       array([[1, 0, 0, ..., 0, 0, 0],\n",
       "              [0, 0, 0, ..., 0, 0, 0],\n",
       "              [0, 0, 0, ..., 0, 0, 0],\n",
       "              ...,\n",
       "              [0, 0, 0, ..., 0, 0, 0],\n",
       "              [0, 0, 0, ..., 0, 0, 0],\n",
       "              [0, 0, 0, ..., 0, 0, 0]], dtype=uint8),\n",
       "       array([[0, 0, 0, ..., 0, 0, 0],\n",
       "              [1, 0, 0, ..., 0, 0, 0],\n",
       "              [0, 0, 0, ..., 0, 0, 0],\n",
       "              ...,\n",
       "              [0, 0, 0, ..., 0, 0, 0],\n",
       "              [0, 1, 0, ..., 0, 0, 0],\n",
       "              [0, 0, 0, ..., 0, 0, 0]], dtype=uint8),\n",
       "       array([[0, 0, 0, ..., 1, 0, 0],\n",
       "              [0, 0, 0, ..., 2, 0, 0],\n",
       "              [0, 0, 0, ..., 0, 0, 0],\n",
       "              ...,\n",
       "              [0, 0, 0, ..., 0, 0, 0],\n",
       "              [0, 0, 0, ..., 0, 0, 0],\n",
       "              [0, 0, 0, ..., 0, 0, 0]], dtype=uint8),\n",
       "       array([[0, 0, 0, ..., 0, 0, 0],\n",
       "              [0, 0, 0, ..., 1, 0, 0],\n",
       "              [0, 0, 0, ..., 0, 0, 0],\n",
       "              ...,\n",
       "              [0, 0, 0, ..., 0, 0, 0],\n",
       "              [0, 0, 0, ..., 0, 0, 0],\n",
       "              [0, 0, 0, ..., 0, 0, 0]], dtype=uint8),\n",
       "       array([[0, 0, 0, ..., 0, 0, 0],\n",
       "              [1, 0, 0, ..., 0, 0, 0],\n",
       "              [0, 0, 0, ..., 1, 0, 0],\n",
       "              ...,\n",
       "              [0, 0, 0, ..., 0, 0, 0],\n",
       "              [0, 0, 0, ..., 0, 0, 0],\n",
       "              [0, 0, 0, ..., 0, 0, 0]], dtype=uint8),\n",
       "       array([[0, 0, 0, ..., 1, 0, 0],\n",
       "              [0, 0, 0, ..., 0, 0, 0],\n",
       "              [0, 0, 0, ..., 0, 0, 0],\n",
       "              ...,\n",
       "              [0, 0, 0, ..., 0, 0, 0],\n",
       "              [0, 0, 0, ..., 0, 0, 0],\n",
       "              [0, 0, 0, ..., 0, 0, 0]], dtype=uint8),\n",
       "       array([[0, 0, 0, ..., 0, 0, 0],\n",
       "              [0, 0, 0, ..., 0, 0, 0],\n",
       "              [0, 0, 0, ..., 0, 0, 0],\n",
       "              ...,\n",
       "              [0, 0, 0, ..., 0, 0, 0],\n",
       "              [0, 0, 0, ..., 0, 0, 0],\n",
       "              [0, 0, 0, ..., 0, 0, 0]], dtype=uint8),\n",
       "       array([[0, 0, 0, ..., 0, 0, 0],\n",
       "              [0, 0, 0, ..., 0, 0, 0],\n",
       "              [0, 0, 0, ..., 0, 0, 0],\n",
       "              ...,\n",
       "              [0, 0, 0, ..., 0, 0, 0],\n",
       "              [0, 0, 0, ..., 0, 0, 0],\n",
       "              [0, 0, 0, ..., 0, 0, 0]], dtype=uint8)], dtype=object)"
      ]
     },
     "execution_count": 10,
     "metadata": {},
     "output_type": "execute_result"
    }
   ],
   "source": [
    "# Opening Acc/Dec Data \n",
    "folder='/Users/rbhatt6/Documents/MATLAB/' #ENTER THE FOLDER THAT YOUR DATA IS IN\n",
    "\n",
    "# Decoder Velocity Outputs\n",
    "with open(folder+'sortInAccDec.pickle','rb') as f:\n",
    "     sort_In=pickle.load(f,encoding='latin1') \n",
    "with open(folder+'sortOutXAccDec.pickle','rb') as f:\n",
    "     sort_Out_X=pickle.load(f,encoding='latin1') \n",
    "with open(folder+'sortOutYAccDec.pickle','rb') as f:\n",
    "     sort_Out_Y=pickle.load(f,encoding='latin1') \n",
    "\n",
    "# Decoder Position Outputs\n",
    "with open(folder+'sortOutXAccDecPos.pickle','rb') as f:\n",
    "     sort_Out_X_Pos=pickle.load(f,encoding='latin1') \n",
    "with open(folder+'sortOutYAccDecPos.pickle','rb') as f:\n",
    "     sort_Out_Y_Pos=pickle.load(f,encoding='latin1') \n",
    "\n",
    "\n",
    "# Filtered SortIn data \n",
    "with open(folder+'sortInFilt.pickle','rb') as f:\n",
    "     sort_In_Filt=pickle.load(f,encoding='latin1') \n",
    "\n",
    "sort_In"
   ]
  },
  {
   "cell_type": "code",
   "execution_count": 23,
   "metadata": {},
   "outputs": [
    {
     "data": {
      "text/plain": [
       "array([24.60974452])"
      ]
     },
     "execution_count": 23,
     "metadata": {},
     "output_type": "execute_result"
    },
    {
     "data": {
      "text/plain": [
       "array([0.26383715])"
      ]
     },
     "execution_count": 23,
     "metadata": {},
     "output_type": "execute_result"
    },
    {
     "data": {
      "text/plain": [
       "array([-0.04998854])"
      ]
     },
     "execution_count": 23,
     "metadata": {},
     "output_type": "execute_result"
    }
   ],
   "source": [
    "#pos\n",
    "sort_Out_X_Pos[0][-1]\n",
    "\n",
    "# vel\n",
    "sort_Out_X[0][-1]\n",
    "\n",
    "# acc\n",
    "test = np.diff(sort_Out_X[0], axis = 0)\n",
    "test = np.concatenate((test, test[-1:,:]), axis = 0)\n",
    "test[-1]"
   ]
  },
  {
   "cell_type": "code",
   "execution_count": 18,
   "metadata": {},
   "outputs": [
    {
     "data": {
      "text/plain": [
       "(1633, 6)"
      ]
     },
     "execution_count": 18,
     "metadata": {},
     "output_type": "execute_result"
    },
    {
     "data": {
      "text/plain": [
       "array([ 2.63837147e-01, -4.04205834e-01, -4.99885401e-02, -2.30014117e-01,\n",
       "        2.46097445e+01,  2.42113592e+02])"
      ]
     },
     "execution_count": 18,
     "metadata": {},
     "output_type": "execute_result"
    }
   ],
   "source": [
    "# Final output is vel, acc, pos\n",
    "X_Comb_Kin = []\n",
    "Y_Comb_Kin = []\n",
    "\n",
    "# Corrected decoder outputs to use (format = x,y vel, x,y acc, x,y pos)\n",
    "decoder_output = []\n",
    "\n",
    "for i in range(len(sort_Out_X)):\n",
    "    # Concatenating vel with acc for X component\n",
    "    temp1 = (np.diff(sort_Out_X[i], axis = 0))\n",
    "    temp1 = np.concatenate((temp1,temp1[-1:,:]),axis=0)\n",
    "    temp1_all_kin = np.array(np.concatenate((sort_Out_X[i], temp1, sort_Out_X_Pos[i]),axis=1))\n",
    "\n",
    "    temp2 = (np.diff(sort_Out_Y[i], axis = 0))\n",
    "    temp2 = np.concatenate((temp2,temp2[-1:,:]),axis=0)\n",
    "    temp2_all_kin = np.array(np.concatenate((sort_Out_Y[i], temp2, sort_Out_Y_Pos[i]),axis=1))\n",
    "    X_Comb_Kin.append(temp1_all_kin)\n",
    "    Y_Comb_Kin.append(temp2_all_kin)\n",
    "\n",
    "    temp3 = np.array(np.concatenate((sort_Out_X[i], sort_Out_Y[i], temp1, temp2, sort_Out_X_Pos[i], sort_Out_Y_Pos[i]),axis=1))\n",
    "\n",
    "    decoder_output.append(temp3)\n",
    "\n",
    "y_kf_X = np.array(X_Comb_Kin, dtype=object)\n",
    "y_kf_Y = np.array(Y_Comb_Kin, dtype=object)\n",
    "\n",
    "decoder_output[0].shape\n",
    "decoder_output[0][-1]\n"
   ]
  },
  {
   "cell_type": "markdown",
   "metadata": {},
   "source": [
    "## 3. Preprocess Data"
   ]
  },
  {
   "cell_type": "markdown",
   "metadata": {},
   "source": [
    "### 3A. User Inputs\n",
    "The user can define what time period to use spikes from (with respect to the output)."
   ]
  },
  {
   "cell_type": "code",
   "execution_count": 34,
   "metadata": {
    "collapsed": true
   },
   "outputs": [],
   "source": [
    "lag=0 #What time bin of spikes should be used relative to the output\n",
    "#(lag=-1 means use the spikes 1 bin before the output)"
   ]
  },
  {
   "cell_type": "markdown",
   "metadata": {},
   "source": [
    "### 3B. Format Covariates"
   ]
  },
  {
   "cell_type": "markdown",
   "metadata": {},
   "source": [
    "### 3C. Take lag into account"
   ]
  },
  {
   "cell_type": "code",
   "execution_count": null,
   "metadata": {
    "collapsed": false
   },
   "outputs": [],
   "source": [
    "num_examples=X_kf.shape[0]\n",
    "\n",
    "#Re-align data to take lag into account\n",
    "if lag<0:\n",
    "    y_kf=y_kf[-lag:,:]\n",
    "    X_kf=X_kf[0:num_examples+lag,:]\n",
    "if lag>0:\n",
    "    y_kf=y_kf[0:num_examples-lag,:]\n",
    "    X_kf=X_kf[lag:num_examples,:]"
   ]
  },
  {
   "cell_type": "markdown",
   "metadata": {},
   "source": [
    "### 3D. Split into training/testing/validation sets\n",
    "Note that parameters should be setting using a separate validation set. \n",
    "Then, the goodness of fit should be be tested on a testing set (separate from the training and validation sets)."
   ]
  },
  {
   "cell_type": "markdown",
   "metadata": {},
   "source": [
    "### User Options"
   ]
  },
  {
   "cell_type": "code",
   "execution_count": 35,
   "metadata": {
    "collapsed": true
   },
   "outputs": [],
   "source": [
    "#Set what part of data should be part of the training/testing/validation sets\n",
    "#Note that there was a long period of no movement after about 80% of recording, so I did not use this data.\n",
    "# training_range=[0, 0.5]\n",
    "# valid_range=[0.5,0.65]\n",
    "# testing_range=[0.65, 0.8]\n",
    "\n",
    "training_range=[0, 0.8]\n",
    "valid_range=[0.8,0.9]\n",
    "testing_range=[0.9, 1]"
   ]
  },
  {
   "cell_type": "markdown",
   "metadata": {},
   "source": [
    "### Split Data: For KF"
   ]
  },
  {
   "cell_type": "markdown",
   "metadata": {},
   "source": [
    "### 3E. Preprocessing: Normalization and zero-centering\n",
    "We normalize (z_score) the inputs and zero-center the outputs.\n",
    "Parameters for z-scoring (mean/std.) should be determined on the training set only, and then these z-scoring parameters are also used on the testing and validation sets."
   ]
  },
  {
   "cell_type": "markdown",
   "metadata": {},
   "source": [
    "### Kalman Filter"
   ]
  },
  {
   "cell_type": "code",
   "execution_count": 17,
   "metadata": {},
   "outputs": [
    {
     "data": {
      "text/plain": [
       "array([array([[0, 0, 0, ..., 0, 0, 0],\n",
       "              [0, 0, 0, ..., 0, 0, 0],\n",
       "              [0, 0, 0, ..., 0, 0, 0],\n",
       "              ...,\n",
       "              [0, 0, 0, ..., 1, 0, 0],\n",
       "              [0, 0, 0, ..., 0, 0, 0],\n",
       "              [0, 0, 0, ..., 0, 0, 0]], dtype=uint8),\n",
       "       array([[0, 0, 0, ..., 0, 0, 0],\n",
       "              [0, 0, 0, ..., 0, 0, 0],\n",
       "              [1, 0, 0, ..., 1, 0, 0],\n",
       "              ...,\n",
       "              [0, 0, 1, ..., 0, 0, 1],\n",
       "              [0, 0, 0, ..., 0, 0, 1],\n",
       "              [0, 0, 0, ..., 0, 0, 0]], dtype=uint8),\n",
       "       array([[0, 0, 0, ..., 1, 0, 0],\n",
       "              [0, 0, 0, ..., 1, 0, 0],\n",
       "              [0, 0, 0, ..., 0, 0, 0],\n",
       "              ...,\n",
       "              [0, 0, 0, ..., 1, 0, 0],\n",
       "              [0, 0, 0, ..., 0, 0, 0],\n",
       "              [0, 0, 0, ..., 0, 0, 0]], dtype=uint8),\n",
       "       array([[0, 0, 0, ..., 1, 0, 0],\n",
       "              [0, 0, 0, ..., 0, 0, 0],\n",
       "              [0, 0, 0, ..., 0, 0, 0],\n",
       "              ...,\n",
       "              [0, 0, 0, ..., 0, 0, 0],\n",
       "              [0, 0, 0, ..., 0, 0, 0],\n",
       "              [0, 0, 0, ..., 0, 0, 0]], dtype=uint8),\n",
       "       array([[0, 0, 0, ..., 1, 0, 0],\n",
       "              [0, 0, 0, ..., 0, 0, 0],\n",
       "              [0, 0, 0, ..., 1, 1, 0],\n",
       "              ...,\n",
       "              [0, 0, 0, ..., 0, 0, 1],\n",
       "              [0, 0, 0, ..., 0, 0, 1],\n",
       "              [0, 0, 0, ..., 0, 0, 0]], dtype=uint8),\n",
       "       array([[0, 0, 0, ..., 1, 0, 0],\n",
       "              [0, 0, 0, ..., 0, 0, 0],\n",
       "              [0, 0, 0, ..., 0, 0, 0],\n",
       "              ...,\n",
       "              [2, 0, 0, ..., 0, 0, 0],\n",
       "              [0, 0, 0, ..., 0, 0, 0],\n",
       "              [0, 0, 0, ..., 0, 0, 0]], dtype=uint8),\n",
       "       array([[0, 0, 0, ..., 1, 0, 0],\n",
       "              [0, 0, 0, ..., 0, 0, 0],\n",
       "              [0, 0, 0, ..., 0, 0, 0],\n",
       "              ...,\n",
       "              [0, 0, 0, ..., 0, 0, 0],\n",
       "              [0, 0, 0, ..., 0, 1, 0],\n",
       "              [0, 0, 0, ..., 0, 0, 0]], dtype=uint8),\n",
       "       array([[0, 0, 0, ..., 0, 0, 0],\n",
       "              [0, 0, 0, ..., 1, 0, 0],\n",
       "              [0, 1, 0, ..., 0, 0, 0],\n",
       "              ...,\n",
       "              [0, 0, 0, ..., 0, 0, 1],\n",
       "              [0, 0, 0, ..., 0, 0, 0],\n",
       "              [0, 0, 0, ..., 0, 0, 0]], dtype=uint8),\n",
       "       array([[1, 0, 0, ..., 0, 0, 0],\n",
       "              [0, 0, 0, ..., 0, 0, 0],\n",
       "              [0, 0, 0, ..., 0, 0, 0],\n",
       "              ...,\n",
       "              [0, 0, 0, ..., 0, 0, 0],\n",
       "              [0, 0, 0, ..., 0, 0, 0],\n",
       "              [0, 0, 0, ..., 0, 0, 0]], dtype=uint8),\n",
       "       array([[0, 0, 0, ..., 0, 0, 0],\n",
       "              [1, 0, 0, ..., 0, 0, 0],\n",
       "              [0, 0, 0, ..., 0, 0, 0],\n",
       "              ...,\n",
       "              [0, 0, 0, ..., 0, 0, 0],\n",
       "              [0, 1, 0, ..., 0, 0, 0],\n",
       "              [0, 0, 0, ..., 0, 0, 0]], dtype=uint8),\n",
       "       array([[0, 0, 0, ..., 1, 0, 0],\n",
       "              [0, 0, 0, ..., 2, 0, 0],\n",
       "              [0, 0, 0, ..., 0, 0, 0],\n",
       "              ...,\n",
       "              [0, 0, 0, ..., 0, 0, 0],\n",
       "              [0, 0, 0, ..., 0, 0, 0],\n",
       "              [0, 0, 0, ..., 0, 0, 0]], dtype=uint8),\n",
       "       array([[0, 0, 0, ..., 0, 0, 0],\n",
       "              [0, 0, 0, ..., 1, 0, 0],\n",
       "              [0, 0, 0, ..., 0, 0, 0],\n",
       "              ...,\n",
       "              [0, 0, 0, ..., 0, 0, 0],\n",
       "              [0, 0, 0, ..., 0, 0, 0],\n",
       "              [0, 0, 0, ..., 0, 0, 0]], dtype=uint8),\n",
       "       array([[0, 0, 0, ..., 0, 0, 0],\n",
       "              [1, 0, 0, ..., 0, 0, 0],\n",
       "              [0, 0, 0, ..., 1, 0, 0],\n",
       "              ...,\n",
       "              [0, 0, 0, ..., 0, 0, 0],\n",
       "              [0, 0, 0, ..., 0, 0, 0],\n",
       "              [0, 0, 0, ..., 0, 0, 0]], dtype=uint8),\n",
       "       array([[0, 0, 0, ..., 1, 0, 0],\n",
       "              [0, 0, 0, ..., 0, 0, 0],\n",
       "              [0, 0, 0, ..., 0, 0, 0],\n",
       "              ...,\n",
       "              [0, 0, 0, ..., 0, 0, 0],\n",
       "              [0, 0, 0, ..., 0, 0, 0],\n",
       "              [0, 0, 0, ..., 0, 0, 0]], dtype=uint8),\n",
       "       array([[0, 0, 0, ..., 0, 0, 0],\n",
       "              [0, 0, 0, ..., 0, 0, 0],\n",
       "              [0, 0, 0, ..., 0, 0, 0],\n",
       "              ...,\n",
       "              [0, 0, 0, ..., 0, 0, 0],\n",
       "              [0, 0, 0, ..., 0, 0, 0],\n",
       "              [0, 0, 0, ..., 0, 0, 0]], dtype=uint8),\n",
       "       array([[0, 0, 0, ..., 0, 0, 0],\n",
       "              [0, 0, 0, ..., 0, 0, 0],\n",
       "              [0, 0, 0, ..., 0, 0, 0],\n",
       "              ...,\n",
       "              [0, 0, 0, ..., 0, 0, 0],\n",
       "              [0, 0, 0, ..., 0, 0, 0],\n",
       "              [0, 0, 0, ..., 0, 0, 0]], dtype=uint8)], dtype=object)"
      ]
     },
     "execution_count": 17,
     "metadata": {},
     "output_type": "execute_result"
    },
    {
     "data": {
      "text/plain": [
       "array([array([[0, 0, 0, ..., 1, 0, 0],\n",
       "              [0, 0, 0, ..., 0, 0, 0],\n",
       "              [0, 0, 0, ..., 0, 0, 0],\n",
       "              ...,\n",
       "              [0, 0, 0, ..., 0, 0, 0],\n",
       "              [0, 0, 0, ..., 0, 0, 0],\n",
       "              [0, 0, 0, ..., 0, 0, 0]], dtype=uint8),\n",
       "       array([[0, 0, 0, ..., 0, 0, 0],\n",
       "              [0, 0, 0, ..., 0, 0, 0],\n",
       "              [0, 0, 0, ..., 1, 0, 0],\n",
       "              ...,\n",
       "              [0, 0, 0, ..., 1, 0, 0],\n",
       "              [0, 0, 0, ..., 0, 0, 0],\n",
       "              [0, 0, 0, ..., 0, 0, 0]], dtype=uint8),\n",
       "       array([[0, 0, 0, ..., 0, 0, 0],\n",
       "              [0, 0, 0, ..., 0, 0, 0],\n",
       "              [0, 0, 0, ..., 0, 0, 0],\n",
       "              ...,\n",
       "              [0, 0, 0, ..., 1, 0, 0],\n",
       "              [0, 0, 0, ..., 0, 0, 0],\n",
       "              [0, 0, 0, ..., 0, 0, 0]], dtype=uint8),\n",
       "       array([[0, 0, 0, ..., 1, 0, 0],\n",
       "              [0, 1, 0, ..., 0, 0, 0],\n",
       "              [0, 0, 0, ..., 0, 0, 0],\n",
       "              ...,\n",
       "              [0, 0, 0, ..., 0, 0, 0],\n",
       "              [0, 0, 0, ..., 0, 0, 0],\n",
       "              [0, 0, 0, ..., 0, 0, 0]], dtype=uint8),\n",
       "       array([[0, 0, 0, ..., 0, 0, 0],\n",
       "              [0, 0, 0, ..., 1, 0, 0],\n",
       "              [0, 0, 0, ..., 0, 0, 0],\n",
       "              ...,\n",
       "              [0, 0, 0, ..., 1, 0, 1],\n",
       "              [0, 0, 0, ..., 0, 0, 0],\n",
       "              [0, 0, 0, ..., 0, 0, 0]], dtype=uint8),\n",
       "       array([[0, 0, 0, ..., 1, 0, 0],\n",
       "              [0, 0, 0, ..., 0, 0, 0],\n",
       "              [0, 0, 0, ..., 0, 0, 0],\n",
       "              ...,\n",
       "              [0, 0, 0, ..., 0, 0, 0],\n",
       "              [0, 0, 0, ..., 1, 1, 0],\n",
       "              [0, 0, 0, ..., 0, 0, 0]], dtype=uint8),\n",
       "       array([[0, 0, 0, ..., 0, 0, 0],\n",
       "              [0, 0, 0, ..., 0, 0, 0],\n",
       "              [0, 0, 0, ..., 0, 0, 0],\n",
       "              ...,\n",
       "              [0, 0, 0, ..., 1, 0, 0],\n",
       "              [0, 1, 0, ..., 0, 0, 0],\n",
       "              [0, 0, 0, ..., 0, 0, 0]], dtype=uint8),\n",
       "       array([[0, 0, 0, ..., 1, 0, 0],\n",
       "              [0, 0, 0, ..., 0, 0, 0],\n",
       "              [0, 0, 0, ..., 0, 0, 0],\n",
       "              ...,\n",
       "              [0, 0, 0, ..., 0, 0, 0],\n",
       "              [0, 0, 0, ..., 0, 0, 0],\n",
       "              [0, 0, 0, ..., 0, 0, 0]], dtype=uint8),\n",
       "       array([[0, 0, 0, ..., 0, 0, 0],\n",
       "              [0, 0, 0, ..., 0, 0, 0],\n",
       "              [0, 0, 0, ..., 0, 0, 0],\n",
       "              ...,\n",
       "              [0, 0, 0, ..., 0, 0, 0],\n",
       "              [0, 1, 0, ..., 1, 0, 0],\n",
       "              [0, 0, 0, ..., 0, 0, 0]], dtype=uint8),\n",
       "       array([[0, 0, 0, ..., 1, 0, 0],\n",
       "              [0, 0, 0, ..., 0, 0, 0],\n",
       "              [0, 0, 0, ..., 0, 0, 0],\n",
       "              ...,\n",
       "              [0, 0, 0, ..., 1, 0, 0],\n",
       "              [0, 0, 0, ..., 0, 0, 0],\n",
       "              [0, 0, 0, ..., 0, 0, 0]], dtype=uint8),\n",
       "       array([[1, 0, 0, ..., 0, 0, 0],\n",
       "              [0, 1, 0, ..., 1, 0, 0],\n",
       "              [0, 0, 0, ..., 0, 0, 0],\n",
       "              ...,\n",
       "              [0, 1, 0, ..., 1, 0, 0],\n",
       "              [0, 0, 0, ..., 0, 0, 0],\n",
       "              [0, 0, 0, ..., 0, 0, 0]], dtype=uint8),\n",
       "       array([[0, 1, 0, ..., 1, 0, 0],\n",
       "              [0, 0, 0, ..., 0, 0, 0],\n",
       "              [0, 0, 0, ..., 0, 0, 0],\n",
       "              ...,\n",
       "              [0, 1, 0, ..., 0, 0, 1],\n",
       "              [0, 0, 0, ..., 0, 0, 0],\n",
       "              [0, 0, 0, ..., 0, 0, 0]], dtype=uint8),\n",
       "       array([[0, 0, 0, ..., 0, 0, 0],\n",
       "              [0, 0, 0, ..., 1, 0, 1],\n",
       "              [0, 0, 0, ..., 0, 0, 0],\n",
       "              ...,\n",
       "              [0, 0, 0, ..., 0, 0, 1],\n",
       "              [0, 0, 0, ..., 0, 0, 0],\n",
       "              [0, 0, 0, ..., 0, 0, 0]], dtype=uint8),\n",
       "       array([[0, 1, 0, ..., 0, 0, 0],\n",
       "              [0, 0, 0, ..., 0, 0, 0],\n",
       "              [0, 0, 0, ..., 0, 0, 0],\n",
       "              ...,\n",
       "              [0, 0, 0, ..., 0, 0, 0],\n",
       "              [0, 0, 0, ..., 0, 0, 0],\n",
       "              [0, 0, 0, ..., 0, 0, 0]], dtype=uint8),\n",
       "       array([[0, 0, 0, ..., 0, 0, 0],\n",
       "              [0, 0, 0, ..., 0, 0, 0],\n",
       "              [0, 0, 0, ..., 0, 0, 0],\n",
       "              ...,\n",
       "              [0, 0, 0, ..., 0, 0, 0],\n",
       "              [0, 0, 0, ..., 0, 0, 0],\n",
       "              [0, 0, 0, ..., 0, 0, 0]], dtype=uint8),\n",
       "       array([[0, 0, 0, ..., 0, 1, 0],\n",
       "              [0, 0, 0, ..., 1, 0, 0],\n",
       "              [0, 0, 0, ..., 0, 0, 0],\n",
       "              ...,\n",
       "              [0, 0, 0, ..., 0, 0, 0],\n",
       "              [0, 0, 0, ..., 0, 0, 0],\n",
       "              [0, 0, 0, ..., 0, 0, 0]], dtype=uint8)], dtype=object)"
      ]
     },
     "execution_count": 17,
     "metadata": {},
     "output_type": "execute_result"
    }
   ],
   "source": [
    "sort_In\n",
    "sort_In_Filt"
   ]
  },
  {
   "cell_type": "code",
   "execution_count": 36,
   "metadata": {},
   "outputs": [],
   "source": [
    "# Running decoder on X and Y components separately to get X_FVAF and Y_FVAF\n",
    "from Neural_Decoding.runModelsKF import run_model_kf\n",
    "\n",
    "Kalman_R2s_X = run_model_kf(sort_In, X_Comb_Kin, training_range, testing_range, valid_range, \"score\")\n",
    "Kalman_R2s_Y = run_model_kf(sort_In, Y_Comb_Kin, training_range, testing_range, valid_range, \"score\")"
   ]
  },
  {
   "cell_type": "code",
   "execution_count": 37,
   "metadata": {},
   "outputs": [
    {
     "data": {
      "text/plain": [
       "[[0.30224871888289095, 0.2563264224976717, -0.12978992522441013],\n",
       " [0.0425781027057377, 0.27423054822769555, 0.2759103249910907],\n",
       " [-0.1461145997978346, -0.0636898547963769, -0.14575649532944523],\n",
       " [0.39496426475476343, 0.31524437274773986, 0.32836486173155466],\n",
       " [0.5603475837302112, 0.44919383670992097, 0.29546162124504827],\n",
       " [0.38825921255572315, 0.41595144359131553, -0.2905144103127697],\n",
       " [0.030658615119866783, 0.049301760760361524, -0.06618414039487419],\n",
       " [0.2974339818857974, 0.34850001312732726, -0.3798385918718499],\n",
       " [0.4112153907880485, 0.4071587771916104, 0.1577443469195008],\n",
       " [0.2478603268843509, 0.2580890569501101, 0.22209676180060844],\n",
       " [0.005734621943257134, 0.005351319765727003, -0.20566141810691607],\n",
       " [0.11988525847228904, 0.1779659261204969, 0.4831263885633016],\n",
       " [0.22200675124469138, 0.23335032850501558, -0.0817060675775747],\n",
       " [-0.008815197907430683, 0.14507591030925404, -0.17867664745616763],\n",
       " [-0.08458196268116214, -0.07640169940158348, -0.3953081054276122],\n",
       " [0.3295771319103481, 0.31721696802817434, 0.0812685173377925]]"
      ]
     },
     "execution_count": 37,
     "metadata": {},
     "output_type": "execute_result"
    },
    {
     "data": {
      "text/plain": [
       "[[-0.19874973399314722, -0.01997484954448625, 0.31745137439562754],\n",
       " [0.32887837897156436, 0.3135799209903194, 0.3745985073150778],\n",
       " [0.5522282059482153, 0.39409203145291805, 0.23105392868406582],\n",
       " [0.45644955547141863, 0.38173514692694677, 0.29556425515174023],\n",
       " [0.1524986981850689, 0.07535191995490409, 0.2138482807687817],\n",
       " [0.4588907100327628, 0.43608850561456747, 0.4230558799145956],\n",
       " [0.531236611269762, 0.46721934132045895, 0.16508486899968322],\n",
       " [0.38953093128724914, 0.3672655485248606, 0.4885387025536744],\n",
       " [0.1096812310917713, 0.02539443368116745, 0.49808910515615046],\n",
       " [0.4579110197866575, 0.32449129973054547, 0.38606927068823127],\n",
       " [0.5667577830583388, 0.38268574925436993, 0.36105000761489237],\n",
       " [0.2849966850919482, 0.26845754419874046, 0.3169767856530459],\n",
       " [0.19186939587100038, 0.11920302590520271, 0.4322799805072046],\n",
       " [0.24841163088774998, 0.08270095170031122, 0.37922855712951664],\n",
       " [0.19540698543411028, 0.2611833168433477, 0.23170832334091485],\n",
       " [0.2053030110479077, 0.26993926201307994, 0.31053201748793324]]"
      ]
     },
     "execution_count": 37,
     "metadata": {},
     "output_type": "execute_result"
    }
   ],
   "source": [
    "Kalman_R2s_X\n",
    "Kalman_R2s_Y"
   ]
  },
  {
   "cell_type": "code",
   "execution_count": 38,
   "metadata": {},
   "outputs": [],
   "source": [
    "# Running decoder on X and Y components separately to get X_FVAF and Y_FVAF -- FILTERED SORT_IN\n",
    "from Neural_Decoding.runModelsKF import run_model_kf\n",
    "\n",
    "Kalman_R2s_X_Filt = run_model_kf(sort_In_Filt, X_Comb_Kin, training_range, testing_range, valid_range, \"score\")\n",
    "Kalman_R2s_Y_Filt = run_model_kf(sort_In_Filt, Y_Comb_Kin, training_range, testing_range, valid_range, \"score\")"
   ]
  },
  {
   "cell_type": "code",
   "execution_count": 39,
   "metadata": {},
   "outputs": [
    {
     "data": {
      "text/plain": [
       "[[0.2664003833008761, 0.3332095932229413, -0.12521216004917957],\n",
       " [0.041354984257004346, 0.2750630412436461, 0.1664369531412746],\n",
       " [-0.09004343935288972, 0.00363411285070403, -0.13465457189584784],\n",
       " [0.36955042659680537, 0.34703350890547036, 0.2636398553037359],\n",
       " [0.5147704949113123, 0.48869624337756956, 0.226073061054613],\n",
       " [0.38891874985267816, 0.38768388737458614, -0.25897399118216824],\n",
       " [-0.04063606250700569, -0.016119699496390805, -0.19253657878893038],\n",
       " [0.39502839377467436, 0.39669155788237853, -0.1975303043715233],\n",
       " [0.37172786190955753, 0.4514450857787836, -0.02212378732908582],\n",
       " [0.25494356049760725, 0.2754540025475444, 0.14536560740733018],\n",
       " [-0.1422175236781429, -0.0616363541015148, -0.3163170936472868],\n",
       " [0.10773141048306245, 0.19391487868049606, 0.44673260803617076],\n",
       " [-0.03159971420663288, 0.24932620953532758, -0.1351211237703258],\n",
       " [0.07890320465572254, 0.2341416873883928, -0.11322280961134523],\n",
       " [-0.25885980750024706, -0.09273037023697484, -0.6781620660091834],\n",
       " [0.2585866749629028, 0.3398683571908032, -0.07359691298742543]]"
      ]
     },
     "execution_count": 39,
     "metadata": {},
     "output_type": "execute_result"
    },
    {
     "data": {
      "text/plain": [
       "[[-0.5732360895484476, -0.06946992072161406, 0.3925387680131325],\n",
       " [0.23392974205123074, 0.32400506604516466, 0.12870674158888784],\n",
       " [0.4166338006840917, 0.39140602480130804, 0.1676762642012012],\n",
       " [0.3472015540077973, 0.40913315613876655, 0.1604666497521362],\n",
       " [0.04103390138296459, 0.023166975174840676, 0.24332416176996863],\n",
       " [0.38515464135462585, 0.4143153940510945, 0.31833908893401675],\n",
       " [0.44821581690532486, 0.44979802865467744, 0.1197252020519376],\n",
       " [0.3185647941785109, 0.3992519046654597, 0.24872644906372565],\n",
       " [0.0010585917674461598, -0.0029112981036258923, 0.39582518113807696],\n",
       " [0.2976621136716213, 0.3324259663608612, 0.29029848870730723],\n",
       " [0.3294978410581506, 0.3936455478726435, 0.11744289648272954],\n",
       " [0.13064818485034135, 0.23541829685873805, 0.20414813750156713],\n",
       " [-0.0716394426716167, -0.048527012315711104, 0.251475116884616],\n",
       " [0.04613835905427732, 0.05090006661131852, -0.01529480000008121],\n",
       " [0.3019699042237691, 0.3702046839976991, -0.12676452252619197],\n",
       " [0.2034311250586187, 0.24207877310798298, 0.04306997666380641]]"
      ]
     },
     "execution_count": 39,
     "metadata": {},
     "output_type": "execute_result"
    }
   ],
   "source": [
    "Kalman_R2s_X_Filt\n",
    "Kalman_R2s_Y_Filt"
   ]
  },
  {
   "cell_type": "code",
   "execution_count": 7,
   "metadata": {},
   "outputs": [],
   "source": [
    "# Running decoder on X and Y components together to get X_FVAF and Y_FVAF\n",
    "from Neural_Decoding.runModelsKF import run_model_kf\n",
    "\n",
    "Kalman_R2s_combined = run_model_kf(sort_In, decoder_output, training_range, testing_range, valid_range, \"score\")"
   ]
  },
  {
   "cell_type": "code",
   "execution_count": 8,
   "metadata": {},
   "outputs": [
    {
     "data": {
      "text/plain": [
       "[[0.3072948830188065,\n",
       "  -0.17669231556536658,\n",
       "  0.25707346421119204,\n",
       "  -0.02206557866297909,\n",
       "  -0.14368645168103478,\n",
       "  0.3367167761490708],\n",
       " [0.04923445044692665,\n",
       "  0.3678399304008627,\n",
       "  0.28813383938608017,\n",
       "  0.335520939870686,\n",
       "  0.2843216287138073,\n",
       "  0.3912416398489308],\n",
       " [-0.1447917058876882,\n",
       "  0.5555325950084254,\n",
       "  -0.0677117693505731,\n",
       "  0.3965902817403044,\n",
       "  -0.16705605430987935,\n",
       "  0.23086513790544516],\n",
       " [0.41535994073418503,\n",
       "  0.46518368638902297,\n",
       "  0.32418705629180444,\n",
       "  0.38273956137804965,\n",
       "  0.3311407664853778,\n",
       "  0.29517090611955765],\n",
       " [0.5573915473005557,\n",
       "  0.14328777331756837,\n",
       "  0.44912445159968084,\n",
       "  0.07344649000194425,\n",
       "  0.30002028410922443,\n",
       "  0.20976832788232824],\n",
       " [0.42045444307169744,\n",
       "  0.46611831742599974,\n",
       "  0.42273348239227715,\n",
       "  0.4352488948327189,\n",
       "  -0.29293346015924593,\n",
       "  0.42711628396566237],\n",
       " [0.02948124874425828,\n",
       "  0.5368129260854421,\n",
       "  0.047542502560112054,\n",
       "  0.4680191845844571,\n",
       "  -0.0788187021726614,\n",
       "  0.16175489763989626],\n",
       " [0.2712920312847602,\n",
       "  0.4135047111303707,\n",
       "  0.35406606778773275,\n",
       "  0.37076092515427395,\n",
       "  -0.3756423975524352,\n",
       "  0.4996620313622461],\n",
       " [0.4162892426009237,\n",
       "  0.10603571766136644,\n",
       "  0.408452730718586,\n",
       "  0.02407469629884207,\n",
       "  0.16074472291637643,\n",
       "  0.49847318052799294],\n",
       " [0.2754266556397079,\n",
       "  0.44897997834358117,\n",
       "  0.2645978443325896,\n",
       "  0.32644525038485506,\n",
       "  0.2359076050084663,\n",
       "  0.3773690908143579],\n",
       " [0.0073186700032998875,\n",
       "  0.5643781637021221,\n",
       "  0.007762487032139109,\n",
       "  0.38279928840496946,\n",
       "  -0.2078184220880792,\n",
       "  0.3921330509893277],\n",
       " [0.133409795269127,\n",
       "  0.2827439854081678,\n",
       "  0.1784345963227938,\n",
       "  0.2670768608685018,\n",
       "  0.48437183791703875,\n",
       "  0.3306245155605618],\n",
       " [0.2333962156396886,\n",
       "  0.19381081110346432,\n",
       "  0.23470513534056758,\n",
       "  0.11755840108382742,\n",
       "  -0.08451468501410031,\n",
       "  0.4489312676887043],\n",
       " [-0.03988450238817043,\n",
       "  0.25826245306945717,\n",
       "  0.14079211892902654,\n",
       "  0.08577616096151364,\n",
       "  -0.1642884462668599,\n",
       "  0.38255898728794435],\n",
       " [-0.07157842616614651,\n",
       "  0.21931235596385823,\n",
       "  -0.07472825504651404,\n",
       "  0.2800162576113313,\n",
       "  -0.3818198051602979,\n",
       "  0.191485211104917],\n",
       " [0.33477093722167817,\n",
       "  0.19774268189403754,\n",
       "  0.3165630771887221,\n",
       "  0.27036075337766496,\n",
       "  0.0737724708844042,\n",
       "  0.327198429718913]]"
      ]
     },
     "execution_count": 8,
     "metadata": {},
     "output_type": "execute_result"
    }
   ],
   "source": [
    "Kalman_R2s_combined"
   ]
  },
  {
   "cell_type": "code",
   "execution_count": 40,
   "metadata": {},
   "outputs": [],
   "source": [
    "# Running decoder on X and Y components together to get X_FVAF and Y_FVAF -- FILTERED\n",
    "from Neural_Decoding.runModelsKF import run_model_kf\n",
    "\n",
    "Kalman_R2s_combined_Filt = run_model_kf(sort_In_Filt, decoder_output, training_range, testing_range, valid_range, \"score\")"
   ]
  },
  {
   "cell_type": "code",
   "execution_count": 41,
   "metadata": {},
   "outputs": [
    {
     "data": {
      "text/plain": [
       "[[0.2713886119448916,\n",
       "  -0.5280610382656961,\n",
       "  0.3213128834430784,\n",
       "  -0.05949166783096316,\n",
       "  -0.09745302431425196,\n",
       "  0.3905988702448727],\n",
       " [0.044568628046299685,\n",
       "  0.23252928855430843,\n",
       "  0.281343575549694,\n",
       "  0.3324886150457699,\n",
       "  0.16823148132851706,\n",
       "  0.12721566402444873],\n",
       " [-0.09698020099873927,\n",
       "  0.42116847884265673,\n",
       "  -0.0014806941547402808,\n",
       "  0.39489051647747764,\n",
       "  -0.12385306292158726,\n",
       "  0.19553202588964824],\n",
       " [0.3857753539242391,\n",
       "  0.3501995461371241,\n",
       "  0.3639716223870806,\n",
       "  0.40672845808431546,\n",
       "  0.2594432797878409,\n",
       "  0.15807858936153918],\n",
       " [0.5139239869251844,\n",
       "  0.0382651376202543,\n",
       "  0.48847347758706916,\n",
       "  0.02709514889038922,\n",
       "  0.22642218499681344,\n",
       "  0.24375396732036858],\n",
       " [0.385914549088449,\n",
       "  0.3894724686836074,\n",
       "  0.39773364167841696,\n",
       "  0.41419550858391063,\n",
       "  -0.27460542388508347,\n",
       "  0.3139505286330917],\n",
       " [-0.04387574390824578,\n",
       "  0.45865412274152195,\n",
       "  -0.018753236311795485,\n",
       "  0.45058026389787886,\n",
       "  -0.18174005559104467,\n",
       "  0.1331432089670811],\n",
       " [0.3884915500472833,\n",
       "  0.31534381469534445,\n",
       "  0.3989024526728151,\n",
       "  0.3938444666862885,\n",
       "  -0.20609922602649933,\n",
       "  0.25216778857157496],\n",
       " [0.3748996572271034,\n",
       "  0.0015208637062917862,\n",
       "  0.4520492761658371,\n",
       "  -0.003611365576983605,\n",
       "  -0.010132508538230223,\n",
       "  0.407491769068988],\n",
       " [0.2512856099460806,\n",
       "  0.2874252795537172,\n",
       "  0.2727437337910428,\n",
       "  0.33508044645522317,\n",
       "  0.18456402033163166,\n",
       "  0.3039611559338258],\n",
       " [-0.14278622271412011,\n",
       "  0.3291346195033502,\n",
       "  -0.06146341286561374,\n",
       "  0.39268863269352294,\n",
       "  -0.29098688511176274,\n",
       "  0.12211511969248678],\n",
       " [0.1090832166445248,\n",
       "  0.13324270214428113,\n",
       "  0.19390399479956766,\n",
       "  0.2292000663326873,\n",
       "  0.46790716717036085,\n",
       "  0.21626291435686928],\n",
       " [-0.030069866828700498,\n",
       "  -0.06731106421393007,\n",
       "  0.2463149349204573,\n",
       "  -0.04998993756430847,\n",
       "  -0.13273725963323302,\n",
       "  0.2623311765826043],\n",
       " [0.06912970950515773,\n",
       "  0.0535290687128549,\n",
       "  0.2266396831189218,\n",
       "  0.049541372721917165,\n",
       "  -0.09018719873828163,\n",
       "  -0.018526294569597868],\n",
       " [-0.2567107007035332,\n",
       "  0.29827609003432076,\n",
       "  -0.08947129788112562,\n",
       "  0.3710147375471149,\n",
       "  -0.6823876193724667,\n",
       "  -0.08395290975988101],\n",
       " [0.2512876249194843,\n",
       "  0.22599312086322243,\n",
       "  0.336343340460324,\n",
       "  0.24721500993347678,\n",
       "  -0.07851657513268262,\n",
       "  0.06273298887136858]]"
      ]
     },
     "execution_count": 41,
     "metadata": {},
     "output_type": "execute_result"
    }
   ],
   "source": [
    "Kalman_R2s_combined_Filt"
   ]
  },
  {
   "cell_type": "code",
   "execution_count": 9,
   "metadata": {},
   "outputs": [],
   "source": [
    "# Running decoder on X and Y components together to get nom and denom for later computing combined XY_FVAF\n",
    "from Neural_Decoding.runModelsKF import run_model_kf\n",
    "\n",
    "Kalman_R2s_XY = run_model_kf(sort_In, decoder_output, training_range, testing_range, valid_range, \"parts\")"
   ]
  },
  {
   "cell_type": "code",
   "execution_count": null,
   "metadata": {},
   "outputs": [
    {
     "data": {
      "text/plain": [
       "(2, 6)"
      ]
     },
     "execution_count": 10,
     "metadata": {},
     "output_type": "execute_result"
    },
    {
     "data": {
      "text/plain": [
       "range(0, 16)"
      ]
     },
     "execution_count": 10,
     "metadata": {},
     "output_type": "execute_result"
    }
   ],
   "source": [
    "Kalman_R2s_XY[0].shape\n",
    "range(len(Kalman_R2s_XY))"
   ]
  },
  {
   "cell_type": "code",
   "execution_count": null,
   "metadata": {},
   "outputs": [
    {
     "data": {
      "text/plain": [
       "[0.227405442543961,\n",
       " 0.17364525033812173,\n",
       " 0.42608821987503087,\n",
       " 0.4401308773309419,\n",
       " 0.4846222047779313,\n",
       " 0.4384412259646876,\n",
       " 0.44004068612482317,\n",
       " 0.34311571051909706,\n",
       " 0.34949129996278105,\n",
       " 0.3491056510088656,\n",
       " 0.3660772407413688,\n",
       " 0.20775948373460207,\n",
       " 0.22087696955016312,\n",
       " 0.1255940498772361,\n",
       " 0.1417788909949662,\n",
       " 0.29835663464276874]"
      ]
     },
     "execution_count": 11,
     "metadata": {},
     "output_type": "execute_result"
    }
   ],
   "source": [
    "# Compute combined XY_FVAF (velocity only)\n",
    "from Neural_Decoding.metrics import compute_XY_FVAF\n",
    "\n",
    "XY_FVAF = []\n",
    "for i in range(len(Kalman_R2s_XY)):\n",
    "    #curr_bucket = Kalman_R2s_combined[i]\n",
    "    vel_x_nom = Kalman_R2s_XY[i][0][0] # dim = (curr_bucket, nom, x_vel)\n",
    "    vel_x_denom = Kalman_R2s_XY[i][1][0] # dim = (curr_bucket, denom, x_vel)\n",
    "    vel_y_nom = Kalman_R2s_XY[i][0][1] # dim = (curr_bucket, nom, y_vel)\n",
    "    vel_y_denom = Kalman_R2s_XY[i][1][1] # dim = (curr_bucket, denom, y_vel)\n",
    "\n",
    "    curr_bucket_XY_FVAF = compute_XY_FVAF(vel_x_nom,vel_x_denom,vel_y_nom,vel_y_denom)\n",
    "    XY_FVAF.append(curr_bucket_XY_FVAF)\n",
    "\n",
    "XY_FVAF"
   ]
  },
  {
   "cell_type": "code",
   "execution_count": 42,
   "metadata": {},
   "outputs": [
    {
     "data": {
      "text/plain": [
       "[0.1394273009226802,\n",
       " 0.11796452859785223,\n",
       " 0.3253965171922609,\n",
       " 0.3680880831763107,\n",
       " 0.43033773656077723,\n",
       " 0.38731599669257244,\n",
       " 0.3627978160790374,\n",
       " 0.35154871565066415,\n",
       " 0.2945107712772629,\n",
       " 0.26662806786149174,\n",
       " 0.16114118319233328,\n",
       " 0.12111160892843931,\n",
       " -0.04184773597508351,\n",
       " 0.06047098800736328,\n",
       " 0.15035098707028016,\n",
       " 0.24456578698842535]"
      ]
     },
     "execution_count": 42,
     "metadata": {},
     "output_type": "execute_result"
    }
   ],
   "source": [
    "# Running decoder on X and Y components together to get nom and denom for later computing combined XY_FVAF\n",
    "from Neural_Decoding.runModelsKF import run_model_kf\n",
    "\n",
    "Kalman_R2s_XY_Filt = run_model_kf(sort_In_Filt, decoder_output, training_range, testing_range, valid_range, \"parts\")\n",
    "\n",
    "# Compute combined XY_FVAF (velocity only)\n",
    "from Neural_Decoding.metrics import compute_XY_FVAF\n",
    "\n",
    "XY_FVAF_Filt = []\n",
    "for i in range(len(Kalman_R2s_XY_Filt)):\n",
    "    #curr_bucket = Kalman_R2s_combined[i]\n",
    "    vel_x_nom = Kalman_R2s_XY_Filt[i][0][0] # dim = (curr_bucket, nom, x_vel)\n",
    "    vel_x_denom = Kalman_R2s_XY_Filt[i][1][0] # dim = (curr_bucket, denom, x_vel)\n",
    "    vel_y_nom = Kalman_R2s_XY_Filt[i][0][1] # dim = (curr_bucket, nom, y_vel)\n",
    "    vel_y_denom = Kalman_R2s_XY_Filt[i][1][1] # dim = (curr_bucket, denom, y_vel)\n",
    "\n",
    "    curr_bucket_XY_FVAF = compute_XY_FVAF(vel_x_nom,vel_x_denom,vel_y_nom,vel_y_denom)\n",
    "    XY_FVAF_Filt.append(curr_bucket_XY_FVAF)\n",
    "\n",
    "XY_FVAF_Filt"
   ]
  },
  {
   "cell_type": "code",
   "execution_count": null,
   "metadata": {},
   "outputs": [],
   "source": [
    "# Determining what y_test, y_test_pred look like in order to get the right nom and denom for R^2\n",
    "len(Kalman_R2s_XY)\n",
    "\n",
    "# Iterating through the 16 buckets' validation values\n",
    "Kalman_R2s_XY[0].shape\n",
    "\n",
    "# dim1 = 16 buckets, dim2 = y_test or y_test_pred, dim3 = # of validation samples, and dim4 = 6 kinematics \n",
    "Kalman_R2s_XY[0][0][0][0]\n",
    "\n",
    "Kalman_R2s_XY[0][:,0].shape\n",
    "Kalman_R2s_XY[0][:,0]"
   ]
  },
  {
   "cell_type": "code",
   "execution_count": null,
   "metadata": {},
   "outputs": [],
   "source": [
    "# Testing FVAF calculation on 1st bucket \n",
    "\n",
    "y_test = Kalman_R2s_XY[0][0]\n",
    "y_test.shape\n",
    "y_test_pred = Kalman_R2s_XY[0][1]\n",
    "y_test_pred.shape\n",
    "\n",
    "y_test.shape[1]\n",
    "range(y_test.shape[1])\n",
    "\n",
    "# dim = (162,6)\n",
    "# Want to sum over all samples for each kinematic \n",
    "nom_list = []\n",
    "for i in range(y_test.shape[1]): #Loop through outputs\n",
    "    #nom = np.sum((y_test_pred[:,i]-y_test[:,i])**2) \n",
    "    nom = np.sum((y_test_pred[:,i]-y_test[:,i])**2)\n",
    "    nom_list.append(nom)\n",
    "\n",
    "nom.shape \n",
    "len(nom_list)\n",
    "nom_list"
   ]
  },
  {
   "cell_type": "code",
   "execution_count": null,
   "metadata": {},
   "outputs": [],
   "source": [
    "kf_R2s_Y_Comp = []\n",
    "kf_Rho_Y_Comp = []\n",
    "\n",
    "for i in range(len(sort_In)):\n",
    "    X_kf = sort_In[i]\n",
    "    y_kf = y_kf_Y[i]\n",
    "    num_examples_kf=X_kf.shape[0] # nRows (b/c nCols = number of units)\n",
    "\n",
    "    #Note that each range has a buffer of 1 bin at the beginning and end\n",
    "    #This makes it so that the different sets don't include overlapping data\n",
    "    training_set=np.arange(int(np.round(training_range[0]*num_examples_kf))+1,int(np.round(training_range[1]*num_examples_kf))-1)\n",
    "    testing_set=np.arange(int(np.round(testing_range[0]*num_examples_kf))+1,int(np.round(testing_range[1]*num_examples_kf))-1)\n",
    "    valid_set=np.arange(int(np.round(valid_range[0]*num_examples_kf))+1,int(np.round(valid_range[1]*num_examples_kf))-1)\n",
    "\n",
    "    #Get training data\n",
    "    X_kf_train=X_kf[training_set,:]\n",
    "    y_kf_train=y_kf[training_set,:]\n",
    "\n",
    "    #Get testing data\n",
    "    X_kf_test=X_kf[testing_set,:]\n",
    "    y_kf_test=y_kf[testing_set,:]\n",
    "\n",
    "    #Get validation data\n",
    "    X_kf_valid=X_kf[valid_set,:]\n",
    "    y_kf_valid=y_kf[valid_set,:]\n",
    "\n",
    "    #Z-score inputs \n",
    "    X_kf_train_mean=np.nanmean(X_kf_train,axis=0)\n",
    "    X_kf_train_std=np.nanstd(X_kf_train,axis=0)\n",
    "    X_kf_train=(X_kf_train-X_kf_train_mean)/X_kf_train_std\n",
    "    X_kf_test=(X_kf_test-X_kf_train_mean)/X_kf_train_std\n",
    "    X_kf_valid=(X_kf_valid-X_kf_train_mean)/X_kf_train_std\n",
    "\n",
    "    #Zero-center outputs\n",
    "    y_kf_train_mean=np.mean(y_kf_train,axis=0)\n",
    "    y_kf_train=y_kf_train-y_kf_train_mean\n",
    "    y_kf_test=y_kf_test-y_kf_train_mean\n",
    "    y_kf_valid=y_kf_valid-y_kf_train_mean\n",
    "\n",
    "    #Declare model\n",
    "    model_kf=KalmanFilterDecoder(C=1) #There is one optional parameter (see ReadMe)\n",
    "\n",
    "    #Fit model\n",
    "    model_kf.fit(X_kf_train,y_kf_train)\n",
    "\n",
    "    #Get predictions\n",
    "    y_valid_predicted_kf=model_kf.predict(X_kf_valid,y_kf_valid)\n",
    "\n",
    "    #Get metrics of fit (see read me for more details on the differences between metrics)\n",
    "    #First I'll get the R^2\n",
    "    R2_kf=get_R2_parts(y_kf_valid,y_valid_predicted_kf)\n",
    "    #print('R2:',R2_kf[0:2]) #I'm just printing the R^2's of the 1st and 2nd entries that correspond to the positions\n",
    "    kf_R2s_Y_Comp.append(R2_kf)\n",
    "\n",
    "    #Next I'll get the rho^2 (the pearson correlation squared)\n",
    "    rho_kf=get_rho(y_kf_valid,y_valid_predicted_kf)\n",
    "    #print('rho2:',rho_kf[0:2]**2) #I'm just printing the rho^2's of the 1st and 2nd entries that correspond to the positions\n",
    "    kf_Rho_Y_Comp.append(rho_kf)"
   ]
  },
  {
   "cell_type": "code",
   "execution_count": null,
   "metadata": {},
   "outputs": [],
   "source": [
    "# Saving results in a matlab file \n",
    "\n",
    "from scipy.io import savemat\n",
    "import numpy\n",
    "\n",
    "# L = [kf_R2s_X_Comp, kf_R2s_Y_Comp] # kf_Rho_X_Comp, kf_Rho_Y_Comp\n",
    "L = [Kalman_R2s_combined, XY_FVAF]\n",
    "\n",
    "FrameStack = np.empty((2,), dtype=object)\n",
    "for i in range(len(L)):\n",
    "    FrameStack[i] = L[i]\n",
    "\n",
    "savemat(\"KalmanModelOutputsUpdated.mat\", {\"KalmanOutputs\":FrameStack})"
   ]
  },
  {
   "cell_type": "markdown",
   "metadata": {},
   "source": [
    "## 5. Make Plots"
   ]
  },
  {
   "cell_type": "code",
   "execution_count": null,
   "metadata": {
    "collapsed": false
   },
   "outputs": [
    {
     "data": {
      "text/plain": [
       "[<matplotlib.lines.Line2D at 0x146514460>]"
      ]
     },
     "execution_count": 137,
     "metadata": {},
     "output_type": "execute_result"
    },
    {
     "data": {
      "text/plain": [
       "[<matplotlib.lines.Line2D at 0x146514820>]"
      ]
     },
     "execution_count": 137,
     "metadata": {},
     "output_type": "execute_result"
    },
    {
     "data": {
      "image/png": "[encoded data removed]",
      "text/plain": [
       "<Figure size 432x288 with 1 Axes>"
      ]
     },
     "metadata": {
      "needs_background": "light"
     },
     "output_type": "display_data"
    }
   ],
   "source": [
    "#As an example, I plot an example 3000 values of the x position (column index 0), both true and predicted with the Kalman filter\n",
    "#Note that I add back in the mean value, so that both true and predicted values are in the original coordinates\n",
    "fig_x_kf=plt.figure()\n",
    "plt.plot(y_kf_valid[2000:5000,0]+y_kf_train_mean[0],'b')\n",
    "plt.plot(y_valid_predicted_kf[2000:5000,0]+y_kf_train_mean[0],'r')\n",
    "#Save figure\n",
    "# fig_x_kf.savefig('x_position_decoding.eps')"
   ]
  }
 ],
 "metadata": {
  "anaconda-cloud": {},
  "interpreter": {
   "hash": "31f2aee4e71d21fbe5cf8b01ff0e069b9275f58929596ceb00d14d90e3e16cd6"
  },
  "kernelspec": {
   "display_name": "Python 3.8.9 64-bit",
   "language": "python",
   "name": "python3"
  },
  "language_info": {
   "codemirror_mode": {
    "name": "ipython",
    "version": 3
   },
   "file_extension": ".py",
   "mimetype": "text/x-python",
   "name": "python",
   "nbconvert_exporter": "python",
   "pygments_lexer": "ipython3",
   "version": "3.9.6"
  }
 },
 "nbformat": 4,
 "nbformat_minor": 0
}
